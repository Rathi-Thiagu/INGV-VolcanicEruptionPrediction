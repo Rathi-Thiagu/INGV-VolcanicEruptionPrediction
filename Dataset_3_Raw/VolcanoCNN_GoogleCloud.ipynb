{
 "cells": [
  {
   "cell_type": "markdown",
   "metadata": {},
   "source": [
    "#### Concolutional Neural Network(CNN) on raw Dataset 3 using Google Cloud services (TPU). \n",
    "Total No of data = 4431 where each of the 4431 instances have 60001 observations with 10 features\n",
    "\n",
    "Since we wanted to train the model for the all the timeseries observations of every instance , we tried hardware optimization using TPU. However we again ended up having memeory issues.\n",
    "\n",
    "    \"Unable to allocate 20.2 GiB for an array with shape (4520, 60001, 10) and data type float64\""
   ]
  },
  {
   "cell_type": "code",
   "execution_count": null,
   "metadata": {},
   "outputs": [],
   "source": [
    "!kaggle competitions download -c predict-volcanic-eruptions-ingv-oe"
   ]
  },
  {
   "cell_type": "code",
   "execution_count": 1,
   "metadata": {},
   "outputs": [],
   "source": [
    "import pandas as pd\n",
    "import numpy as np\n",
    "import os\n",
    "from tqdm import tqdm\n",
    "import importlib \n",
    "import csv\n",
    "from sklearn import metrics\n",
    "from sklearn.metrics import accuracy_score \n",
    "from sklearn.metrics import classification_report\n",
    "from sklearn.metrics import confusion_matrix\n",
    "from sklearn.model_selection import train_test_split\n",
    "#import preprocessing\n",
    "#importlib.reload(preprocessing)\n",
    "#from preprocessing import *\n",
    "import warnings\n",
    "warnings.filterwarnings('ignore')\n",
    "import tensorflow as tf\n",
    "from tensorflow import keras\n",
    "from tensorflow.keras.models import Sequential, model_from_json\n",
    "from tensorflow.keras.layers import Conv1D,Conv2D,MaxPooling1D,MaxPooling2D,Flatten,Dense,Dropout,BatchNormalization, GRU, LSTM, RNN\n",
    "from tensorflow.keras import regularizers as reg"
   ]
  },
  {
   "cell_type": "code",
   "execution_count": null,
   "metadata": {},
   "outputs": [],
   "source": [
    "!ls /home/jupyter"
   ]
  },
  {
   "cell_type": "code",
   "execution_count": null,
   "metadata": {},
   "outputs": [],
   "source": [
    "!unzip /home/jupyter/predict-volcanic-eruptions-ingv-oe.zip /home/jupyter/volcano/"
   ]
  },
  {
   "cell_type": "code",
   "execution_count": null,
   "metadata": {},
   "outputs": [],
   "source": [
    "!mkdir /home/jupyter/volcano/"
   ]
  },
  {
   "cell_type": "code",
   "execution_count": null,
   "metadata": {},
   "outputs": [],
   "source": [
    "!unzip -qq /home/jupyter/predict-volcanic-eruptions-ingv-oe.zip -d /home/jupyter/volcano/"
   ]
  },
  {
   "cell_type": "code",
   "execution_count": 2,
   "metadata": {},
   "outputs": [],
   "source": [
    "volcano = pd.read_csv('/home/jupyter/volcano/train.csv')\n",
    "TRAINDIR = f\"/home/jupyter/volcano/train\"\n",
    "TESTDIR = f\"/home/jupyter/volcano/test\""
   ]
  },
  {
   "cell_type": "code",
   "execution_count": 3,
   "metadata": {},
   "outputs": [],
   "source": [
    "X_Id = volcano['segment_id']\n",
    "X_Erupt = volcano['time_to_eruption']\n",
    "\n",
    "X_dict = dict(zip(X_Id, X_Erupt))"
   ]
  },
  {
   "cell_type": "code",
   "execution_count": 4,
   "metadata": {},
   "outputs": [
    {
     "name": "stderr",
     "output_type": "stream",
     "text": [
      "100%|██████████| 4431/4431 [11:05<00:00,  6.66it/s]"
     ]
    },
    {
     "name": "stdout",
     "output_type": "stream",
     "text": [
      "Training data length: 4431, 4431\n"
     ]
    },
    {
     "name": "stderr",
     "output_type": "stream",
     "text": [
      "\n"
     ]
    }
   ],
   "source": [
    "from sklearn import preprocessing\n",
    "import time\n",
    "\n",
    "training_data = []\n",
    "training_labels = []\n",
    "new_array = []\n",
    "\n",
    "# time.sleep(10)\n",
    "\n",
    "def sanitize(string):\n",
    "    try:\n",
    "        string = string.decode()\n",
    "    except (UnicodeDecodeError, AttributeError):\n",
    "        pass\n",
    "    return string\n",
    "\n",
    "def get_file_name(file_path):\n",
    "    file_path = sanitize(file_path)\n",
    "    return file_path.split(\"/\")[-1].split(\".\")[0]\n",
    "\n",
    "def data_normalizing(signals):\n",
    "    min_max_scaler = preprocessing.MinMaxScaler()\n",
    "    x_scaled = min_max_scaler.fit_transform(signals)\n",
    "    signals_normalized = pd.DataFrame(x_scaled)\n",
    "    return(signals_normalized)\n",
    "\n",
    "def create_training_data():\n",
    "    try:\n",
    "#         count = 0\n",
    "        for file in tqdm(os.listdir(TRAINDIR)):\n",
    "            file_path = os.path.join(TRAINDIR, file)\n",
    "            with open(file_path) as csvfile:\n",
    "                reader = pd.read_csv(csvfile).replace([np.inf, -np.inf, np.nan], 0)\n",
    "                notebook_normalized = np.array(data_normalizing(reader))\n",
    "                training_data.append(notebook_normalized)\n",
    "                \n",
    "                file_name = get_file_name(file_path)\n",
    "                \n",
    "                training_label = X_dict[float(file_name)]\n",
    "                training_label = np.array([training_label])\n",
    "                \n",
    "                training_labels.append(training_label)\n",
    "            \n",
    "#             count += 1\n",
    "#             if count == 3:\n",
    "#                 break\n",
    "\n",
    "    except Exception as e:\n",
    "        print(\"Exception: {0}\".format(e))\n",
    "\n",
    "create_training_data()\n",
    "print(\"Training data length: {0}, {1}\".format(len(training_data), len(training_labels)))"
   ]
  },
  {
   "cell_type": "code",
   "execution_count": 5,
   "metadata": {},
   "outputs": [
    {
     "name": "stdout",
     "output_type": "stream",
     "text": [
      "(4431, 60001, 10, 1)\n",
      "(4431, 1)\n"
     ]
    }
   ],
   "source": [
    "##For CNN\n",
    "# X_train = np.array(training_data).reshape(-1, 60001, 10, 1)\n",
    "# y_train = np.array(training_labels).reshape(-1,1)\n",
    "\n",
    "#For RNN\n",
    "X_train = np.array(training_data).reshape(60001, 1, 10)\n",
    "y_train = np.array(training_labels).reshape(-1,1)\n",
    "print(X_train.shape)\n",
    "print(y_train.shape)"
   ]
  },
  {
   "cell_type": "code",
   "execution_count": 13,
   "metadata": {},
   "outputs": [
    {
     "name": "stdout",
     "output_type": "stream",
     "text": [
      "(4431, 60001, 10, 1)\n",
      "(4431, 1)\n"
     ]
    }
   ],
   "source": [
    "training_data = []\n",
    "training_labels = []\n",
    "volcano = \"\"\n",
    "X_dict = \"\"\n",
    "X_Erupt = \"\"\n",
    "\n",
    "print(X_train.shape)\n",
    "print(y_train.shape)"
   ]
  },
  {
   "cell_type": "code",
   "execution_count": 6,
   "metadata": {},
   "outputs": [
    {
     "name": "stdout",
     "output_type": "stream",
     "text": [
      "Model: \"sequential\"\n",
      "_________________________________________________________________\n",
      "Layer (type)                 Output Shape              Param #   \n",
      "=================================================================\n",
      "conv2d (Conv2D)              (None, 59999, 8, 32)      320       \n",
      "_________________________________________________________________\n",
      "batch_normalization (BatchNo (None, 59999, 8, 32)      128       \n",
      "_________________________________________________________________\n",
      "max_pooling2d (MaxPooling2D) (None, 29999, 4, 32)      0         \n",
      "_________________________________________________________________\n",
      "conv2d_1 (Conv2D)            (None, 29997, 2, 64)      18496     \n",
      "_________________________________________________________________\n",
      "batch_normalization_1 (Batch (None, 29997, 2, 64)      256       \n",
      "_________________________________________________________________\n",
      "max_pooling2d_1 (MaxPooling2 (None, 14998, 1, 64)      0         \n",
      "_________________________________________________________________\n",
      "flatten (Flatten)            (None, 959872)            0         \n",
      "_________________________________________________________________\n",
      "dense (Dense)                (None, 1)                 959873    \n",
      "=================================================================\n",
      "Total params: 979,073\n",
      "Trainable params: 978,881\n",
      "Non-trainable params: 192\n",
      "_________________________________________________________________\n",
      "Epoch 1/100\n",
      "141/141 [==============================] - 66s 469ms/step - loss: 22715170.0000 - mean_absolute_error: 22715164.0000 - val_loss: 23299762.0000 - val_mean_absolute_error: 23299760.0000\n",
      "Epoch 2/100\n",
      "141/141 [==============================] - 64s 456ms/step - loss: 22355744.0000 - mean_absolute_error: 22355742.0000 - val_loss: 23115662.0000 - val_mean_absolute_error: 23115656.0000\n",
      "Epoch 3/100\n",
      "141/141 [==============================] - 64s 455ms/step - loss: 21811720.0000 - mean_absolute_error: 21811714.0000 - val_loss: 22710730.0000 - val_mean_absolute_error: 22710724.0000\n",
      "Epoch 4/100\n",
      "141/141 [==============================] - 64s 456ms/step - loss: 21095456.0000 - mean_absolute_error: 21095450.0000 - val_loss: 21962034.0000 - val_mean_absolute_error: 21962024.0000\n",
      "Epoch 5/100\n",
      "141/141 [==============================] - 64s 456ms/step - loss: 20229430.0000 - mean_absolute_error: 20229416.0000 - val_loss: 20447056.0000 - val_mean_absolute_error: 20447042.0000\n",
      "Epoch 6/100\n",
      "141/141 [==============================] - 64s 455ms/step - loss: 19233304.0000 - mean_absolute_error: 19233298.0000 - val_loss: 20769552.0000 - val_mean_absolute_error: 20769540.0000\n",
      "Epoch 7/100\n",
      "141/141 [==============================] - 64s 455ms/step - loss: 18166130.0000 - mean_absolute_error: 18166124.0000 - val_loss: 19621328.0000 - val_mean_absolute_error: 19621316.0000\n",
      "Epoch 8/100\n",
      "141/141 [==============================] - 64s 455ms/step - loss: 17040706.0000 - mean_absolute_error: 17040696.0000 - val_loss: 17837584.0000 - val_mean_absolute_error: 17837570.0000\n",
      "Epoch 9/100\n",
      "141/141 [==============================] - 64s 455ms/step - loss: 15950628.0000 - mean_absolute_error: 15950612.0000 - val_loss: 14010576.0000 - val_mean_absolute_error: 14010559.0000\n",
      "Epoch 10/100\n",
      "141/141 [==============================] - 64s 455ms/step - loss: 14916212.0000 - mean_absolute_error: 14916199.0000 - val_loss: 15883925.0000 - val_mean_absolute_error: 15883910.0000\n",
      "Epoch 11/100\n",
      "141/141 [==============================] - 64s 455ms/step - loss: 13880362.0000 - mean_absolute_error: 13880348.0000 - val_loss: 15861973.0000 - val_mean_absolute_error: 15861957.0000\n",
      "Epoch 12/100\n",
      "141/141 [==============================] - 64s 455ms/step - loss: 13001188.0000 - mean_absolute_error: 13001172.0000 - val_loss: 15728565.0000 - val_mean_absolute_error: 15728549.0000\n",
      "Epoch 13/100\n",
      "141/141 [==============================] - 64s 455ms/step - loss: 12211985.0000 - mean_absolute_error: 12211970.0000 - val_loss: 14146890.0000 - val_mean_absolute_error: 14146873.0000\n",
      "Epoch 14/100\n",
      "141/141 [==============================] - 64s 455ms/step - loss: 11497737.0000 - mean_absolute_error: 11497719.0000 - val_loss: 14618813.0000 - val_mean_absolute_error: 14618796.0000\n",
      "Epoch 15/100\n",
      "141/141 [==============================] - 64s 455ms/step - loss: 10918546.0000 - mean_absolute_error: 10918533.0000 - val_loss: 12096208.0000 - val_mean_absolute_error: 12096190.0000\n",
      "Epoch 16/100\n",
      "141/141 [==============================] - 64s 455ms/step - loss: 10447443.0000 - mean_absolute_error: 10447425.0000 - val_loss: 12477863.0000 - val_mean_absolute_error: 12477845.0000\n",
      "Epoch 17/100\n",
      "141/141 [==============================] - 64s 455ms/step - loss: 10113224.0000 - mean_absolute_error: 10113206.0000 - val_loss: 15118164.0000 - val_mean_absolute_error: 15118146.0000\n",
      "Epoch 18/100\n",
      "141/141 [==============================] - 64s 455ms/step - loss: 9703211.0000 - mean_absolute_error: 9703196.0000 - val_loss: 12632920.0000 - val_mean_absolute_error: 12632899.0000\n",
      "Epoch 19/100\n",
      "141/141 [==============================] - 64s 455ms/step - loss: 9586521.0000 - mean_absolute_error: 9586502.0000 - val_loss: 9646844.0000 - val_mean_absolute_error: 9646826.0000\n",
      "Epoch 20/100\n",
      "141/141 [==============================] - 64s 455ms/step - loss: 9241306.0000 - mean_absolute_error: 9241289.0000 - val_loss: 9900928.0000 - val_mean_absolute_error: 9900908.0000\n",
      "Epoch 21/100\n",
      "141/141 [==============================] - 64s 455ms/step - loss: 9128332.0000 - mean_absolute_error: 9128313.0000 - val_loss: 9859363.0000 - val_mean_absolute_error: 9859342.0000\n",
      "Epoch 22/100\n",
      "141/141 [==============================] - 64s 455ms/step - loss: 8996594.0000 - mean_absolute_error: 8996574.0000 - val_loss: 10490532.0000 - val_mean_absolute_error: 10490513.0000\n",
      "Epoch 23/100\n",
      "141/141 [==============================] - 64s 455ms/step - loss: 8968126.0000 - mean_absolute_error: 8968109.0000 - val_loss: 10027259.0000 - val_mean_absolute_error: 10027239.0000\n",
      "Epoch 24/100\n",
      "141/141 [==============================] - 64s 455ms/step - loss: 8808506.0000 - mean_absolute_error: 8808484.0000 - val_loss: 9255619.0000 - val_mean_absolute_error: 9255599.0000\n",
      "Epoch 25/100\n",
      "141/141 [==============================] - 64s 455ms/step - loss: 8794111.0000 - mean_absolute_error: 8794091.0000 - val_loss: 9306027.0000 - val_mean_absolute_error: 9306007.0000\n",
      "Epoch 26/100\n",
      "141/141 [==============================] - 64s 455ms/step - loss: 8775639.0000 - mean_absolute_error: 8775619.0000 - val_loss: 9874589.0000 - val_mean_absolute_error: 9874567.0000\n",
      "Epoch 27/100\n",
      "141/141 [==============================] - 64s 455ms/step - loss: 8669200.0000 - mean_absolute_error: 8669178.0000 - val_loss: 9456871.0000 - val_mean_absolute_error: 9456850.0000\n",
      "Epoch 28/100\n",
      "141/141 [==============================] - 64s 455ms/step - loss: 8711423.0000 - mean_absolute_error: 8711401.0000 - val_loss: 11327782.0000 - val_mean_absolute_error: 11327760.0000\n",
      "Epoch 29/100\n",
      "141/141 [==============================] - 64s 455ms/step - loss: 8593757.0000 - mean_absolute_error: 8593736.0000 - val_loss: 10344255.0000 - val_mean_absolute_error: 10344234.0000\n",
      "Epoch 30/100\n",
      "141/141 [==============================] - 64s 455ms/step - loss: 8540997.0000 - mean_absolute_error: 8540974.0000 - val_loss: 9421708.0000 - val_mean_absolute_error: 9421685.0000\n",
      "Epoch 31/100\n",
      "141/141 [==============================] - 64s 455ms/step - loss: 8549583.0000 - mean_absolute_error: 8549562.0000 - val_loss: 9152534.0000 - val_mean_absolute_error: 9152512.0000\n",
      "Epoch 32/100\n",
      "141/141 [==============================] - 64s 455ms/step - loss: 8458089.0000 - mean_absolute_error: 8458067.0000 - val_loss: 10080047.0000 - val_mean_absolute_error: 10080024.0000\n",
      "Epoch 33/100\n",
      "141/141 [==============================] - 64s 455ms/step - loss: 8533793.0000 - mean_absolute_error: 8533772.0000 - val_loss: 12188286.0000 - val_mean_absolute_error: 12188263.0000\n",
      "Epoch 34/100\n",
      "141/141 [==============================] - 64s 455ms/step - loss: 8531091.0000 - mean_absolute_error: 8531069.0000 - val_loss: 8828300.0000 - val_mean_absolute_error: 8828276.0000\n",
      "Epoch 35/100\n",
      "141/141 [==============================] - 64s 455ms/step - loss: 8394022.0000 - mean_absolute_error: 8393998.0000 - val_loss: 9472319.0000 - val_mean_absolute_error: 9472296.0000\n",
      "Epoch 36/100\n",
      "141/141 [==============================] - 64s 455ms/step - loss: 8371917.5000 - mean_absolute_error: 8371897.0000 - val_loss: 10599485.0000 - val_mean_absolute_error: 10599462.0000\n",
      "Epoch 37/100\n",
      "141/141 [==============================] - 64s 455ms/step - loss: 8444364.0000 - mean_absolute_error: 8444342.0000 - val_loss: 16665715.0000 - val_mean_absolute_error: 16665692.0000\n",
      "Epoch 38/100\n",
      "141/141 [==============================] - 64s 455ms/step - loss: 8421542.0000 - mean_absolute_error: 8421518.0000 - val_loss: 12205920.0000 - val_mean_absolute_error: 12205895.0000\n",
      "Epoch 39/100\n",
      "141/141 [==============================] - 64s 455ms/step - loss: 8366570.0000 - mean_absolute_error: 8366544.5000 - val_loss: 10704588.0000 - val_mean_absolute_error: 10704565.0000\n",
      "Epoch 40/100\n",
      "141/141 [==============================] - 64s 455ms/step - loss: 8231323.0000 - mean_absolute_error: 8231297.0000 - val_loss: 15062168.0000 - val_mean_absolute_error: 15062144.0000\n",
      "Epoch 41/100\n",
      "141/141 [==============================] - 64s 455ms/step - loss: 8342812.5000 - mean_absolute_error: 8342788.0000 - val_loss: 10808950.0000 - val_mean_absolute_error: 10808924.0000\n",
      "Epoch 42/100\n",
      "141/141 [==============================] - 64s 455ms/step - loss: 8325636.5000 - mean_absolute_error: 8325609.0000 - val_loss: 8859026.0000 - val_mean_absolute_error: 8859001.0000\n",
      "Epoch 43/100\n",
      "141/141 [==============================] - 64s 455ms/step - loss: 8220929.0000 - mean_absolute_error: 8220906.5000 - val_loss: 8548968.0000 - val_mean_absolute_error: 8548944.0000\n",
      "Epoch 44/100\n",
      "141/141 [==============================] - 64s 455ms/step - loss: 8274971.0000 - mean_absolute_error: 8274944.0000 - val_loss: 8985561.0000 - val_mean_absolute_error: 8985535.0000\n",
      "Epoch 45/100\n",
      "141/141 [==============================] - 64s 455ms/step - loss: 8232074.5000 - mean_absolute_error: 8232049.0000 - val_loss: 10042731.0000 - val_mean_absolute_error: 10042706.0000\n",
      "Epoch 46/100\n",
      "141/141 [==============================] - 64s 455ms/step - loss: 8173955.0000 - mean_absolute_error: 8173932.5000 - val_loss: 8770235.0000 - val_mean_absolute_error: 8770209.0000\n",
      "Epoch 47/100\n",
      "141/141 [==============================] - 64s 455ms/step - loss: 8226176.0000 - mean_absolute_error: 8226153.0000 - val_loss: 8765947.0000 - val_mean_absolute_error: 8765920.0000\n",
      "Epoch 48/100\n",
      "141/141 [==============================] - 64s 455ms/step - loss: 8108345.5000 - mean_absolute_error: 8108322.0000 - val_loss: 10226841.0000 - val_mean_absolute_error: 10226816.0000\n",
      "Epoch 49/100\n",
      "141/141 [==============================] - 64s 455ms/step - loss: 8098391.5000 - mean_absolute_error: 8098367.0000 - val_loss: 9746153.0000 - val_mean_absolute_error: 9746126.0000\n",
      "Epoch 50/100\n",
      "141/141 [==============================] - 64s 455ms/step - loss: 8115141.0000 - mean_absolute_error: 8115114.0000 - val_loss: 12038511.0000 - val_mean_absolute_error: 12038484.0000\n",
      "Epoch 51/100\n",
      "141/141 [==============================] - 64s 455ms/step - loss: 8089392.0000 - mean_absolute_error: 8089365.0000 - val_loss: 8789921.0000 - val_mean_absolute_error: 8789894.0000\n",
      "Epoch 52/100\n",
      "141/141 [==============================] - 64s 454ms/step - loss: 8088953.5000 - mean_absolute_error: 8088924.0000 - val_loss: 8388703.0000 - val_mean_absolute_error: 8388677.0000\n",
      "Epoch 53/100\n",
      "141/141 [==============================] - 64s 455ms/step - loss: 8174606.0000 - mean_absolute_error: 8174580.5000 - val_loss: 10601073.0000 - val_mean_absolute_error: 10601046.0000\n",
      "Epoch 54/100\n",
      "141/141 [==============================] - 64s 455ms/step - loss: 8152207.5000 - mean_absolute_error: 8152179.0000 - val_loss: 10862030.0000 - val_mean_absolute_error: 10862004.0000\n",
      "Epoch 55/100\n",
      "141/141 [==============================] - 64s 455ms/step - loss: 8041144.5000 - mean_absolute_error: 8041114.0000 - val_loss: 15746250.0000 - val_mean_absolute_error: 15746223.0000\n",
      "Epoch 56/100\n",
      "141/141 [==============================] - 64s 454ms/step - loss: 8116779.5000 - mean_absolute_error: 8116753.0000 - val_loss: 8169329.0000 - val_mean_absolute_error: 8169301.0000\n",
      "Epoch 57/100\n",
      "141/141 [==============================] - 64s 455ms/step - loss: 8011034.0000 - mean_absolute_error: 8011005.0000 - val_loss: 8490666.0000 - val_mean_absolute_error: 8490637.0000\n",
      "Epoch 58/100\n",
      "141/141 [==============================] - 64s 455ms/step - loss: 8069688.0000 - mean_absolute_error: 8069659.5000 - val_loss: 8344343.5000 - val_mean_absolute_error: 8344315.5000\n",
      "Epoch 59/100\n",
      "141/141 [==============================] - 64s 454ms/step - loss: 7971493.5000 - mean_absolute_error: 7971464.0000 - val_loss: 8421991.0000 - val_mean_absolute_error: 8421962.0000\n",
      "Epoch 60/100\n",
      "141/141 [==============================] - 64s 454ms/step - loss: 8115618.0000 - mean_absolute_error: 8115594.5000 - val_loss: 8857191.0000 - val_mean_absolute_error: 8857164.0000\n",
      "Epoch 61/100\n",
      "141/141 [==============================] - 64s 454ms/step - loss: 7995761.0000 - mean_absolute_error: 7995730.5000 - val_loss: 8398540.0000 - val_mean_absolute_error: 8398512.0000\n",
      "Epoch 62/100\n",
      "141/141 [==============================] - 64s 455ms/step - loss: 8024897.5000 - mean_absolute_error: 8024869.0000 - val_loss: 8145061.0000 - val_mean_absolute_error: 8145032.5000\n",
      "Epoch 63/100\n",
      "141/141 [==============================] - 64s 455ms/step - loss: 8017386.5000 - mean_absolute_error: 8017357.5000 - val_loss: 9308302.0000 - val_mean_absolute_error: 9308273.0000\n",
      "Epoch 64/100\n",
      "141/141 [==============================] - 64s 455ms/step - loss: 7900937.0000 - mean_absolute_error: 7900908.0000 - val_loss: 20748344.0000 - val_mean_absolute_error: 20748316.0000\n",
      "Epoch 65/100\n",
      "141/141 [==============================] - 64s 455ms/step - loss: 7875180.0000 - mean_absolute_error: 7875147.0000 - val_loss: 9328587.0000 - val_mean_absolute_error: 9328557.0000\n",
      "Epoch 66/100\n",
      "141/141 [==============================] - 64s 455ms/step - loss: 8143758.5000 - mean_absolute_error: 8143730.5000 - val_loss: 12078770.0000 - val_mean_absolute_error: 12078742.0000\n",
      "Epoch 67/100\n",
      "141/141 [==============================] - 64s 455ms/step - loss: 7938998.0000 - mean_absolute_error: 7938968.5000 - val_loss: 10187572.0000 - val_mean_absolute_error: 10187542.0000\n",
      "Epoch 68/100\n",
      "141/141 [==============================] - 64s 455ms/step - loss: 7993630.5000 - mean_absolute_error: 7993602.0000 - val_loss: 9971590.0000 - val_mean_absolute_error: 9971559.0000\n",
      "Epoch 69/100\n",
      "141/141 [==============================] - 64s 455ms/step - loss: 7816639.0000 - mean_absolute_error: 7816609.0000 - val_loss: 8316173.5000 - val_mean_absolute_error: 8316143.5000\n",
      "Epoch 70/100\n",
      "141/141 [==============================] - 64s 455ms/step - loss: 7870622.5000 - mean_absolute_error: 7870595.0000 - val_loss: 12091803.0000 - val_mean_absolute_error: 12091771.0000\n",
      "Epoch 71/100\n",
      "141/141 [==============================] - 64s 454ms/step - loss: 7880296.0000 - mean_absolute_error: 7880266.0000 - val_loss: 7985290.0000 - val_mean_absolute_error: 7985260.0000\n",
      "Epoch 72/100\n",
      "141/141 [==============================] - 64s 455ms/step - loss: 7893833.5000 - mean_absolute_error: 7893804.5000 - val_loss: 9145598.0000 - val_mean_absolute_error: 9145567.0000\n",
      "Epoch 73/100\n",
      "141/141 [==============================] - 64s 455ms/step - loss: 7829410.0000 - mean_absolute_error: 7829378.0000 - val_loss: 8733445.0000 - val_mean_absolute_error: 8733415.0000\n",
      "Epoch 74/100\n",
      "141/141 [==============================] - 64s 455ms/step - loss: 7812637.0000 - mean_absolute_error: 7812603.5000 - val_loss: 9745777.0000 - val_mean_absolute_error: 9745746.0000\n",
      "Epoch 75/100\n",
      "141/141 [==============================] - 64s 455ms/step - loss: 7851980.5000 - mean_absolute_error: 7851948.0000 - val_loss: 8975004.0000 - val_mean_absolute_error: 8974972.0000\n",
      "Epoch 76/100\n",
      "141/141 [==============================] - 64s 455ms/step - loss: 7916522.5000 - mean_absolute_error: 7916492.5000 - val_loss: 18713476.0000 - val_mean_absolute_error: 18713444.0000\n",
      "Epoch 77/100\n",
      "141/141 [==============================] - 64s 454ms/step - loss: 7882235.5000 - mean_absolute_error: 7882204.0000 - val_loss: 9946671.0000 - val_mean_absolute_error: 9946641.0000\n",
      "Epoch 78/100\n",
      "141/141 [==============================] - 64s 455ms/step - loss: 7883310.0000 - mean_absolute_error: 7883276.0000 - val_loss: 9042147.0000 - val_mean_absolute_error: 9042115.0000\n",
      "Epoch 79/100\n",
      "141/141 [==============================] - 64s 455ms/step - loss: 7774296.5000 - mean_absolute_error: 7774264.0000 - val_loss: 9538436.0000 - val_mean_absolute_error: 9538404.0000\n",
      "Epoch 80/100\n",
      "141/141 [==============================] - 64s 454ms/step - loss: 7756818.0000 - mean_absolute_error: 7756786.5000 - val_loss: 8581119.0000 - val_mean_absolute_error: 8581087.0000\n",
      "Epoch 81/100\n",
      "141/141 [==============================] - 64s 454ms/step - loss: 7776448.0000 - mean_absolute_error: 7776417.0000 - val_loss: 9031227.0000 - val_mean_absolute_error: 9031195.0000\n",
      "Epoch 82/100\n",
      "141/141 [==============================] - 64s 455ms/step - loss: 7722830.0000 - mean_absolute_error: 7722798.5000 - val_loss: 10227773.0000 - val_mean_absolute_error: 10227741.0000\n",
      "Epoch 83/100\n",
      "141/141 [==============================] - 64s 455ms/step - loss: 7664700.0000 - mean_absolute_error: 7664663.5000 - val_loss: 9207137.0000 - val_mean_absolute_error: 9207106.0000\n",
      "Epoch 84/100\n",
      "141/141 [==============================] - 64s 454ms/step - loss: 7777503.0000 - mean_absolute_error: 7777469.0000 - val_loss: 7960835.0000 - val_mean_absolute_error: 7960803.5000\n",
      "Epoch 85/100\n",
      "141/141 [==============================] - 64s 454ms/step - loss: 7735295.0000 - mean_absolute_error: 7735262.5000 - val_loss: 8713135.0000 - val_mean_absolute_error: 8713102.0000\n",
      "Epoch 86/100\n",
      "141/141 [==============================] - 64s 454ms/step - loss: 7741841.5000 - mean_absolute_error: 7741810.5000 - val_loss: 10881812.0000 - val_mean_absolute_error: 10881777.0000\n",
      "Epoch 87/100\n",
      "141/141 [==============================] - 64s 455ms/step - loss: 7780088.5000 - mean_absolute_error: 7780051.0000 - val_loss: 10999052.0000 - val_mean_absolute_error: 10999019.0000\n",
      "Epoch 88/100\n",
      "141/141 [==============================] - 64s 454ms/step - loss: 7742666.5000 - mean_absolute_error: 7742632.5000 - val_loss: 8956231.0000 - val_mean_absolute_error: 8956198.0000\n",
      "Epoch 89/100\n",
      "141/141 [==============================] - 64s 454ms/step - loss: 7686433.5000 - mean_absolute_error: 7686400.0000 - val_loss: 10685258.0000 - val_mean_absolute_error: 10685224.0000\n",
      "Epoch 90/100\n",
      "141/141 [==============================] - 64s 454ms/step - loss: 7727417.0000 - mean_absolute_error: 7727385.0000 - val_loss: 8275193.0000 - val_mean_absolute_error: 8275159.0000\n",
      "Epoch 91/100\n",
      "141/141 [==============================] - 64s 454ms/step - loss: 7670538.5000 - mean_absolute_error: 7670504.0000 - val_loss: 10037819.0000 - val_mean_absolute_error: 10037784.0000\n",
      "Epoch 92/100\n",
      "141/141 [==============================] - 64s 454ms/step - loss: 7580294.0000 - mean_absolute_error: 7580257.0000 - val_loss: 7720343.5000 - val_mean_absolute_error: 7720309.5000\n",
      "Epoch 93/100\n",
      "141/141 [==============================] - 64s 454ms/step - loss: 7691322.5000 - mean_absolute_error: 7691289.0000 - val_loss: 23342904.0000 - val_mean_absolute_error: 23342868.0000\n",
      "Epoch 94/100\n",
      "141/141 [==============================] - 64s 454ms/step - loss: 7611391.0000 - mean_absolute_error: 7611356.0000 - val_loss: 9132913.0000 - val_mean_absolute_error: 9132879.0000\n",
      "Epoch 95/100\n",
      "141/141 [==============================] - 64s 454ms/step - loss: 7673310.5000 - mean_absolute_error: 7673275.0000 - val_loss: 8487467.0000 - val_mean_absolute_error: 8487433.0000\n",
      "Epoch 96/100\n",
      "141/141 [==============================] - 64s 454ms/step - loss: 7654913.5000 - mean_absolute_error: 7654877.0000 - val_loss: 7634860.0000 - val_mean_absolute_error: 7634825.0000\n",
      "Epoch 97/100\n",
      "141/141 [==============================] - 64s 455ms/step - loss: 7697207.0000 - mean_absolute_error: 7697167.5000 - val_loss: 8741504.0000 - val_mean_absolute_error: 8741469.0000\n",
      "Epoch 98/100\n",
      "141/141 [==============================] - 64s 454ms/step - loss: 7632627.5000 - mean_absolute_error: 7632590.0000 - val_loss: 11037140.0000 - val_mean_absolute_error: 11037106.0000\n",
      "Epoch 99/100\n",
      "141/141 [==============================] - 64s 454ms/step - loss: 7624594.0000 - mean_absolute_error: 7624559.0000 - val_loss: 8575918.0000 - val_mean_absolute_error: 8575883.0000\n",
      "Epoch 100/100\n",
      "141/141 [==============================] - 64s 454ms/step - loss: 7610946.5000 - mean_absolute_error: 7610910.5000 - val_loss: 10317230.0000 - val_mean_absolute_error: 10317194.0000\n"
     ]
    },
    {
     "data": {
      "text/plain": [
       "<tensorflow.python.keras.callbacks.History at 0x7f79ffc397d0>"
      ]
     },
     "execution_count": 6,
     "metadata": {},
     "output_type": "execute_result"
    }
   ],
   "source": [
    "cnn_model = []\n",
    "\n",
    "cnn_model = Sequential()\n",
    "cnn_model.add(Conv2D(32, 3, input_shape = (60001,10,1), activation = 'relu',\n",
    "                     kernel_initializer='normal',kernel_regularizer=reg.l2(0.05)))\n",
    "cnn_model.add(BatchNormalization())\n",
    "cnn_model.add(MaxPooling2D(pool_size = 2))\n",
    "cnn_model.add(Conv2D(64, 3, activation = 'relu',kernel_initializer='normal',kernel_regularizer=reg.l2(0.05)))\n",
    "cnn_model.add(BatchNormalization())\n",
    "cnn_model.add(MaxPooling2D(pool_size = 2))\n",
    "cnn_model.add(Flatten())\n",
    "cnn_model.add(Dense(1, activation = 'linear'))\n",
    "cnn_model.compile(optimizer = 'adam', loss = 'mean_absolute_error', metrics = ['mean_absolute_error'])\n",
    "\n",
    "cnn_model.summary()\n",
    "\n",
    "X_train = X_train.astype('float16')\n",
    "\n",
    "cnn_model.fit(X_train, y_train, batch_size = 30, epochs=100, validation_split=0.05)\n"
   ]
  },
  {
   "cell_type": "code",
   "execution_count": 11,
   "metadata": {},
   "outputs": [
    {
     "name": "stderr",
     "output_type": "stream",
     "text": [
      "100%|██████████| 4520/4520 [11:40<00:00,  6.45it/s]"
     ]
    },
    {
     "name": "stdout",
     "output_type": "stream",
     "text": [
      "4520\n"
     ]
    },
    {
     "name": "stderr",
     "output_type": "stream",
     "text": [
      "\n"
     ]
    }
   ],
   "source": [
    "from sklearn import preprocessing\n",
    "\n",
    "test_data = []\n",
    "\n",
    "def data_normalizing(signals):\n",
    "    min_max_scaler = preprocessing.MinMaxScaler()\n",
    "    x_scaled = min_max_scaler.fit_transform(signals)\n",
    "    signals_normalized = pd.DataFrame(x_scaled)\n",
    "    return(signals_normalized)\n",
    "\n",
    "def create_test_data():  \n",
    "        for file in tqdm(os.listdir(TESTDIR)): \n",
    "            try:\n",
    "                file_path = os.path.join(TESTDIR, file)\n",
    "                with open(file_path) as csvfile:\n",
    "                    reader = pd.read_csv(csvfile).replace([np.inf, -np.inf, np.nan], 0)\n",
    "                    notebook_normalized = np.array(data_normalizing(reader))\n",
    "                    test_data.append(notebook_normalized)\n",
    "                \n",
    "            except Exception as e:\n",
    "                pass\n",
    "\n",
    "create_test_data()\n",
    "\n",
    "print(len(test_data))"
   ]
  },
  {
   "cell_type": "code",
   "execution_count": 7,
   "metadata": {},
   "outputs": [
    {
     "name": "stdout",
     "output_type": "stream",
     "text": [
      "WARNING:tensorflow:From /opt/conda/lib/python3.7/site-packages/tensorflow/python/training/tracking/tracking.py:111: Model.state_updates (from tensorflow.python.keras.engine.training) is deprecated and will be removed in a future version.\n",
      "Instructions for updating:\n",
      "This property should not be used in TensorFlow 2.0, as updates are applied automatically.\n",
      "WARNING:tensorflow:From /opt/conda/lib/python3.7/site-packages/tensorflow/python/training/tracking/tracking.py:111: Layer.updates (from tensorflow.python.keras.engine.base_layer) is deprecated and will be removed in a future version.\n",
      "Instructions for updating:\n",
      "This property should not be used in TensorFlow 2.0, as updates are applied automatically.\n",
      "INFO:tensorflow:Assets written to: model.h5py/assets\n"
     ]
    }
   ],
   "source": [
    "filename = 'model.h5py'\n",
    "cnn_model.save(filename)"
   ]
  },
  {
   "cell_type": "code",
   "execution_count": 9,
   "metadata": {},
   "outputs": [
    {
     "name": "stdout",
     "output_type": "stream",
     "text": [
      "INFO:tensorflow:Assets written to: cnn_model1/assets\n"
     ]
    }
   ],
   "source": [
    "cnn_model.save(\"cnn_model1\")"
   ]
  },
  {
   "cell_type": "code",
   "execution_count": 14,
   "metadata": {},
   "outputs": [
    {
     "ename": "MemoryError",
     "evalue": "Unable to allocate 20.2 GiB for an array with shape (4520, 60001, 10) and data type float64",
     "output_type": "error",
     "traceback": [
      "\u001b[0;31m---------------------------------------------------------------------------\u001b[0m",
      "\u001b[0;31mMemoryError\u001b[0m                               Traceback (most recent call last)",
      "\u001b[0;32m<ipython-input-14-79fe07151f2f>\u001b[0m in \u001b[0;36m<module>\u001b[0;34m\u001b[0m\n\u001b[1;32m      1\u001b[0m \u001b[0;31m#For CNN\u001b[0m\u001b[0;34m\u001b[0m\u001b[0;34m\u001b[0m\u001b[0;34m\u001b[0m\u001b[0m\n\u001b[0;32m----> 2\u001b[0;31m \u001b[0mX_test\u001b[0m\u001b[0;34m=\u001b[0m\u001b[0mnp\u001b[0m\u001b[0;34m.\u001b[0m\u001b[0marray\u001b[0m\u001b[0;34m(\u001b[0m\u001b[0mtest_data\u001b[0m\u001b[0;34m)\u001b[0m\u001b[0;34m.\u001b[0m\u001b[0mreshape\u001b[0m\u001b[0;34m(\u001b[0m\u001b[0;34m-\u001b[0m\u001b[0;36m1\u001b[0m\u001b[0;34m,\u001b[0m \u001b[0;36m60001\u001b[0m\u001b[0;34m,\u001b[0m \u001b[0;36m10\u001b[0m\u001b[0;34m,\u001b[0m \u001b[0;36m1\u001b[0m\u001b[0;34m)\u001b[0m\u001b[0;34m\u001b[0m\u001b[0;34m\u001b[0m\u001b[0m\n\u001b[0m\u001b[1;32m      3\u001b[0m \u001b[0;34m\u001b[0m\u001b[0m\n\u001b[1;32m      4\u001b[0m \u001b[0;31m# #For RNN\u001b[0m\u001b[0;34m\u001b[0m\u001b[0;34m\u001b[0m\u001b[0;34m\u001b[0m\u001b[0m\n\u001b[1;32m      5\u001b[0m \u001b[0;31m# X_test=np.array(test_data).reshape(60001, 1, 10)\u001b[0m\u001b[0;34m\u001b[0m\u001b[0;34m\u001b[0m\u001b[0;34m\u001b[0m\u001b[0m\n",
      "\u001b[0;31mMemoryError\u001b[0m: Unable to allocate 20.2 GiB for an array with shape (4520, 60001, 10) and data type float64"
     ]
    }
   ],
   "source": [
    "#For CNN\n",
    "X_test=np.array(test_data).reshape(-1, 60001, 10, 1)\n",
    "print(X_test.shape)"
   ]
  },
  {
   "cell_type": "code",
   "execution_count": null,
   "metadata": {},
   "outputs": [],
   "source": [
    "# For CNN\n",
    "predictions = cnn_model.predict(X_test)\n",
    "\n",
    "print(predictions)"
   ]
  },
  {
   "cell_type": "code",
   "execution_count": null,
   "metadata": {},
   "outputs": [],
   "source": [
    "predictions.shape"
   ]
  },
  {
   "cell_type": "code",
   "execution_count": null,
   "metadata": {},
   "outputs": [],
   "source": [
    "testsub =  pd.read_csv('E/home/jupyter/volcano/sample_submission.csv')"
   ]
  },
  {
   "cell_type": "code",
   "execution_count": null,
   "metadata": {},
   "outputs": [],
   "source": [
    "# For CNN\n",
    "submission = pd.DataFrame()\n",
    "submission['segment_id'] = testsub['segment_id']\n",
    "submission['time_to_eruption'] = predictions\n",
    "submission.to_csv('submission_CNN_Goog.csv', header=True, index=False)"
   ]
  }
 ],
 "metadata": {
  "environment": {
   "name": "tf2-2-3-gpu.2-3.m59",
   "type": "gcloud",
   "uri": "gcr.io/deeplearning-platform-release/tf2-2-3-gpu.2-3:m59"
  },
  "kernelspec": {
   "display_name": "Python 3",
   "language": "python",
   "name": "python3"
  },
  "language_info": {
   "codemirror_mode": {
    "name": "ipython",
    "version": 3
   },
   "file_extension": ".py",
   "mimetype": "text/x-python",
   "name": "python",
   "nbconvert_exporter": "python",
   "pygments_lexer": "ipython3",
   "version": "3.8.5"
  }
 },
 "nbformat": 4,
 "nbformat_minor": 4
}
