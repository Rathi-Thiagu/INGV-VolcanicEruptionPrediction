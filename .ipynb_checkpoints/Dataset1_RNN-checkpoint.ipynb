{
 "cells": [
  {
   "cell_type": "markdown",
   "metadata": {},
   "source": [
    "### Project 2"
   ]
  },
  {
   "cell_type": "markdown",
   "metadata": {},
   "source": [
    "#### LSTM (Long Short Term Memory) trained on Dataset 1 (1 time step). The feature extracted train dataset contains only one datapoint of one time step. This is a Multivariant Unit Time step model"
   ]
  },
  {
   "cell_type": "code",
   "execution_count": 1,
   "metadata": {},
   "outputs": [],
   "source": [
    "#Importing essential libraries\n",
    "from sklearn.datasets import fetch_openml\n",
    "\n",
    "import numpy as np\n",
    "import matplotlib.pyplot as plt\n",
    "%matplotlib inline\n",
    "import os \n",
    "import cv2\n",
    "import random \n",
    "import math\n",
    "import pandas as pd\n",
    "\n",
    "from datetime import datetime\n",
    "\n",
    "from sklearn import metrics\n",
    "from sklearn.metrics import accuracy_score \n",
    "from sklearn.metrics import classification_report\n",
    "from sklearn.metrics import confusion_matrix\n",
    "from tensorflow.keras.callbacks import ModelCheckpoint\n",
    "from tensorflow.keras.models import Sequential\n",
    "from tensorflow.keras.layers import Dense, Activation, Flatten \n",
    "\n",
    "from sklearn.preprocessing import StandardScaler\n",
    "from sklearn.model_selection import train_test_split\n",
    "from sklearn.model_selection import cross_val_score\n",
    "from sklearn.model_selection import cross_val_predict\n",
    "from sklearn.model_selection import GridSearchCV, RandomizedSearchCV\n",
    "from sklearn.model_selection import KFold\n",
    "from sklearn.model_selection import StratifiedKFold\n",
    "\n",
    "from tensorflow.keras.models import Sequential, model_from_json\n",
    "from tensorflow.keras import layers\n",
    "from tensorflow.keras.layers import Conv1D,Conv2D,MaxPooling1D,Flatten,Dense,Dropout,BatchNormalization, GRU, LSTM, RNN\n",
    "from tensorflow.keras import regularizers as reg\n",
    "\n",
    "import tensorflow as tf\n",
    "from tensorflow import keras\n",
    "import pickle"
   ]
  },
  {
   "cell_type": "code",
   "execution_count": 2,
   "metadata": {},
   "outputs": [],
   "source": [
    "pickle_in = open(\"X_train_T1.pickle\",\"rb\")\n",
    "X_train = pickle.load(pickle_in)\n",
    "\n",
    "pickle_in = open(\"y_train_T1.pickle\",\"rb\")\n",
    "y_train = pickle.load(pickle_in)\n",
    "\n",
    "pickle_in = open(\"X_test_T1.pickle\",\"rb\")\n",
    "X_test = pickle.load(pickle_in)\n"
   ]
  },
  {
   "cell_type": "code",
   "execution_count": 3,
   "metadata": {},
   "outputs": [
    {
     "name": "stdout",
     "output_type": "stream",
     "text": [
      "X_train : (4431, 441)\n",
      "y_train : (4431,)\n",
      "X_test : (4520, 441)\n"
     ]
    }
   ],
   "source": [
    "print('X_train :', X_train.shape)\n",
    "print('y_train :', y_train.shape)\n",
    "print('X_test :', X_test.shape)"
   ]
  },
  {
   "cell_type": "code",
   "execution_count": 4,
   "metadata": {},
   "outputs": [
    {
     "data": {
      "text/plain": [
       "array([[0.64048115, 0.64048115, 0.01445403, ..., 0.52196653, 0.42554403,\n",
       "        0.        ],\n",
       "       [0.63661182, 0.63661182, 0.01584274, ..., 0.52307793, 0.40191705,\n",
       "        0.00691982],\n",
       "       [0.6365657 , 0.6365657 , 0.01662551, ..., 0.52196653, 0.42554403,\n",
       "        0.        ],\n",
       "       ...,\n",
       "       [0.63698993, 0.63698993, 0.01751778, ..., 0.52196653, 0.42554403,\n",
       "        0.        ],\n",
       "       [0.63915316, 0.63915316, 0.01636515, ..., 0.5248431 , 0.42554403,\n",
       "        0.00721599],\n",
       "       [0.6328179 , 0.6328179 , 0.01308238, ..., 0.52196653, 0.42554403,\n",
       "        0.        ]])"
      ]
     },
     "execution_count": 4,
     "metadata": {},
     "output_type": "execute_result"
    }
   ],
   "source": [
    "#Data Normalization using Min Max Scaler\n",
    "from sklearn.preprocessing import MinMaxScaler\n",
    "scaler = MinMaxScaler()\n",
    "scaler.fit(X_train)\n",
    "scaler.transform(X_train)\n",
    "scaler.transform(X_test)"
   ]
  },
  {
   "cell_type": "code",
   "execution_count": 5,
   "metadata": {},
   "outputs": [],
   "source": [
    "# y_train = np.array(y_train).reshape(-1,1)\n",
    "# print(y_train.shape)\n",
    "# # scalers\n",
    "# scaler_x = StandardScaler()\n",
    "# scaler_y = StandardScaler()\n",
    "# # scaling\n",
    "# X_train_sc = scaler_x.fit_transform(X_train)\n",
    "# X_test_sc = scaler_x.transform(X_test)\n",
    "# y_train_sc = scaler_y.fit_transform(y_train)"
   ]
  },
  {
   "cell_type": "code",
   "execution_count": 5,
   "metadata": {},
   "outputs": [
    {
     "name": "stdout",
     "output_type": "stream",
     "text": [
      "(4431, 1, 441)\n",
      "(4431, 1)\n",
      "(4520, 1, 441)\n"
     ]
    }
   ],
   "source": [
    "#Data reshape [batch_size, Timestep , No. of features]\n",
    "X_train_r = np.array(X_train).reshape(4431, 1, 441)\n",
    "print(X_train_r.shape)\n",
    "y_train_r = np.array(y_train).reshape(-1,1)\n",
    "print(y_train_r.shape)\n",
    "X_test_r = np.array(X_test).reshape(4520, 1, 441)\n",
    "print(X_test_r.shape)"
   ]
  },
  {
   "cell_type": "code",
   "execution_count": 7,
   "metadata": {},
   "outputs": [],
   "source": [
    "#Adaptive Learning Rate \n",
    "# from tensorflow.keras.callbacks import LearningRateScheduler\n",
    "# def step_decay(epoch):\n",
    "#    initial_lrate = 0.001 #Setting the initial learning rate to 0.1 \n",
    "#    drop = 0.5\n",
    "#    epochs_drop = 10.0  #Drops the learning rate to half after every 10 epochs\n",
    "#    lrate = initial_lrate * math.pow(drop,  \n",
    "#            math.floor((1+epoch)/epochs_drop))\n",
    "#    return lrate\n",
    "# lrate = LearningRateScheduler(step_decay)"
   ]
  },
  {
   "cell_type": "code",
   "execution_count": 6,
   "metadata": {},
   "outputs": [
    {
     "name": "stdout",
     "output_type": "stream",
     "text": [
      "Epoch 1/500\n",
      "4209/4209 [==============================] - 42s 10ms/step - loss: 14207557.0000 - val_loss: 10998284.0000\n",
      "Epoch 2/500\n",
      "4209/4209 [==============================] - 39s 9ms/step - loss: 10637125.0000 - val_loss: 10845800.0000\n",
      "Epoch 3/500\n",
      "4209/4209 [==============================] - 43s 10ms/step - loss: 9383901.0000 - val_loss: 10210311.0000\n",
      "Epoch 4/500\n",
      "4209/4209 [==============================] - 41s 10ms/step - loss: 8621852.0000 - val_loss: 9185105.0000\n",
      "Epoch 5/500\n",
      "4209/4209 [==============================] - 38s 9ms/step - loss: 8190782.5000 - val_loss: 9083939.0000\n",
      "Epoch 6/500\n",
      "4209/4209 [==============================] - 37s 9ms/step - loss: 7815862.0000 - val_loss: 8556126.0000\n",
      "Epoch 7/500\n",
      "4209/4209 [==============================] - 37s 9ms/step - loss: 7612748.5000 - val_loss: 8875601.0000\n",
      "Epoch 8/500\n",
      "4209/4209 [==============================] - 40s 9ms/step - loss: 7308164.0000 - val_loss: 8068558.5000\n",
      "Epoch 9/500\n",
      "4209/4209 [==============================] - 40s 9ms/step - loss: 7151729.0000 - val_loss: 8326764.0000\n",
      "Epoch 10/500\n",
      "4209/4209 [==============================] - 36s 9ms/step - loss: 6931659.5000 - val_loss: 7852778.0000\n",
      "Epoch 11/500\n",
      "4209/4209 [==============================] - 37s 9ms/step - loss: 6695672.0000 - val_loss: 8043606.0000\n",
      "Epoch 12/500\n",
      "4209/4209 [==============================] - 36s 9ms/step - loss: 6525125.0000 - val_loss: 8183226.0000\n",
      "Epoch 13/500\n",
      "4209/4209 [==============================] - 40s 10ms/step - loss: 6456178.5000 - val_loss: 8082287.5000\n",
      "Epoch 14/500\n",
      "4209/4209 [==============================] - 41s 10ms/step - loss: 6423018.5000 - val_loss: 8155617.0000\n",
      "Epoch 15/500\n",
      "4209/4209 [==============================] - 39s 9ms/step - loss: 6221999.5000 - val_loss: 7402307.0000\n",
      "Epoch 16/500\n",
      "4209/4209 [==============================] - 38s 9ms/step - loss: 6094716.5000 - val_loss: 7270758.0000\n",
      "Epoch 17/500\n",
      "4209/4209 [==============================] - 39s 9ms/step - loss: 6016352.5000 - val_loss: 7327513.0000\n",
      "Epoch 18/500\n",
      "4209/4209 [==============================] - 39s 9ms/step - loss: 5892137.5000 - val_loss: 8065508.5000\n",
      "Epoch 19/500\n",
      "4209/4209 [==============================] - 38s 9ms/step - loss: 5850247.0000 - val_loss: 7525952.0000\n",
      "Epoch 20/500\n",
      "4209/4209 [==============================] - 38s 9ms/step - loss: 5743147.5000 - val_loss: 7169239.0000\n",
      "Epoch 21/500\n",
      "4209/4209 [==============================] - 37s 9ms/step - loss: 5671272.0000 - val_loss: 7172099.0000\n",
      "Epoch 22/500\n",
      "4209/4209 [==============================] - 37s 9ms/step - loss: 5714295.0000 - val_loss: 7066431.0000\n",
      "Epoch 23/500\n",
      "4209/4209 [==============================] - 37s 9ms/step - loss: 5526541.0000 - val_loss: 7023101.5000\n",
      "Epoch 24/500\n",
      "4209/4209 [==============================] - 39s 9ms/step - loss: 5496124.5000 - val_loss: 6875432.0000\n",
      "Epoch 25/500\n",
      "4209/4209 [==============================] - 40s 9ms/step - loss: 5453887.5000 - val_loss: 6723368.0000\n",
      "Epoch 26/500\n",
      "4209/4209 [==============================] - 40s 9ms/step - loss: 5274262.5000 - val_loss: 7486956.0000\n",
      "Epoch 27/500\n",
      "4209/4209 [==============================] - 42s 10ms/step - loss: 5292430.5000 - val_loss: 6594221.5000\n",
      "Epoch 28/500\n",
      "4209/4209 [==============================] - 53s 13ms/step - loss: 5136141.5000 - val_loss: 7561023.0000\n",
      "Epoch 29/500\n",
      "4209/4209 [==============================] - 50s 12ms/step - loss: 5135735.0000 - val_loss: 6883894.0000\n",
      "Epoch 30/500\n",
      "4209/4209 [==============================] - 41s 10ms/step - loss: 5054448.5000 - val_loss: 7710588.5000\n",
      "Epoch 31/500\n",
      "4209/4209 [==============================] - 40s 10ms/step - loss: 5008114.0000 - val_loss: 6606909.0000\n",
      "Epoch 32/500\n",
      "4209/4209 [==============================] - 38s 9ms/step - loss: 4995879.5000 - val_loss: 6601333.0000\n"
     ]
    },
    {
     "data": {
      "text/plain": [
       "<tensorflow.python.keras.callbacks.History at 0x165a4615970>"
      ]
     },
     "execution_count": 6,
     "metadata": {},
     "output_type": "execute_result"
    }
   ],
   "source": [
    "from tensorflow.keras.layers import LSTM\n",
    "from tensorflow.keras.callbacks import EarlyStopping\n",
    "\n",
    "# model = Sequential([\n",
    "#     keras.layers.SimpleRNN(20,activation='relu', input_shape=[1, 441]),\n",
    "#     keras.layers.SimpleRNN(20,activation='relu'),\n",
    "#     keras.layers.SimpleRNN(1)  \n",
    "# ])\n",
    "model= Sequential()\n",
    "model.add(LSTM(400, activation='relu', input_shape=(1, 441)))\n",
    "model.add(Dense(400, activation='relu'))\n",
    "#model.add(Dense(400, activation='relu'))\n",
    "model.add(Dense(1,activation='linear'))\n",
    "#model.add(Activation(\"linear\"))  \n",
    "optimizer = \"adam\"\n",
    "model.compile(loss=\"mean_absolute_error\", optimizer=optimizer)  \n",
    "\n",
    "early_stopping_monitor = EarlyStopping(patience=5)\n",
    "callbacks_list = [early_stopping_monitor]\n",
    "\n",
    "model.fit(X_train_r, y_train_r, batch_size=1, epochs=500, validation_split=0.05 , callbacks=[callbacks_list])  "
   ]
  },
  {
   "cell_type": "code",
   "execution_count": 7,
   "metadata": {},
   "outputs": [],
   "source": [
    "def plotfig (ypred, yactual, strtitle, y_max):\n",
    "    plt.scatter(ypred, yactual.values.ravel())\n",
    "    plt.title(strtitle)\n",
    "    plt.plot([(0, 0), (y_max, y_max)], [(0, 0), (y_max, y_max)])\n",
    "    plt.xlim(0, y_max)\n",
    "    plt.ylim(0, y_max)\n",
    "    plt.xlabel('Predicted', fontsize=12)\n",
    "    plt.ylabel('Actual', fontsize=12)\n",
    "    plt.show()"
   ]
  },
  {
   "cell_type": "code",
   "execution_count": 10,
   "metadata": {},
   "outputs": [
    {
     "data": {
      "image/png": "[encoded data removed]",
      "text/plain": [
       "<Figure size 432x288 with 1 Axes>"
      ]
     },
     "metadata": {
      "needs_background": "light"
     },
     "output_type": "display_data"
    }
   ],
   "source": [
    "plotfig(model.predict(X_train_r), y_train, 'Predicted vs. Actual responses for MLP', max(y_train) + 0.1*max(y_train))"
   ]
  },
  {
   "cell_type": "code",
   "execution_count": 11,
   "metadata": {},
   "outputs": [
    {
     "name": "stdout",
     "output_type": "stream",
     "text": [
      "[[15493345.]\n",
      " [38759630.]\n",
      " [23163172.]\n",
      " ...\n",
      " [30757442.]\n",
      " [38104050.]\n",
      " [30066604.]]\n"
     ]
    }
   ],
   "source": [
    "predictions = model.predict(X_test_r)\n",
    "print(predictions)"
   ]
  },
  {
   "cell_type": "code",
   "execution_count": 10,
   "metadata": {},
   "outputs": [
    {
     "data": {
      "text/plain": [
       "(4520, 1)"
      ]
     },
     "execution_count": 10,
     "metadata": {},
     "output_type": "execute_result"
    }
   ],
   "source": [
    "predictions.shape"
   ]
  },
  {
   "cell_type": "code",
   "execution_count": 12,
   "metadata": {},
   "outputs": [],
   "source": [
    "submission = pd.DataFrame()\n",
    "submission['segment_id'] = X_test.index\n",
    "submission['time_to_eruption'] = predictions\n",
    "submission.to_csv('submission_RNN90.csv', header=True, index=False)"
   ]
  }
 ],
 "metadata": {
  "kernelspec": {
   "display_name": "Python 3",
   "language": "python",
   "name": "python3"
  },
  "language_info": {
   "codemirror_mode": {
    "name": "ipython",
    "version": 3
   },
   "file_extension": ".py",
   "mimetype": "text/x-python",
   "name": "python",
   "nbconvert_exporter": "python",
   "pygments_lexer": "ipython3",
   "version": "3.8.5"
  }
 },
 "nbformat": 4,
 "nbformat_minor": 4
}
