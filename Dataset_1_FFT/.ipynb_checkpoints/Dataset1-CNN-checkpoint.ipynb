{
 "cells": [
  {
   "cell_type": "markdown",
   "metadata": {},
   "source": [
    "### Project 2"
   ]
  },
  {
   "cell_type": "markdown",
   "metadata": {},
   "source": [
    "#### Convolutional Neural Network(CNN) trained on feature extracted statistical dataset using FFT"
   ]
  },
  {
   "cell_type": "code",
   "execution_count": 1,
   "metadata": {},
   "outputs": [],
   "source": [
    "#Importing essential libraries\n",
    "from sklearn.datasets import fetch_openml\n",
    "\n",
    "import numpy as np\n",
    "import matplotlib.pyplot as plt\n",
    "%matplotlib inline\n",
    "import os \n",
    "import cv2\n",
    "import random \n",
    "import math\n",
    "import pandas as pd\n",
    "\n",
    "from datetime import datetime\n",
    "\n",
    "from sklearn import metrics\n",
    "from sklearn.metrics import accuracy_score \n",
    "from sklearn.metrics import classification_report\n",
    "from sklearn.metrics import confusion_matrix\n",
    "from tensorflow.keras.callbacks import ModelCheckpoint\n",
    "from tensorflow.keras.models import Sequential\n",
    "from tensorflow.keras.layers import Dense, Activation, Flatten\n",
    "\n",
    "from sklearn.preprocessing import StandardScaler\n",
    "from sklearn.model_selection import train_test_split\n",
    "from sklearn.model_selection import cross_val_score\n",
    "from sklearn.model_selection import cross_val_predict\n",
    "from sklearn.model_selection import GridSearchCV, RandomizedSearchCV\n",
    "from sklearn.model_selection import KFold\n",
    "from sklearn.model_selection import StratifiedKFold\n",
    "\n",
    "from tensorflow.keras.models import Sequential, model_from_json\n",
    "from tensorflow.keras import layers\n",
    "from tensorflow.keras.layers import Conv1D,Conv2D,MaxPooling1D,Flatten,Dense,Dropout,BatchNormalization, GRU, LSTM, RNN\n",
    "from tensorflow.keras import regularizers as reg\n",
    "\n",
    "import tensorflow as tf\n",
    "from tensorflow import keras\n",
    "import pickle"
   ]
  },
  {
   "cell_type": "code",
   "execution_count": 2,
   "metadata": {},
   "outputs": [],
   "source": [
    "pickle_in = open(\"X_train_T1.pickle\",\"rb\")\n",
    "X_train = pickle.load(pickle_in)\n",
    "\n",
    "pickle_in = open(\"y_train_T1.pickle\",\"rb\")\n",
    "y_train = pickle.load(pickle_in)\n",
    "\n",
    "pickle_in = open(\"X_test_T1.pickle\",\"rb\")\n",
    "X_test = pickle.load(pickle_in)\n"
   ]
  },
  {
   "cell_type": "code",
   "execution_count": 3,
   "metadata": {},
   "outputs": [
    {
     "name": "stdout",
     "output_type": "stream",
     "text": [
      "X_train : (4431, 441)\n",
      "y_train : (4431,)\n",
      "X_test : (4520, 441)\n"
     ]
    }
   ],
   "source": [
    "print('X_train :', X_train.shape)\n",
    "print('y_train :', y_train.shape)\n",
    "print('X_test :', X_test.shape)"
   ]
  },
  {
   "cell_type": "code",
   "execution_count": 4,
   "metadata": {},
   "outputs": [
    {
     "name": "stdout",
     "output_type": "stream",
     "text": [
      "(4431, 441, 1)\n",
      "(4431, 1)\n"
     ]
    }
   ],
   "source": [
    "X_train = np.array(X_train).reshape(4431, 441, 1)\n",
    "print(X_train.shape)\n",
    "y_train = np.array(y_train).reshape(-1,1)\n",
    "print(y_train.shape)"
   ]
  },
  {
   "cell_type": "code",
   "execution_count": 7,
   "metadata": {},
   "outputs": [
    {
     "name": "stdout",
     "output_type": "stream",
     "text": [
      "Model: \"sequential_2\"\n",
      "_________________________________________________________________\n",
      "Layer (type)                 Output Shape              Param #   \n",
      "=================================================================\n",
      "conv1d_4 (Conv1D)            (None, 439, 16)           64        \n",
      "_________________________________________________________________\n",
      "max_pooling1d_4 (MaxPooling1 (None, 219, 16)           0         \n",
      "_________________________________________________________________\n",
      "conv1d_5 (Conv1D)            (None, 217, 32)           1568      \n",
      "_________________________________________________________________\n",
      "max_pooling1d_5 (MaxPooling1 (None, 108, 32)           0         \n",
      "_________________________________________________________________\n",
      "flatten_2 (Flatten)          (None, 3456)              0         \n",
      "_________________________________________________________________\n",
      "dense_4 (Dense)              (None, 16)                55312     \n",
      "_________________________________________________________________\n",
      "dense_5 (Dense)              (None, 1)                 17        \n",
      "=================================================================\n",
      "Total params: 56,961\n",
      "Trainable params: 56,961\n",
      "Non-trainable params: 0\n",
      "_________________________________________________________________\n"
     ]
    }
   ],
   "source": [
    "#1D convolution\n",
    "from tensorflow.keras.callbacks import EarlyStopping\n",
    "model = tf.keras.Sequential([\n",
    "    layers.Conv1D(16, 3, activation = \"relu\", input_shape = (441,1)),\n",
    "    layers.MaxPool1D(2),\n",
    "    layers.Conv1D(32, 3, activation = \"relu\"),\n",
    "    layers.MaxPool1D(2),\n",
    "    layers.Flatten(),\n",
    "    layers.Dense(16, activation = \"relu\"),\n",
    "    layers.Dense(1, activation = \"linear\")\n",
    "])\n",
    "\n",
    "early_stopping_monitor = EarlyStopping(patience=5)\n",
    "callbacks_list = [early_stopping_monitor]\n",
    "\n",
    "model.summary()"
   ]
  },
  {
   "cell_type": "code",
   "execution_count": 8,
   "metadata": {},
   "outputs": [],
   "source": [
    "model.compile(loss = \"mean_absolute_error\", optimizer = \"adam\", metrics = [\"mean_absolute_error\"])"
   ]
  },
  {
   "cell_type": "code",
   "execution_count": 10,
   "metadata": {},
   "outputs": [
    {
     "name": "stdout",
     "output_type": "stream",
     "text": [
      "Epoch 1/30\n",
      "33/33 [==============================] - 1s 33ms/step - loss: 12175676.0000 - mean_absolute_error: 12175676.0000 - val_loss: 10848361.0000 - val_mean_absolute_error: 10848361.0000\n",
      "Epoch 2/30\n",
      "33/33 [==============================] - 1s 33ms/step - loss: 11991626.0000 - mean_absolute_error: 11991626.0000 - val_loss: 10809810.0000 - val_mean_absolute_error: 10809810.0000\n",
      "Epoch 3/30\n",
      "33/33 [==============================] - 1s 33ms/step - loss: 11913033.0000 - mean_absolute_error: 11913033.0000 - val_loss: 10691432.0000 - val_mean_absolute_error: 10691432.0000\n",
      "Epoch 4/30\n",
      "33/33 [==============================] - 1s 33ms/step - loss: 11730164.0000 - mean_absolute_error: 11730164.0000 - val_loss: 10515781.0000 - val_mean_absolute_error: 10515781.0000\n",
      "Epoch 5/30\n",
      "33/33 [==============================] - 1s 31ms/step - loss: 11620518.0000 - mean_absolute_error: 11620518.0000 - val_loss: 10233383.0000 - val_mean_absolute_error: 10233383.0000\n",
      "Epoch 6/30\n",
      "33/33 [==============================] - 1s 32ms/step - loss: 11446152.0000 - mean_absolute_error: 11446152.0000 - val_loss: 10061254.0000 - val_mean_absolute_error: 10061254.0000\n",
      "Epoch 7/30\n",
      "33/33 [==============================] - 1s 32ms/step - loss: 11252766.0000 - mean_absolute_error: 11252766.0000 - val_loss: 10065251.0000 - val_mean_absolute_error: 10065251.0000\n",
      "Epoch 8/30\n",
      "33/33 [==============================] - 1s 41ms/step - loss: 11112940.0000 - mean_absolute_error: 11112940.0000 - val_loss: 9781582.0000 - val_mean_absolute_error: 9781582.0000\n",
      "Epoch 9/30\n",
      "33/33 [==============================] - 1s 31ms/step - loss: 10840646.0000 - mean_absolute_error: 10840646.0000 - val_loss: 9671048.0000 - val_mean_absolute_error: 9671048.0000\n",
      "Epoch 10/30\n",
      "33/33 [==============================] - 1s 39ms/step - loss: 10792807.0000 - mean_absolute_error: 10792807.0000 - val_loss: 9587970.0000 - val_mean_absolute_error: 9587970.0000\n",
      "Epoch 11/30\n",
      "33/33 [==============================] - 1s 33ms/step - loss: 10616832.0000 - mean_absolute_error: 10616832.0000 - val_loss: 9575005.0000 - val_mean_absolute_error: 9575005.0000\n",
      "Epoch 12/30\n",
      "33/33 [==============================] - 1s 36ms/step - loss: 10555575.0000 - mean_absolute_error: 10555575.0000 - val_loss: 9387122.0000 - val_mean_absolute_error: 9387122.0000\n",
      "Epoch 13/30\n",
      "33/33 [==============================] - 1s 33ms/step - loss: 10420036.0000 - mean_absolute_error: 10420036.0000 - val_loss: 9235796.0000 - val_mean_absolute_error: 9235796.0000\n",
      "Epoch 14/30\n",
      "33/33 [==============================] - 1s 34ms/step - loss: 10270422.0000 - mean_absolute_error: 10270422.0000 - val_loss: 9136442.0000 - val_mean_absolute_error: 9136441.0000\n",
      "Epoch 15/30\n",
      "33/33 [==============================] - 1s 35ms/step - loss: 10099290.0000 - mean_absolute_error: 10099290.0000 - val_loss: 10165656.0000 - val_mean_absolute_error: 10165656.0000\n",
      "Epoch 16/30\n",
      "33/33 [==============================] - 1s 34ms/step - loss: 10276940.0000 - mean_absolute_error: 10276940.0000 - val_loss: 9860799.0000 - val_mean_absolute_error: 9860799.0000\n",
      "Epoch 17/30\n",
      "33/33 [==============================] - 1s 32ms/step - loss: 9950225.0000 - mean_absolute_error: 9950225.0000 - val_loss: 8806455.0000 - val_mean_absolute_error: 8806455.0000\n",
      "Epoch 18/30\n",
      "33/33 [==============================] - 1s 32ms/step - loss: 9856696.0000 - mean_absolute_error: 9856696.0000 - val_loss: 9345479.0000 - val_mean_absolute_error: 9345479.0000\n",
      "Epoch 19/30\n",
      "33/33 [==============================] - 1s 33ms/step - loss: 9645185.0000 - mean_absolute_error: 9645185.0000 - val_loss: 8860146.0000 - val_mean_absolute_error: 8860145.0000\n",
      "Epoch 20/30\n",
      "33/33 [==============================] - 1s 33ms/step - loss: 9614798.0000 - mean_absolute_error: 9614798.0000 - val_loss: 9099263.0000 - val_mean_absolute_error: 9099263.0000\n",
      "Epoch 21/30\n",
      "33/33 [==============================] - 1s 33ms/step - loss: 9501771.0000 - mean_absolute_error: 9501771.0000 - val_loss: 8975077.0000 - val_mean_absolute_error: 8975077.0000\n",
      "Epoch 22/30\n",
      "33/33 [==============================] - 1s 37ms/step - loss: 9430314.0000 - mean_absolute_error: 9430314.0000 - val_loss: 8657806.0000 - val_mean_absolute_error: 8657806.0000\n",
      "Epoch 23/30\n",
      "33/33 [==============================] - 1s 36ms/step - loss: 9343608.0000 - mean_absolute_error: 9343608.0000 - val_loss: 9158944.0000 - val_mean_absolute_error: 9158944.0000\n",
      "Epoch 24/30\n",
      "33/33 [==============================] - 1s 36ms/step - loss: 9524043.0000 - mean_absolute_error: 9524043.0000 - val_loss: 9561866.0000 - val_mean_absolute_error: 9561865.0000\n",
      "Epoch 25/30\n",
      "33/33 [==============================] - 1s 32ms/step - loss: 9300608.0000 - mean_absolute_error: 9300608.0000 - val_loss: 8698311.0000 - val_mean_absolute_error: 8698311.0000\n",
      "Epoch 26/30\n",
      "33/33 [==============================] - 1s 31ms/step - loss: 9101351.0000 - mean_absolute_error: 9101351.0000 - val_loss: 8351582.5000 - val_mean_absolute_error: 8351582.5000\n",
      "Epoch 27/30\n",
      "33/33 [==============================] - 1s 34ms/step - loss: 9068297.0000 - mean_absolute_error: 9068297.0000 - val_loss: 8754079.0000 - val_mean_absolute_error: 8754079.0000\n",
      "Epoch 28/30\n",
      "33/33 [==============================] - 1s 31ms/step - loss: 8996892.0000 - mean_absolute_error: 8996892.0000 - val_loss: 8592182.0000 - val_mean_absolute_error: 8592181.0000\n",
      "Epoch 29/30\n",
      "33/33 [==============================] - 1s 32ms/step - loss: 9036519.0000 - mean_absolute_error: 9036519.0000 - val_loss: 8302444.5000 - val_mean_absolute_error: 8302444.5000\n",
      "Epoch 30/30\n",
      "33/33 [==============================] - 1s 33ms/step - loss: 8814770.0000 - mean_absolute_error: 8814770.0000 - val_loss: 8377136.0000 - val_mean_absolute_error: 8377136.0000\n"
     ]
    },
    {
     "data": {
      "text/plain": [
       "<tensorflow.python.keras.callbacks.History at 0x1f892915cd0>"
      ]
     },
     "execution_count": 10,
     "metadata": {},
     "output_type": "execute_result"
    }
   ],
   "source": [
    "model.fit(X_train, y_train, batch_size=128, epochs=30, validation_split = 0.05 , callbacks = callbacks_list)"
   ]
  },
  {
   "cell_type": "code",
   "execution_count": 17,
   "metadata": {},
   "outputs": [],
   "source": [
    "def plotfig (ypred, yactual, strtitle, y_max):\n",
    "    plt.scatter(ypred, y_train[:].ravel())\n",
    "    plt.title(strtitle)\n",
    "    plt.plot([(0, 0), (y_max, y_max)], [(0, 0), (y_max, y_max)])\n",
    "    plt.xlim(0, y_max)\n",
    "    plt.ylim(0, y_max)\n",
    "    plt.xlabel('Predicted', fontsize=12)\n",
    "    plt.ylabel('Actual', fontsize=12)\n",
    "    plt.show()"
   ]
  },
  {
   "cell_type": "code",
   "execution_count": 18,
   "metadata": {},
   "outputs": [
    {
     "data": {
      "image/png": "[encoded data removed]",
      "text/plain": [
       "<Figure size 432x288 with 1 Axes>"
      ]
     },
     "metadata": {
      "needs_background": "light"
     },
     "output_type": "display_data"
    }
   ],
   "source": [
    "plotfig(model.predict(X_train), y_train, 'Predicted vs. Actual responses for MLP', max(y_train) + 0.1*max(y_train))"
   ]
  },
  {
   "cell_type": "code",
   "execution_count": 19,
   "metadata": {},
   "outputs": [
    {
     "name": "stdout",
     "output_type": "stream",
     "text": [
      "(4520, 441, 1)\n"
     ]
    }
   ],
   "source": [
    "X_test = np.array(X_test).reshape(4520, 441, 1)\n",
    "print(X_test.shape)"
   ]
  },
  {
   "cell_type": "code",
   "execution_count": 20,
   "metadata": {},
   "outputs": [
    {
     "name": "stdout",
     "output_type": "stream",
     "text": [
      "[[ 9015491.]\n",
      " [38653460.]\n",
      " [14734535.]\n",
      " ...\n",
      " [20082240.]\n",
      " [44730452.]\n",
      " [26196036.]]\n"
     ]
    }
   ],
   "source": [
    "predictions = model.predict(X_test)\n",
    "print(predictions)"
   ]
  },
  {
   "cell_type": "code",
   "execution_count": 24,
   "metadata": {},
   "outputs": [],
   "source": [
    "testsub =  pd.read_csv('C:/Datasets/predict-volcanic-eruptions-ingv-oe/sample_submission.csv')"
   ]
  },
  {
   "cell_type": "code",
   "execution_count": 25,
   "metadata": {},
   "outputs": [],
   "source": [
    "submission = pd.DataFrame()\n",
    "submission['segment_id'] = testsub['segment_id']\n",
    "submission['time_to_eruption'] = predictions\n",
    "submission.to_csv('submitCONS_CNN98.csv', header=True, index=False)"
   ]
  }
 ],
 "metadata": {
  "kernelspec": {
   "display_name": "Python 3",
   "language": "python",
   "name": "python3"
  },
  "language_info": {
   "codemirror_mode": {
    "name": "ipython",
    "version": 3
   },
   "file_extension": ".py",
   "mimetype": "text/x-python",
   "name": "python",
   "nbconvert_exporter": "python",
   "pygments_lexer": "ipython3",
   "version": "3.8.5"
  }
 },
 "nbformat": 4,
 "nbformat_minor": 4
}
