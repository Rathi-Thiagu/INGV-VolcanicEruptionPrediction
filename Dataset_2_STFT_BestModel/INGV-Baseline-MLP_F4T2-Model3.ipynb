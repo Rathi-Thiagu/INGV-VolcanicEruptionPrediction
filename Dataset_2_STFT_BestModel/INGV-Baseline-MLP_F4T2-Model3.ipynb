{
 "cells": [
  {
   "cell_type": "markdown",
   "metadata": {},
   "source": [
    "### MLP Model 3 (100-256-100-1) using STFT Dataset"
   ]
  },
  {
   "cell_type": "code",
   "execution_count": 3,
   "metadata": {},
   "outputs": [],
   "source": [
    "#Importing essential libraries\n",
    "from sklearn.datasets import fetch_openml\n",
    "\n",
    "import numpy as np\n",
    "import matplotlib.pyplot as plt\n",
    "%matplotlib inline\n",
    "import os \n",
    "import cv2\n",
    "import random \n",
    "import math\n",
    "import pandas as pd\n",
    "\n",
    "from datetime import datetime\n",
    "\n",
    "from sklearn import metrics\n",
    "from sklearn.metrics import accuracy_score \n",
    "from sklearn.metrics import classification_report\n",
    "from sklearn.metrics import confusion_matrix\n",
    "from tensorflow.keras.callbacks import ModelCheckpoint\n",
    "from tensorflow.keras.models import Sequential\n",
    "from tensorflow.keras.layers import Dense, Activation, Flatten\n",
    "\n",
    "from sklearn.preprocessing import StandardScaler\n",
    "from sklearn.model_selection import train_test_split\n",
    "from sklearn.model_selection import cross_val_score\n",
    "from sklearn.model_selection import cross_val_predict\n",
    "from sklearn.model_selection import GridSearchCV, RandomizedSearchCV\n",
    "from sklearn.model_selection import KFold\n",
    "from sklearn.model_selection import StratifiedKFold\n",
    "\n",
    "from tensorflow.keras.models import Sequential, model_from_json\n",
    "from tensorflow.keras import layers\n",
    "from tensorflow.keras.layers import Conv1D,Conv2D,MaxPooling1D,Flatten,Dense,Dropout,BatchNormalization, GRU, LSTM, RNN\n",
    "from tensorflow.keras import regularizers as reg\n",
    "\n",
    "import tensorflow as tf\n",
    "from tensorflow import keras\n",
    "import pickle"
   ]
  },
  {
   "cell_type": "code",
   "execution_count": 4,
   "metadata": {},
   "outputs": [],
   "source": [
    "# Importing the Training data from pickle file \n",
    "pickle_in = open(\"X_train_T2.pickle\",\"rb\")\n",
    "X_train = pickle.load(pickle_in)\n",
    "\n",
    "pickle_in = open(\"y_train_T2.pickle\",\"rb\")\n",
    "y_train = pickle.load(pickle_in)\n"
   ]
  },
  {
   "cell_type": "code",
   "execution_count": 5,
   "metadata": {},
   "outputs": [
    {
     "name": "stdout",
     "output_type": "stream",
     "text": [
      "X_train : (4431, 100)\n",
      "y_train : (4431,)\n"
     ]
    }
   ],
   "source": [
    "print('X_train :', X_train.shape)\n",
    "print('y_train :', y_train.shape)"
   ]
  },
  {
   "cell_type": "code",
   "execution_count": 6,
   "metadata": {},
   "outputs": [],
   "source": [
    "X_train=X_train.replace([np.inf, -np.inf, np.nan], 0)"
   ]
  },
  {
   "cell_type": "code",
   "execution_count": null,
   "metadata": {},
   "outputs": [],
   "source": [
    "# from sklearn.preprocessing import MinMaxScaler\n",
    "# scaler = MinMaxScaler()\n",
    "# X_train=scaler.fit_transform(X_train)\n",
    "# X_test=scaler.transform(X_test)"
   ]
  },
  {
   "cell_type": "code",
   "execution_count": 7,
   "metadata": {},
   "outputs": [
    {
     "name": "stdout",
     "output_type": "stream",
     "text": [
      "Model: \"sequential\"\n",
      "_________________________________________________________________\n",
      "Layer (type)                 Output Shape              Param #   \n",
      "=================================================================\n",
      "dense (Dense)                (None, 100)               10100     \n",
      "_________________________________________________________________\n",
      "dense_1 (Dense)              (None, 256)               25856     \n",
      "_________________________________________________________________\n",
      "dense_2 (Dense)              (None, 100)               25700     \n",
      "_________________________________________________________________\n",
      "dense_3 (Dense)              (None, 1)                 101       \n",
      "=================================================================\n",
      "Total params: 61,757\n",
      "Trainable params: 61,757\n",
      "Non-trainable params: 0\n",
      "_________________________________________________________________\n"
     ]
    }
   ],
   "source": [
    "# In Model 3 , the complexity is reduced by removing one hidden layer\n",
    "from tensorflow.keras.optimizers import SGD\n",
    "from tensorflow.keras.callbacks import EarlyStopping\n",
    "from tensorflow.keras import regularizers\n",
    "NN_model = Sequential()\n",
    "\n",
    "# The Input Layer :\n",
    "NN_model.add(Dense(100,input_dim = X_train.shape[1], activation='relu'))\n",
    "\n",
    "# The Hidden Layers :\n",
    "NN_model.add(Dense(256,activation='relu'))\n",
    "NN_model.add(Dense(100,activation='relu'))\n",
    "\n",
    "# The Output Layer :\n",
    "NN_model.add(Dense(1,activation='linear'))\n",
    "\n",
    "# Compile the network :\n",
    "#sgd = SGD(learning_rate=0.001)\n",
    "opt = keras.optimizers.Adam(learning_rate=0.001)\n",
    "NN_model.compile(loss='mean_absolute_error', optimizer=opt, metrics=['mean_absolute_error'])\n",
    "NN_model.summary()\n",
    "early_stopping_monitor = EarlyStopping(patience=20)\n",
    "callbacks_list = [early_stopping_monitor]"
   ]
  },
  {
   "cell_type": "code",
   "execution_count": 8,
   "metadata": {},
   "outputs": [
    {
     "name": "stdout",
     "output_type": "stream",
     "text": [
      "Epoch 1/250\n",
      "4209/4209 [==============================] - 5s 1ms/step - loss: 11100934.0000 - mean_absolute_error: 11100934.0000 - val_loss: 8424750.0000 - val_mean_absolute_error: 8424750.0000\n",
      "Epoch 2/250\n",
      "4209/4209 [==============================] - 4s 1ms/step - loss: 7963156.0000 - mean_absolute_error: 7963156.0000 - val_loss: 7383263.0000 - val_mean_absolute_error: 7383263.0000\n",
      "Epoch 3/250\n",
      "4209/4209 [==============================] - 4s 1ms/step - loss: 6989610.5000 - mean_absolute_error: 6989610.5000 - val_loss: 6594706.5000 - val_mean_absolute_error: 6594706.5000\n",
      "Epoch 4/250\n",
      "4209/4209 [==============================] - 4s 1ms/step - loss: 6407514.0000 - mean_absolute_error: 6407514.0000 - val_loss: 6639920.5000 - val_mean_absolute_error: 6639920.5000\n",
      "Epoch 5/250\n",
      "4209/4209 [==============================] - 4s 993us/step - loss: 6041144.5000 - mean_absolute_error: 6041144.5000 - val_loss: 5693983.0000 - val_mean_absolute_error: 5693983.0000\n",
      "Epoch 6/250\n",
      "4209/4209 [==============================] - 4s 1ms/step - loss: 5711778.5000 - mean_absolute_error: 5711778.5000 - val_loss: 5553938.5000 - val_mean_absolute_error: 5553938.5000\n",
      "Epoch 7/250\n",
      "4209/4209 [==============================] - 4s 1ms/step - loss: 5372378.0000 - mean_absolute_error: 5372378.0000 - val_loss: 5093996.0000 - val_mean_absolute_error: 5093996.0000\n",
      "Epoch 8/250\n",
      "4209/4209 [==============================] - 4s 1ms/step - loss: 5116954.0000 - mean_absolute_error: 5116954.0000 - val_loss: 5709527.0000 - val_mean_absolute_error: 5709527.0000\n",
      "Epoch 9/250\n",
      "4209/4209 [==============================] - 4s 1ms/step - loss: 5018466.0000 - mean_absolute_error: 5018466.0000 - val_loss: 5218139.0000 - val_mean_absolute_error: 5218139.0000\n",
      "Epoch 10/250\n",
      "4209/4209 [==============================] - 5s 1ms/step - loss: 4779993.0000 - mean_absolute_error: 4779993.0000 - val_loss: 4917144.0000 - val_mean_absolute_error: 4917144.0000\n",
      "Epoch 11/250\n",
      "4209/4209 [==============================] - 4s 1ms/step - loss: 4682510.0000 - mean_absolute_error: 4682510.0000 - val_loss: 5204911.5000 - val_mean_absolute_error: 5204911.5000\n",
      "Epoch 12/250\n",
      "4209/4209 [==============================] - 4s 1ms/step - loss: 4434444.0000 - mean_absolute_error: 4434444.0000 - val_loss: 4723114.5000 - val_mean_absolute_error: 4723114.5000\n",
      "Epoch 13/250\n",
      "4209/4209 [==============================] - 4s 1ms/step - loss: 4308625.0000 - mean_absolute_error: 4308625.0000 - val_loss: 4937970.5000 - val_mean_absolute_error: 4937970.5000\n",
      "Epoch 14/250\n",
      "4209/4209 [==============================] - 4s 1ms/step - loss: 4207156.0000 - mean_absolute_error: 4207156.0000 - val_loss: 4727737.0000 - val_mean_absolute_error: 4727737.0000\n",
      "Epoch 15/250\n",
      "4209/4209 [==============================] - 5s 1ms/step - loss: 4058337.7500 - mean_absolute_error: 4058337.7500 - val_loss: 5067581.0000 - val_mean_absolute_error: 5067581.0000\n",
      "Epoch 16/250\n",
      "4209/4209 [==============================] - 4s 1ms/step - loss: 3938869.0000 - mean_absolute_error: 3938869.0000 - val_loss: 4618450.5000 - val_mean_absolute_error: 4618450.5000\n",
      "Epoch 17/250\n",
      "4209/4209 [==============================] - 4s 1ms/step - loss: 3893160.5000 - mean_absolute_error: 3893160.5000 - val_loss: 3868894.5000 - val_mean_absolute_error: 3868894.5000\n",
      "Epoch 18/250\n",
      "4209/4209 [==============================] - 4s 974us/step - loss: 3823286.2500 - mean_absolute_error: 3823286.2500 - val_loss: 4153010.2500 - val_mean_absolute_error: 4153010.2500\n",
      "Epoch 19/250\n",
      "4209/4209 [==============================] - 4s 1ms/step - loss: 3700260.0000 - mean_absolute_error: 3700260.0000 - val_loss: 3891164.5000 - val_mean_absolute_error: 3891164.5000\n",
      "Epoch 20/250\n",
      "4209/4209 [==============================] - 4s 1ms/step - loss: 3571359.0000 - mean_absolute_error: 3571359.0000 - val_loss: 5110187.0000 - val_mean_absolute_error: 5110187.0000\n",
      "Epoch 21/250\n",
      "4209/4209 [==============================] - 4s 997us/step - loss: 3528143.7500 - mean_absolute_error: 3528143.7500 - val_loss: 4417999.0000 - val_mean_absolute_error: 4417999.0000\n",
      "Epoch 22/250\n",
      "4209/4209 [==============================] - 4s 1ms/step - loss: 3465252.7500 - mean_absolute_error: 3465252.7500 - val_loss: 4389099.5000 - val_mean_absolute_error: 4389099.5000\n",
      "Epoch 23/250\n",
      "4209/4209 [==============================] - 4s 980us/step - loss: 3400302.5000 - mean_absolute_error: 3400302.5000 - val_loss: 5358757.5000 - val_mean_absolute_error: 5358757.5000\n",
      "Epoch 24/250\n",
      "4209/4209 [==============================] - 4s 966us/step - loss: 3319709.5000 - mean_absolute_error: 3319709.5000 - val_loss: 4208238.0000 - val_mean_absolute_error: 4208238.0000\n",
      "Epoch 25/250\n",
      "4209/4209 [==============================] - 4s 1ms/step - loss: 3287077.0000 - mean_absolute_error: 3287077.0000 - val_loss: 3589464.5000 - val_mean_absolute_error: 3589464.5000\n",
      "Epoch 26/250\n",
      "4209/4209 [==============================] - 5s 1ms/step - loss: 3196091.0000 - mean_absolute_error: 3196091.0000 - val_loss: 3904857.0000 - val_mean_absolute_error: 3904857.0000\n",
      "Epoch 27/250\n",
      "4209/4209 [==============================] - 4s 1ms/step - loss: 3203401.0000 - mean_absolute_error: 3203401.0000 - val_loss: 4040016.7500 - val_mean_absolute_error: 4040016.7500\n",
      "Epoch 28/250\n",
      "4209/4209 [==============================] - 4s 1ms/step - loss: 3174187.0000 - mean_absolute_error: 3174187.0000 - val_loss: 4211665.5000 - val_mean_absolute_error: 4211665.5000\n",
      "Epoch 29/250\n",
      "4209/4209 [==============================] - 4s 1ms/step - loss: 3094841.5000 - mean_absolute_error: 3094841.5000 - val_loss: 3487186.7500 - val_mean_absolute_error: 3487186.7500\n",
      "Epoch 30/250\n",
      "4209/4209 [==============================] - 4s 1ms/step - loss: 3049963.7500 - mean_absolute_error: 3049963.7500 - val_loss: 3861124.2500 - val_mean_absolute_error: 3861124.2500\n",
      "Epoch 31/250\n",
      "4209/4209 [==============================] - 4s 1ms/step - loss: 3031195.0000 - mean_absolute_error: 3031195.0000 - val_loss: 3546093.7500 - val_mean_absolute_error: 3546093.7500\n",
      "Epoch 32/250\n",
      "4209/4209 [==============================] - 4s 1ms/step - loss: 2993301.7500 - mean_absolute_error: 2993301.7500 - val_loss: 3680745.5000 - val_mean_absolute_error: 3680745.5000\n",
      "Epoch 33/250\n",
      "4209/4209 [==============================] - 4s 999us/step - loss: 2933788.2500 - mean_absolute_error: 2933788.2500 - val_loss: 3697750.5000 - val_mean_absolute_error: 3697750.5000\n",
      "Epoch 34/250\n",
      "4209/4209 [==============================] - 4s 1ms/step - loss: 2921271.5000 - mean_absolute_error: 2921271.5000 - val_loss: 3585671.2500 - val_mean_absolute_error: 3585671.2500\n",
      "Epoch 35/250\n",
      "4209/4209 [==============================] - 4s 976us/step - loss: 2880267.0000 - mean_absolute_error: 2880267.0000 - val_loss: 3602809.2500 - val_mean_absolute_error: 3602809.2500\n",
      "Epoch 36/250\n",
      "4209/4209 [==============================] - 4s 978us/step - loss: 2818819.5000 - mean_absolute_error: 2818819.5000 - val_loss: 4575409.0000 - val_mean_absolute_error: 4575409.0000\n",
      "Epoch 37/250\n",
      "4209/4209 [==============================] - 4s 952us/step - loss: 2833485.5000 - mean_absolute_error: 2833485.5000 - val_loss: 3601586.2500 - val_mean_absolute_error: 3601586.2500\n",
      "Epoch 38/250\n",
      "4209/4209 [==============================] - 4s 1ms/step - loss: 2767117.2500 - mean_absolute_error: 2767117.2500 - val_loss: 3705816.0000 - val_mean_absolute_error: 3705816.0000\n",
      "Epoch 39/250\n",
      "4209/4209 [==============================] - 4s 984us/step - loss: 2730928.5000 - mean_absolute_error: 2730928.5000 - val_loss: 3900838.0000 - val_mean_absolute_error: 3900838.0000\n",
      "Epoch 40/250\n",
      "4209/4209 [==============================] - 4s 997us/step - loss: 2761543.7500 - mean_absolute_error: 2761543.7500 - val_loss: 3545822.5000 - val_mean_absolute_error: 3545822.5000\n",
      "Epoch 41/250\n",
      "4209/4209 [==============================] - 4s 972us/step - loss: 2674066.2500 - mean_absolute_error: 2674066.2500 - val_loss: 3607590.2500 - val_mean_absolute_error: 3607590.2500\n",
      "Epoch 42/250\n",
      "4209/4209 [==============================] - 4s 1ms/step - loss: 2644416.7500 - mean_absolute_error: 2644416.7500 - val_loss: 3362487.0000 - val_mean_absolute_error: 3362487.0000\n",
      "Epoch 43/250\n",
      "4209/4209 [==============================] - 4s 938us/step - loss: 2612175.0000 - mean_absolute_error: 2612175.0000 - val_loss: 3521271.2500 - val_mean_absolute_error: 3521271.2500\n",
      "Epoch 44/250\n",
      "4209/4209 [==============================] - 4s 977us/step - loss: 2607095.7500 - mean_absolute_error: 2607095.7500 - val_loss: 3613559.2500 - val_mean_absolute_error: 3613559.2500\n",
      "Epoch 45/250\n",
      "4209/4209 [==============================] - 4s 1ms/step - loss: 2545380.5000 - mean_absolute_error: 2545380.5000 - val_loss: 3492809.2500 - val_mean_absolute_error: 3492809.2500\n",
      "Epoch 46/250\n",
      "4209/4209 [==============================] - 4s 1ms/step - loss: 2564552.5000 - mean_absolute_error: 2564552.5000 - val_loss: 3564535.0000 - val_mean_absolute_error: 3564535.0000\n",
      "Epoch 47/250\n",
      "4209/4209 [==============================] - 4s 999us/step - loss: 2539255.2500 - mean_absolute_error: 2539255.2500 - val_loss: 3439881.7500 - val_mean_absolute_error: 3439881.7500\n",
      "Epoch 48/250\n",
      "4209/4209 [==============================] - 4s 966us/step - loss: 2533971.0000 - mean_absolute_error: 2533971.0000 - val_loss: 3077308.0000 - val_mean_absolute_error: 3077308.0000\n",
      "Epoch 49/250\n",
      "4209/4209 [==============================] - 4s 1ms/step - loss: 2467705.0000 - mean_absolute_error: 2467705.0000 - val_loss: 3240703.2500 - val_mean_absolute_error: 3240703.2500\n",
      "Epoch 50/250\n",
      "4209/4209 [==============================] - 4s 975us/step - loss: 2422871.7500 - mean_absolute_error: 2422871.7500 - val_loss: 3331715.2500 - val_mean_absolute_error: 3331715.2500\n",
      "Epoch 51/250\n",
      "4209/4209 [==============================] - 4s 1ms/step - loss: 2401346.7500 - mean_absolute_error: 2401346.7500 - val_loss: 3158351.2500 - val_mean_absolute_error: 3158351.2500\n",
      "Epoch 52/250\n",
      "4209/4209 [==============================] - 4s 1ms/step - loss: 2397717.0000 - mean_absolute_error: 2397717.0000 - val_loss: 3266882.0000 - val_mean_absolute_error: 3266882.0000\n",
      "Epoch 53/250\n",
      "4209/4209 [==============================] - 4s 1ms/step - loss: 2369709.2500 - mean_absolute_error: 2369709.2500 - val_loss: 3229637.2500 - val_mean_absolute_error: 3229637.2500\n",
      "Epoch 54/250\n",
      "4209/4209 [==============================] - 4s 1ms/step - loss: 2335547.7500 - mean_absolute_error: 2335547.7500 - val_loss: 3050599.0000 - val_mean_absolute_error: 3050599.0000\n",
      "Epoch 55/250\n",
      "4209/4209 [==============================] - 4s 964us/step - loss: 2317235.0000 - mean_absolute_error: 2317235.0000 - val_loss: 2970991.7500 - val_mean_absolute_error: 2970991.7500\n",
      "Epoch 56/250\n",
      "4209/4209 [==============================] - 4s 989us/step - loss: 2300131.2500 - mean_absolute_error: 2300131.2500 - val_loss: 2900230.7500 - val_mean_absolute_error: 2900230.7500\n",
      "Epoch 57/250\n",
      "4209/4209 [==============================] - 4s 982us/step - loss: 2302614.5000 - mean_absolute_error: 2302614.5000 - val_loss: 3301055.5000 - val_mean_absolute_error: 3301055.5000\n",
      "Epoch 58/250\n",
      "4209/4209 [==============================] - 4s 996us/step - loss: 2272877.5000 - mean_absolute_error: 2272877.5000 - val_loss: 3317151.2500 - val_mean_absolute_error: 3317151.2500\n",
      "Epoch 59/250\n",
      "4209/4209 [==============================] - 4s 986us/step - loss: 2244285.7500 - mean_absolute_error: 2244285.7500 - val_loss: 3080478.0000 - val_mean_absolute_error: 3080478.0000\n",
      "Epoch 60/250\n",
      "4209/4209 [==============================] - 4s 970us/step - loss: 2234354.7500 - mean_absolute_error: 2234354.7500 - val_loss: 2878373.2500 - val_mean_absolute_error: 2878373.2500\n",
      "Epoch 61/250\n",
      "4209/4209 [==============================] - 4s 1ms/step - loss: 2202979.0000 - mean_absolute_error: 2202979.0000 - val_loss: 2895302.0000 - val_mean_absolute_error: 2895302.0000\n",
      "Epoch 62/250\n",
      "4209/4209 [==============================] - 4s 998us/step - loss: 2213267.7500 - mean_absolute_error: 2213267.7500 - val_loss: 3398120.7500 - val_mean_absolute_error: 3398120.7500\n",
      "Epoch 63/250\n",
      "4209/4209 [==============================] - 4s 989us/step - loss: 2166787.7500 - mean_absolute_error: 2166787.7500 - val_loss: 3153610.0000 - val_mean_absolute_error: 3153610.0000\n",
      "Epoch 64/250\n",
      "4209/4209 [==============================] - 4s 991us/step - loss: 2174373.5000 - mean_absolute_error: 2174373.5000 - val_loss: 2949553.2500 - val_mean_absolute_error: 2949553.2500\n",
      "Epoch 65/250\n",
      "4209/4209 [==============================] - 4s 1ms/step - loss: 2140252.2500 - mean_absolute_error: 2140252.2500 - val_loss: 3806214.7500 - val_mean_absolute_error: 3806214.7500\n",
      "Epoch 66/250\n",
      "4209/4209 [==============================] - 4s 1ms/step - loss: 2140663.7500 - mean_absolute_error: 2140663.7500 - val_loss: 2779316.5000 - val_mean_absolute_error: 2779316.5000\n",
      "Epoch 67/250\n",
      "4209/4209 [==============================] - 5s 1ms/step - loss: 2073030.7500 - mean_absolute_error: 2073030.7500 - val_loss: 3140013.5000 - val_mean_absolute_error: 3140013.5000\n",
      "Epoch 68/250\n",
      "4209/4209 [==============================] - 5s 1ms/step - loss: 2061216.8750 - mean_absolute_error: 2061216.8750 - val_loss: 3498844.2500 - val_mean_absolute_error: 3498844.2500\n",
      "Epoch 69/250\n",
      "4209/4209 [==============================] - 4s 1ms/step - loss: 2107057.2500 - mean_absolute_error: 2107057.2500 - val_loss: 2804455.2500 - val_mean_absolute_error: 2804455.2500\n",
      "Epoch 70/250\n",
      "4209/4209 [==============================] - 4s 1ms/step - loss: 2072014.5000 - mean_absolute_error: 2072014.5000 - val_loss: 3327742.7500 - val_mean_absolute_error: 3327742.7500\n",
      "Epoch 71/250\n",
      "4209/4209 [==============================] - 4s 952us/step - loss: 2077068.3750 - mean_absolute_error: 2077068.3750 - val_loss: 3056700.7500 - val_mean_absolute_error: 3056700.7500\n",
      "Epoch 72/250\n",
      "4209/4209 [==============================] - 4s 988us/step - loss: 2038572.1250 - mean_absolute_error: 2038572.1250 - val_loss: 3298073.7500 - val_mean_absolute_error: 3298073.7500\n",
      "Epoch 73/250\n",
      "4209/4209 [==============================] - 4s 1ms/step - loss: 2013119.7500 - mean_absolute_error: 2013119.7500 - val_loss: 3142194.2500 - val_mean_absolute_error: 3142194.2500\n",
      "Epoch 74/250\n",
      "4209/4209 [==============================] - 4s 1ms/step - loss: 1991340.2500 - mean_absolute_error: 1991340.2500 - val_loss: 2793821.7500 - val_mean_absolute_error: 2793821.7500\n",
      "Epoch 75/250\n",
      "4209/4209 [==============================] - 4s 966us/step - loss: 1993564.3750 - mean_absolute_error: 1993564.3750 - val_loss: 3044104.7500 - val_mean_absolute_error: 3044104.7500\n",
      "Epoch 76/250\n",
      "4209/4209 [==============================] - 5s 1ms/step - loss: 1983356.0000 - mean_absolute_error: 1983356.0000 - val_loss: 2732521.0000 - val_mean_absolute_error: 2732521.0000\n",
      "Epoch 77/250\n",
      "4209/4209 [==============================] - 4s 981us/step - loss: 1991637.0000 - mean_absolute_error: 1991637.0000 - val_loss: 2784143.5000 - val_mean_absolute_error: 2784143.5000\n",
      "Epoch 78/250\n",
      "4209/4209 [==============================] - 4s 974us/step - loss: 2014771.3750 - mean_absolute_error: 2014771.3750 - val_loss: 2836128.0000 - val_mean_absolute_error: 2836128.0000\n",
      "Epoch 79/250\n",
      "4209/4209 [==============================] - 4s 958us/step - loss: 1964709.2500 - mean_absolute_error: 1964709.2500 - val_loss: 2810852.5000 - val_mean_absolute_error: 2810852.5000\n",
      "Epoch 80/250\n",
      "4209/4209 [==============================] - 4s 1ms/step - loss: 1970378.2500 - mean_absolute_error: 1970378.2500 - val_loss: 2960411.5000 - val_mean_absolute_error: 2960411.5000\n",
      "Epoch 81/250\n",
      "4209/4209 [==============================] - 4s 973us/step - loss: 1921345.2500 - mean_absolute_error: 1921345.2500 - val_loss: 3090024.0000 - val_mean_absolute_error: 3090024.0000\n",
      "Epoch 82/250\n",
      "4209/4209 [==============================] - 4s 984us/step - loss: 1906597.7500 - mean_absolute_error: 1906597.7500 - val_loss: 2862910.2500 - val_mean_absolute_error: 2862910.2500\n",
      "Epoch 83/250\n",
      "4209/4209 [==============================] - 4s 1ms/step - loss: 1907508.0000 - mean_absolute_error: 1907508.0000 - val_loss: 2641379.0000 - val_mean_absolute_error: 2641379.0000\n",
      "Epoch 84/250\n",
      "4209/4209 [==============================] - 4s 1ms/step - loss: 1857164.3750 - mean_absolute_error: 1857164.3750 - val_loss: 3152403.2500 - val_mean_absolute_error: 3152403.2500\n",
      "Epoch 85/250\n"
     ]
    },
    {
     "name": "stdout",
     "output_type": "stream",
     "text": [
      "4209/4209 [==============================] - 4s 1ms/step - loss: 1861517.8750 - mean_absolute_error: 1861517.8750 - val_loss: 2967381.0000 - val_mean_absolute_error: 2967381.0000\n",
      "Epoch 86/250\n",
      "4209/4209 [==============================] - 4s 1ms/step - loss: 1859782.5000 - mean_absolute_error: 1859782.5000 - val_loss: 2677756.5000 - val_mean_absolute_error: 2677756.5000\n",
      "Epoch 87/250\n",
      "4209/4209 [==============================] - 4s 997us/step - loss: 1848139.0000 - mean_absolute_error: 1848139.0000 - val_loss: 3051187.2500 - val_mean_absolute_error: 3051187.2500\n",
      "Epoch 88/250\n",
      "4209/4209 [==============================] - 4s 1ms/step - loss: 1877667.6250 - mean_absolute_error: 1877667.6250 - val_loss: 2883325.0000 - val_mean_absolute_error: 2883325.0000\n",
      "Epoch 89/250\n",
      "4209/4209 [==============================] - 4s 969us/step - loss: 1882553.0000 - mean_absolute_error: 1882553.0000 - val_loss: 2807950.5000 - val_mean_absolute_error: 2807950.5000\n",
      "Epoch 90/250\n",
      "4209/4209 [==============================] - 4s 1ms/step - loss: 1840736.8750 - mean_absolute_error: 1840736.8750 - val_loss: 2925848.5000 - val_mean_absolute_error: 2925848.5000\n",
      "Epoch 91/250\n",
      "4209/4209 [==============================] - 4s 991us/step - loss: 1813757.0000 - mean_absolute_error: 1813757.0000 - val_loss: 2609783.7500 - val_mean_absolute_error: 2609783.7500\n",
      "Epoch 92/250\n",
      "4209/4209 [==============================] - 4s 1ms/step - loss: 1801091.5000 - mean_absolute_error: 1801091.5000 - val_loss: 2755641.0000 - val_mean_absolute_error: 2755641.0000\n",
      "Epoch 93/250\n",
      "4209/4209 [==============================] - 4s 996us/step - loss: 1805425.3750 - mean_absolute_error: 1805425.3750 - val_loss: 2959014.7500 - val_mean_absolute_error: 2959014.7500\n",
      "Epoch 94/250\n",
      "4209/4209 [==============================] - 4s 977us/step - loss: 1807927.3750 - mean_absolute_error: 1807927.3750 - val_loss: 2710999.0000 - val_mean_absolute_error: 2710999.0000\n",
      "Epoch 95/250\n",
      "4209/4209 [==============================] - 4s 1ms/step - loss: 1776101.6250 - mean_absolute_error: 1776101.6250 - val_loss: 2767393.7500 - val_mean_absolute_error: 2767393.7500\n",
      "Epoch 96/250\n",
      "4209/4209 [==============================] - 4s 965us/step - loss: 1755261.6250 - mean_absolute_error: 1755261.6250 - val_loss: 2635063.7500 - val_mean_absolute_error: 2635063.7500\n",
      "Epoch 97/250\n",
      "4209/4209 [==============================] - 4s 1ms/step - loss: 1778690.2500 - mean_absolute_error: 1778690.2500 - val_loss: 2640741.2500 - val_mean_absolute_error: 2640741.2500\n",
      "Epoch 98/250\n",
      "4209/4209 [==============================] - 4s 1ms/step - loss: 1761194.0000 - mean_absolute_error: 1761194.0000 - val_loss: 2987567.0000 - val_mean_absolute_error: 2987567.0000\n",
      "Epoch 99/250\n",
      "4209/4209 [==============================] - 4s 958us/step - loss: 1766339.6250 - mean_absolute_error: 1766339.6250 - val_loss: 2737641.7500 - val_mean_absolute_error: 2737641.7500\n",
      "Epoch 100/250\n",
      "4209/4209 [==============================] - 4s 990us/step - loss: 1745240.5000 - mean_absolute_error: 1745240.5000 - val_loss: 2920671.2500 - val_mean_absolute_error: 2920671.2500\n",
      "Epoch 101/250\n",
      "4209/4209 [==============================] - 4s 1ms/step - loss: 1747844.6250 - mean_absolute_error: 1747844.6250 - val_loss: 2800610.0000 - val_mean_absolute_error: 2800610.0000\n",
      "Epoch 102/250\n",
      "4209/4209 [==============================] - 4s 1ms/step - loss: 1726199.1250 - mean_absolute_error: 1726199.1250 - val_loss: 2596092.5000 - val_mean_absolute_error: 2596092.5000\n",
      "Epoch 103/250\n",
      "4209/4209 [==============================] - 4s 1ms/step - loss: 1716185.7500 - mean_absolute_error: 1716185.7500 - val_loss: 2474965.0000 - val_mean_absolute_error: 2474965.0000\n",
      "Epoch 104/250\n",
      "4209/4209 [==============================] - 4s 975us/step - loss: 1687615.7500 - mean_absolute_error: 1687615.7500 - val_loss: 2738136.2500 - val_mean_absolute_error: 2738136.2500\n",
      "Epoch 105/250\n",
      "4209/4209 [==============================] - 4s 1ms/step - loss: 1735621.3750 - mean_absolute_error: 1735621.3750 - val_loss: 3048111.0000 - val_mean_absolute_error: 3048111.0000\n",
      "Epoch 106/250\n",
      "4209/4209 [==============================] - 4s 1ms/step - loss: 1669276.8750 - mean_absolute_error: 1669276.8750 - val_loss: 2865553.2500 - val_mean_absolute_error: 2865553.2500\n",
      "Epoch 107/250\n",
      "4209/4209 [==============================] - 4s 1ms/step - loss: 1696988.5000 - mean_absolute_error: 1696988.5000 - val_loss: 2566112.2500 - val_mean_absolute_error: 2566112.2500\n",
      "Epoch 108/250\n",
      "4209/4209 [==============================] - 4s 1ms/step - loss: 1660549.6250 - mean_absolute_error: 1660549.6250 - val_loss: 3047748.2500 - val_mean_absolute_error: 3047748.2500\n",
      "Epoch 109/250\n",
      "4209/4209 [==============================] - 4s 1ms/step - loss: 1675452.0000 - mean_absolute_error: 1675452.0000 - val_loss: 2871068.0000 - val_mean_absolute_error: 2871068.0000\n",
      "Epoch 110/250\n",
      "4209/4209 [==============================] - 4s 970us/step - loss: 1651783.5000 - mean_absolute_error: 1651783.5000 - val_loss: 2971052.0000 - val_mean_absolute_error: 2971052.0000\n",
      "Epoch 111/250\n",
      "4209/4209 [==============================] - 4s 1ms/step - loss: 1652770.5000 - mean_absolute_error: 1652770.5000 - val_loss: 2863106.0000 - val_mean_absolute_error: 2863106.0000\n",
      "Epoch 112/250\n",
      "4209/4209 [==============================] - 4s 1ms/step - loss: 1631858.2500 - mean_absolute_error: 1631858.2500 - val_loss: 2560364.5000 - val_mean_absolute_error: 2560364.5000\n",
      "Epoch 113/250\n",
      "4209/4209 [==============================] - 4s 966us/step - loss: 1639854.3750 - mean_absolute_error: 1639854.3750 - val_loss: 2622621.7500 - val_mean_absolute_error: 2622621.7500\n",
      "Epoch 114/250\n",
      "4209/4209 [==============================] - 4s 1ms/step - loss: 1654351.7500 - mean_absolute_error: 1654351.7500 - val_loss: 2510017.7500 - val_mean_absolute_error: 2510017.7500\n",
      "Epoch 115/250\n",
      "4209/4209 [==============================] - 4s 1ms/step - loss: 1675041.8750 - mean_absolute_error: 1675041.8750 - val_loss: 2562430.0000 - val_mean_absolute_error: 2562430.0000\n",
      "Epoch 116/250\n",
      "4209/4209 [==============================] - 4s 976us/step - loss: 1651632.3750 - mean_absolute_error: 1651632.3750 - val_loss: 2261982.2500 - val_mean_absolute_error: 2261982.2500\n",
      "Epoch 117/250\n",
      "4209/4209 [==============================] - 4s 975us/step - loss: 1586632.8750 - mean_absolute_error: 1586632.8750 - val_loss: 2405660.7500 - val_mean_absolute_error: 2405660.7500\n",
      "Epoch 118/250\n",
      "4209/4209 [==============================] - 4s 1ms/step - loss: 1586964.7500 - mean_absolute_error: 1586964.7500 - val_loss: 2631865.0000 - val_mean_absolute_error: 2631865.0000\n",
      "Epoch 119/250\n",
      "4209/4209 [==============================] - 4s 1ms/step - loss: 1588701.5000 - mean_absolute_error: 1588701.5000 - val_loss: 3329147.7500 - val_mean_absolute_error: 3329147.7500\n",
      "Epoch 120/250\n",
      "4209/4209 [==============================] - 4s 999us/step - loss: 1622525.7500 - mean_absolute_error: 1622525.7500 - val_loss: 2721816.7500 - val_mean_absolute_error: 2721816.7500\n",
      "Epoch 121/250\n",
      "4209/4209 [==============================] - 4s 985us/step - loss: 1586271.7500 - mean_absolute_error: 1586271.7500 - val_loss: 2903833.7500 - val_mean_absolute_error: 2903833.7500\n",
      "Epoch 122/250\n",
      "4209/4209 [==============================] - 4s 1ms/step - loss: 1617598.5000 - mean_absolute_error: 1617598.5000 - val_loss: 2469124.0000 - val_mean_absolute_error: 2469124.0000\n",
      "Epoch 123/250\n",
      "4209/4209 [==============================] - 4s 989us/step - loss: 1537433.8750 - mean_absolute_error: 1537433.8750 - val_loss: 3651343.2500 - val_mean_absolute_error: 3651343.2500\n",
      "Epoch 124/250\n",
      "4209/4209 [==============================] - 4s 1ms/step - loss: 1584466.8750 - mean_absolute_error: 1584466.8750 - val_loss: 2413098.7500 - val_mean_absolute_error: 2413098.7500\n",
      "Epoch 125/250\n",
      "4209/4209 [==============================] - 4s 986us/step - loss: 1566679.2500 - mean_absolute_error: 1566679.2500 - val_loss: 2728909.0000 - val_mean_absolute_error: 2728909.0000\n",
      "Epoch 126/250\n",
      "4209/4209 [==============================] - 4s 985us/step - loss: 1543354.3750 - mean_absolute_error: 1543354.3750 - val_loss: 2518384.2500 - val_mean_absolute_error: 2518384.2500\n",
      "Epoch 127/250\n",
      "4209/4209 [==============================] - 4s 967us/step - loss: 1543453.8750 - mean_absolute_error: 1543453.8750 - val_loss: 2728431.0000 - val_mean_absolute_error: 2728431.0000\n",
      "Epoch 128/250\n",
      "4209/4209 [==============================] - 4s 998us/step - loss: 1528318.1250 - mean_absolute_error: 1528318.1250 - val_loss: 2513147.5000 - val_mean_absolute_error: 2513147.5000\n",
      "Epoch 129/250\n",
      "4209/4209 [==============================] - 4s 941us/step - loss: 1539374.6250 - mean_absolute_error: 1539374.6250 - val_loss: 2701546.7500 - val_mean_absolute_error: 2701546.7500\n",
      "Epoch 130/250\n",
      "4209/4209 [==============================] - 4s 1ms/step - loss: 1536421.2500 - mean_absolute_error: 1536421.2500 - val_loss: 2496630.5000 - val_mean_absolute_error: 2496630.5000\n",
      "Epoch 131/250\n",
      "4209/4209 [==============================] - 4s 968us/step - loss: 1544390.0000 - mean_absolute_error: 1544390.0000 - val_loss: 2611714.0000 - val_mean_absolute_error: 2611714.0000\n",
      "Epoch 132/250\n",
      "4209/4209 [==============================] - 4s 1ms/step - loss: 1520809.7500 - mean_absolute_error: 1520809.7500 - val_loss: 2794621.7500 - val_mean_absolute_error: 2794621.7500\n",
      "Epoch 133/250\n",
      "4209/4209 [==============================] - 4s 956us/step - loss: 1533107.6250 - mean_absolute_error: 1533107.6250 - val_loss: 2514324.5000 - val_mean_absolute_error: 2514324.5000\n",
      "Epoch 134/250\n",
      "4209/4209 [==============================] - 4s 1ms/step - loss: 1496082.8750 - mean_absolute_error: 1496082.8750 - val_loss: 2394792.0000 - val_mean_absolute_error: 2394792.0000\n",
      "Epoch 135/250\n",
      "4209/4209 [==============================] - 4s 1ms/step - loss: 1484439.3750 - mean_absolute_error: 1484439.3750 - val_loss: 2673427.2500 - val_mean_absolute_error: 2673427.2500\n",
      "Epoch 136/250\n",
      "4209/4209 [==============================] - 4s 1ms/step - loss: 1495936.0000 - mean_absolute_error: 1495936.0000 - val_loss: 3049761.7500 - val_mean_absolute_error: 3049761.7500\n"
     ]
    },
    {
     "data": {
      "text/plain": [
       "<tensorflow.python.keras.callbacks.History at 0x10440c10eb0>"
      ]
     },
     "execution_count": 8,
     "metadata": {},
     "output_type": "execute_result"
    }
   ],
   "source": [
    "NN_model.fit(X_train, y_train, epochs=250, batch_size=1, validation_split = 0.05 , callbacks=callbacks_list )"
   ]
  },
  {
   "cell_type": "code",
   "execution_count": 9,
   "metadata": {},
   "outputs": [],
   "source": [
    "#Saving the model for Ensembling\n",
    "filename = 'model_F4T2.h5'\n",
    "NN_model.save(filename)"
   ]
  },
  {
   "cell_type": "code",
   "execution_count": 10,
   "metadata": {},
   "outputs": [],
   "source": [
    "def plotfig (ypred, yactual, strtitle, y_max):\n",
    "    plt.scatter(ypred, yactual.values.ravel())\n",
    "    plt.title(strtitle)\n",
    "    plt.plot([(0, 0), (y_max, y_max)], [(0, 0), (y_max, y_max)])\n",
    "    plt.xlim(0, y_max)\n",
    "    plt.ylim(0, y_max)\n",
    "    plt.xlabel('Predicted', fontsize=12)\n",
    "    plt.ylabel('Actual', fontsize=12)\n",
    "    plt.show()"
   ]
  },
  {
   "cell_type": "code",
   "execution_count": 11,
   "metadata": {},
   "outputs": [
    {
     "data": {
      "image/png": "[encoded data removed]",
      "text/plain": [
       "<Figure size 432x288 with 1 Axes>"
      ]
     },
     "metadata": {
      "needs_background": "light"
     },
     "output_type": "display_data"
    }
   ],
   "source": [
    "#Best fit line for Training data \n",
    "plotfig(NN_model.predict(X_train), y_train, 'Predicted vs. Actual responses for MLP', max(y_train) + 0.1*max(y_train))"
   ]
  },
  {
   "cell_type": "code",
   "execution_count": 13,
   "metadata": {},
   "outputs": [],
   "source": [
    "#Importing the test data \n",
    "pickle_in = open(\"X_test_T2.pickle\",\"rb\")\n",
    "X_test = pickle.load(pickle_in)"
   ]
  },
  {
   "cell_type": "code",
   "execution_count": 14,
   "metadata": {},
   "outputs": [
    {
     "name": "stdout",
     "output_type": "stream",
     "text": [
      "[[16273760.]\n",
      " [40531710.]\n",
      " [37720756.]\n",
      " ...\n",
      " [19714746.]\n",
      " [39912200.]\n",
      " [34119812.]]\n"
     ]
    }
   ],
   "source": [
    "predictions = NN_model.predict(X_test)\n",
    "print(predictions)"
   ]
  },
  {
   "cell_type": "code",
   "execution_count": 11,
   "metadata": {},
   "outputs": [
    {
     "data": {
      "text/plain": [
       "(4520, 1)"
      ]
     },
     "execution_count": 11,
     "metadata": {},
     "output_type": "execute_result"
    }
   ],
   "source": [
    "predictions.shape"
   ]
  },
  {
   "cell_type": "code",
   "execution_count": 15,
   "metadata": {},
   "outputs": [],
   "source": [
    "testsub =  pd.read_csv('C:/Datasets/predict-volcanic-eruptions-ingv-oe/sample_submission.csv')"
   ]
  },
  {
   "cell_type": "code",
   "execution_count": 16,
   "metadata": {},
   "outputs": [],
   "source": [
    "#Creating Submission file to kaggle \n",
    "submission = pd.DataFrame()\n",
    "submission['segment_id'] = testsub['segment_id']\n",
    "submission['time_to_eruption'] = predictions\n",
    "submission.to_csv('submission_MLP_121320_F4T2.csv', header=True, index=False)"
   ]
  }
 ],
 "metadata": {
  "kernelspec": {
   "display_name": "Python 3",
   "language": "python",
   "name": "python3"
  },
  "language_info": {
   "codemirror_mode": {
    "name": "ipython",
    "version": 3
   },
   "file_extension": ".py",
   "mimetype": "text/x-python",
   "name": "python",
   "nbconvert_exporter": "python",
   "pygments_lexer": "ipython3",
   "version": "3.8.5"
  }
 },
 "nbformat": 4,
 "nbformat_minor": 4
}
