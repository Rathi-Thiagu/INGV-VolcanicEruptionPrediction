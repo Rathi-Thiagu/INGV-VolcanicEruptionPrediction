{
 "cells": [
  {
   "cell_type": "markdown",
   "metadata": {},
   "source": [
    "### MLP Model 4 (100-256-1) using STFT Dataset"
   ]
  },
  {
   "cell_type": "code",
   "execution_count": 1,
   "metadata": {},
   "outputs": [],
   "source": [
    "#Importing essential libraries\n",
    "from sklearn.datasets import fetch_openml\n",
    "\n",
    "import numpy as np\n",
    "import matplotlib.pyplot as plt\n",
    "%matplotlib inline\n",
    "import os \n",
    "import cv2\n",
    "import random \n",
    "import math\n",
    "import pandas as pd\n",
    "\n",
    "from datetime import datetime\n",
    "\n",
    "from sklearn import metrics\n",
    "from sklearn.metrics import accuracy_score \n",
    "from sklearn.metrics import classification_report\n",
    "from sklearn.metrics import confusion_matrix\n",
    "from tensorflow.keras.callbacks import ModelCheckpoint\n",
    "from tensorflow.keras.models import Sequential\n",
    "from tensorflow.keras.layers import Dense, Activation, Flatten\n",
    "\n",
    "from sklearn.preprocessing import StandardScaler\n",
    "from sklearn.model_selection import train_test_split\n",
    "from sklearn.model_selection import cross_val_score\n",
    "from sklearn.model_selection import cross_val_predict\n",
    "from sklearn.model_selection import GridSearchCV, RandomizedSearchCV\n",
    "from sklearn.model_selection import KFold\n",
    "from sklearn.model_selection import StratifiedKFold\n",
    "\n",
    "from tensorflow.keras.models import Sequential, model_from_json\n",
    "from tensorflow.keras import layers\n",
    "from tensorflow.keras.layers import Conv1D,Conv2D,MaxPooling1D,Flatten,Dense,Dropout,BatchNormalization, GRU, LSTM, RNN\n",
    "from tensorflow.keras import regularizers as reg\n",
    "\n",
    "import tensorflow as tf\n",
    "from tensorflow import keras\n",
    "import pickle"
   ]
  },
  {
   "cell_type": "code",
   "execution_count": 2,
   "metadata": {},
   "outputs": [],
   "source": [
    "# Importing the Training data from pickle file \n",
    "pickle_in = open(\"X_train_T2.pickle\",\"rb\")\n",
    "X_train = pickle.load(pickle_in)\n",
    "\n",
    "pickle_in = open(\"y_train_T2.pickle\",\"rb\")\n",
    "y_train = pickle.load(pickle_in)"
   ]
  },
  {
   "cell_type": "code",
   "execution_count": 3,
   "metadata": {},
   "outputs": [
    {
     "name": "stdout",
     "output_type": "stream",
     "text": [
      "X_train : (4431, 100)\n",
      "y_train : (4431,)\n"
     ]
    }
   ],
   "source": [
    "print('X_train :', X_train.shape)\n",
    "print('y_train :', y_train.shape)"
   ]
  },
  {
   "cell_type": "code",
   "execution_count": 4,
   "metadata": {},
   "outputs": [],
   "source": [
    "X_train=X_train.replace([np.inf, -np.inf, np.nan], 0)"
   ]
  },
  {
   "cell_type": "code",
   "execution_count": null,
   "metadata": {},
   "outputs": [],
   "source": [
    "#Min Max Scaler\n",
    "# from sklearn.preprocessing import MinMaxScaler\n",
    "# scaler = MinMaxScaler()\n",
    "# X_train=scaler.fit_transform(X_train)\n",
    "# X_test=scaler.transform(X_test)"
   ]
  },
  {
   "cell_type": "code",
   "execution_count": null,
   "metadata": {},
   "outputs": [],
   "source": [
    "#Adaptive Learning Rate\n",
    "# from tensorflow.keras.callbacks import LearningRateScheduler\n",
    "# def step_decay(epoch):\n",
    "#    initial_lrate = 0.01 #Setting the initial learning rate to 0.001 \n",
    "#    drop = 0.5\n",
    "#    epochs_drop = 5.0  #Drops the learning rate to half after every 10 epochs\n",
    "#    lrate = initial_lrate * math.pow(drop,  \n",
    "#            math.floor((1+epoch)/epochs_drop))\n",
    "#    return lrate\n",
    "# lrate = LearningRateScheduler(step_decay)"
   ]
  },
  {
   "cell_type": "code",
   "execution_count": 5,
   "metadata": {},
   "outputs": [
    {
     "name": "stdout",
     "output_type": "stream",
     "text": [
      "Model: \"sequential\"\n",
      "_________________________________________________________________\n",
      "Layer (type)                 Output Shape              Param #   \n",
      "=================================================================\n",
      "dense (Dense)                (None, 100)               10100     \n",
      "_________________________________________________________________\n",
      "dense_1 (Dense)              (None, 256)               25856     \n",
      "_________________________________________________________________\n",
      "dense_2 (Dense)              (None, 1)                 257       \n",
      "=================================================================\n",
      "Total params: 36,213\n",
      "Trainable params: 36,213\n",
      "Non-trainable params: 0\n",
      "_________________________________________________________________\n"
     ]
    }
   ],
   "source": [
    "# In Model 4 , the complexity is decreased by reducing the no. of hidden layers compared to its previous models\n",
    "from tensorflow.keras.optimizers import SGD\n",
    "from tensorflow.keras.callbacks import EarlyStopping\n",
    "from tensorflow.keras import regularizers\n",
    "NN_model = Sequential()\n",
    "\n",
    "# The Input Layer :\n",
    "NN_model.add(Dense(100,input_dim = X_train.shape[1], activation='relu'))\n",
    "\n",
    "# The Hidden Layers :\n",
    "NN_model.add(Dense(256,activation='relu'))\n",
    "\n",
    "# The Output Layer :\n",
    "NN_model.add(Dense(1,activation='linear'))\n",
    "\n",
    "# Compile the network :\n",
    "#sgd = SGD(learning_rate=0.001)\n",
    "opt = keras.optimizers.Adam(learning_rate=0.001)\n",
    "NN_model.compile(loss='mean_absolute_error', optimizer=opt, metrics=['mean_absolute_error'])\n",
    "NN_model.summary()\n",
    "early_stopping_monitor = EarlyStopping(patience=20)\n",
    "callbacks_list = [early_stopping_monitor]"
   ]
  },
  {
   "cell_type": "code",
   "execution_count": 6,
   "metadata": {},
   "outputs": [
    {
     "name": "stdout",
     "output_type": "stream",
     "text": [
      "Epoch 1/250\n",
      "4342/4342 [==============================] - 6s 1ms/step - loss: 12040833.0000 - mean_absolute_error: 12040833.0000 - val_loss: 9204483.0000 - val_mean_absolute_error: 9204483.0000\n",
      "Epoch 2/250\n",
      "4342/4342 [==============================] - 6s 1ms/step - loss: 8716799.0000 - mean_absolute_error: 8716799.0000 - val_loss: 8205384.5000 - val_mean_absolute_error: 8205384.5000\n",
      "Epoch 3/250\n",
      "4342/4342 [==============================] - 6s 1ms/step - loss: 7635303.0000 - mean_absolute_error: 7635303.0000 - val_loss: 7697489.5000 - val_mean_absolute_error: 7697489.5000\n",
      "Epoch 4/250\n",
      "4342/4342 [==============================] - 6s 1ms/step - loss: 6907517.0000 - mean_absolute_error: 6907517.0000 - val_loss: 7171529.5000 - val_mean_absolute_error: 7171529.5000\n",
      "Epoch 5/250\n",
      "4342/4342 [==============================] - 6s 1ms/step - loss: 6429683.5000 - mean_absolute_error: 6429683.5000 - val_loss: 6938056.5000 - val_mean_absolute_error: 6938056.5000\n",
      "Epoch 6/250\n",
      "4342/4342 [==============================] - 6s 1ms/step - loss: 6075302.0000 - mean_absolute_error: 6075302.0000 - val_loss: 7117310.0000 - val_mean_absolute_error: 7117310.0000\n",
      "Epoch 7/250\n",
      "4342/4342 [==============================] - 6s 1ms/step - loss: 5691923.5000 - mean_absolute_error: 5691923.5000 - val_loss: 6072597.5000 - val_mean_absolute_error: 6072597.5000\n",
      "Epoch 8/250\n",
      "4342/4342 [==============================] - 6s 1ms/step - loss: 5474113.5000 - mean_absolute_error: 5474113.5000 - val_loss: 6315437.5000 - val_mean_absolute_error: 6315437.5000\n",
      "Epoch 9/250\n",
      "4342/4342 [==============================] - 6s 1ms/step - loss: 5260952.5000 - mean_absolute_error: 5260952.5000 - val_loss: 6167262.0000 - val_mean_absolute_error: 6167262.0000\n",
      "Epoch 10/250\n",
      "4342/4342 [==============================] - 6s 1ms/step - loss: 5066045.0000 - mean_absolute_error: 5066045.0000 - val_loss: 6527148.5000 - val_mean_absolute_error: 6527148.5000\n",
      "Epoch 11/250\n",
      "4342/4342 [==============================] - 6s 1ms/step - loss: 4953284.5000 - mean_absolute_error: 4953284.5000 - val_loss: 5785666.0000 - val_mean_absolute_error: 5785666.0000\n",
      "Epoch 12/250\n",
      "4342/4342 [==============================] - 5s 1ms/step - loss: 4817063.0000 - mean_absolute_error: 4817063.0000 - val_loss: 5567938.5000 - val_mean_absolute_error: 5567938.5000\n",
      "Epoch 13/250\n",
      "4342/4342 [==============================] - 5s 1ms/step - loss: 4687337.0000 - mean_absolute_error: 4687337.0000 - val_loss: 5288696.5000 - val_mean_absolute_error: 5288696.5000\n",
      "Epoch 14/250\n",
      "4342/4342 [==============================] - 5s 1ms/step - loss: 4577503.5000 - mean_absolute_error: 4577503.5000 - val_loss: 5435610.5000 - val_mean_absolute_error: 5435610.5000\n",
      "Epoch 15/250\n",
      "4342/4342 [==============================] - 5s 1ms/step - loss: 4429464.0000 - mean_absolute_error: 4429464.0000 - val_loss: 5323783.0000 - val_mean_absolute_error: 5323783.0000\n",
      "Epoch 16/250\n",
      "4342/4342 [==============================] - 5s 1ms/step - loss: 4390475.0000 - mean_absolute_error: 4390475.0000 - val_loss: 5442079.0000 - val_mean_absolute_error: 5442079.0000\n",
      "Epoch 17/250\n",
      "4342/4342 [==============================] - 6s 1ms/step - loss: 4313293.0000 - mean_absolute_error: 4313293.0000 - val_loss: 4883720.5000 - val_mean_absolute_error: 4883720.5000\n",
      "Epoch 18/250\n",
      "4342/4342 [==============================] - 6s 1ms/step - loss: 4181630.7500 - mean_absolute_error: 4181630.7500 - val_loss: 5181014.5000 - val_mean_absolute_error: 5181014.5000\n",
      "Epoch 19/250\n",
      "4342/4342 [==============================] - 5s 1ms/step - loss: 4148568.7500 - mean_absolute_error: 4148568.7500 - val_loss: 4335429.0000 - val_mean_absolute_error: 4335429.0000\n",
      "Epoch 20/250\n",
      "4342/4342 [==============================] - 5s 1ms/step - loss: 4035250.5000 - mean_absolute_error: 4035250.5000 - val_loss: 4696410.0000 - val_mean_absolute_error: 4696410.0000\n",
      "Epoch 21/250\n",
      "4342/4342 [==============================] - 5s 1ms/step - loss: 3965944.5000 - mean_absolute_error: 3965944.5000 - val_loss: 4635338.5000 - val_mean_absolute_error: 4635338.5000\n",
      "Epoch 22/250\n",
      "4342/4342 [==============================] - 5s 1ms/step - loss: 3888111.0000 - mean_absolute_error: 3888111.0000 - val_loss: 4580142.0000 - val_mean_absolute_error: 4580142.0000\n",
      "Epoch 23/250\n",
      "4342/4342 [==============================] - 5s 1ms/step - loss: 3825378.5000 - mean_absolute_error: 3825378.5000 - val_loss: 4560052.0000 - val_mean_absolute_error: 4560052.0000\n",
      "Epoch 24/250\n",
      "4342/4342 [==============================] - 6s 1ms/step - loss: 3753573.2500 - mean_absolute_error: 3753573.2500 - val_loss: 4513937.5000 - val_mean_absolute_error: 4513937.5000\n",
      "Epoch 25/250\n",
      "4342/4342 [==============================] - 5s 1ms/step - loss: 3679923.2500 - mean_absolute_error: 3679923.2500 - val_loss: 4928412.0000 - val_mean_absolute_error: 4928412.0000\n",
      "Epoch 26/250\n",
      "4342/4342 [==============================] - 5s 1ms/step - loss: 3673271.5000 - mean_absolute_error: 3673271.5000 - val_loss: 4832140.0000 - val_mean_absolute_error: 4832140.0000\n",
      "Epoch 27/250\n",
      "4342/4342 [==============================] - 6s 1ms/step - loss: 3599535.0000 - mean_absolute_error: 3599535.0000 - val_loss: 4553694.0000 - val_mean_absolute_error: 4553694.0000\n",
      "Epoch 28/250\n",
      "4342/4342 [==============================] - 5s 1ms/step - loss: 3563602.5000 - mean_absolute_error: 3563602.5000 - val_loss: 4277663.5000 - val_mean_absolute_error: 4277663.5000\n",
      "Epoch 29/250\n",
      "4342/4342 [==============================] - 6s 1ms/step - loss: 3479785.5000 - mean_absolute_error: 3479785.5000 - val_loss: 3976818.0000 - val_mean_absolute_error: 3976818.0000\n",
      "Epoch 30/250\n",
      "4342/4342 [==============================] - 6s 1ms/step - loss: 3379790.0000 - mean_absolute_error: 3379790.0000 - val_loss: 4652681.5000 - val_mean_absolute_error: 4652681.5000\n",
      "Epoch 31/250\n",
      "4342/4342 [==============================] - 6s 1ms/step - loss: 3376359.2500 - mean_absolute_error: 3376359.2500 - val_loss: 4718015.0000 - val_mean_absolute_error: 4718015.0000\n",
      "Epoch 32/250\n",
      "4342/4342 [==============================] - 6s 1ms/step - loss: 3333771.2500 - mean_absolute_error: 3333771.2500 - val_loss: 4206510.5000 - val_mean_absolute_error: 4206510.5000\n",
      "Epoch 33/250\n",
      "4342/4342 [==============================] - 6s 1ms/step - loss: 3250097.2500 - mean_absolute_error: 3250097.2500 - val_loss: 4752710.5000 - val_mean_absolute_error: 4752710.5000\n",
      "Epoch 34/250\n",
      "4342/4342 [==============================] - 6s 1ms/step - loss: 3208478.0000 - mean_absolute_error: 3208478.0000 - val_loss: 3880194.5000 - val_mean_absolute_error: 3880194.5000\n",
      "Epoch 35/250\n",
      "4342/4342 [==============================] - 6s 1ms/step - loss: 3156393.5000 - mean_absolute_error: 3156393.5000 - val_loss: 4243043.0000 - val_mean_absolute_error: 4243043.0000\n",
      "Epoch 36/250\n",
      "4342/4342 [==============================] - 7s 2ms/step - loss: 3141471.7500 - mean_absolute_error: 3141471.7500 - val_loss: 4073983.0000 - val_mean_absolute_error: 4073983.0000\n",
      "Epoch 37/250\n",
      "4342/4342 [==============================] - 6s 1ms/step - loss: 3131636.7500 - mean_absolute_error: 3131636.7500 - val_loss: 4315445.0000 - val_mean_absolute_error: 4315445.0000\n",
      "Epoch 38/250\n",
      "4342/4342 [==============================] - 6s 1ms/step - loss: 3063533.5000 - mean_absolute_error: 3063533.5000 - val_loss: 3622654.2500 - val_mean_absolute_error: 3622654.2500\n",
      "Epoch 39/250\n",
      "4342/4342 [==============================] - 6s 1ms/step - loss: 3031281.7500 - mean_absolute_error: 3031281.7500 - val_loss: 4474806.5000 - val_mean_absolute_error: 4474806.5000\n",
      "Epoch 40/250\n",
      "4342/4342 [==============================] - 6s 1ms/step - loss: 3035821.7500 - mean_absolute_error: 3035821.7500 - val_loss: 4427842.5000 - val_mean_absolute_error: 4427842.5000\n",
      "Epoch 41/250\n",
      "4342/4342 [==============================] - 6s 1ms/step - loss: 2975906.0000 - mean_absolute_error: 2975906.0000 - val_loss: 3609591.7500 - val_mean_absolute_error: 3609591.7500\n",
      "Epoch 42/250\n",
      "4342/4342 [==============================] - 6s 1ms/step - loss: 2950558.2500 - mean_absolute_error: 2950558.2500 - val_loss: 4114852.2500 - val_mean_absolute_error: 4114852.2500\n",
      "Epoch 43/250\n",
      "4342/4342 [==============================] - 7s 2ms/step - loss: 2920208.2500 - mean_absolute_error: 2920208.2500 - val_loss: 4242425.0000 - val_mean_absolute_error: 4242425.0000\n"
     ]
    },
    {
     "name": "stdout",
     "output_type": "stream",
     "text": [
      "Epoch 44/250\n",
      "4342/4342 [==============================] - 7s 2ms/step - loss: 2927398.2500 - mean_absolute_error: 2927398.2500 - val_loss: 4037490.7500 - val_mean_absolute_error: 4037490.7500\n",
      "Epoch 45/250\n",
      "4342/4342 [==============================] - 8s 2ms/step - loss: 2914613.2500 - mean_absolute_error: 2914613.2500 - val_loss: 3572637.7500 - val_mean_absolute_error: 3572637.7500\n",
      "Epoch 46/250\n",
      "4342/4342 [==============================] - 8s 2ms/step - loss: 2867042.2500 - mean_absolute_error: 2867042.2500 - val_loss: 3961566.5000 - val_mean_absolute_error: 3961566.5000\n",
      "Epoch 47/250\n",
      "4342/4342 [==============================] - 9s 2ms/step - loss: 2832124.0000 - mean_absolute_error: 2832124.0000 - val_loss: 4004371.5000 - val_mean_absolute_error: 4004371.5000\n",
      "Epoch 48/250\n",
      "4342/4342 [==============================] - 7s 1ms/step - loss: 2814956.7500 - mean_absolute_error: 2814956.7500 - val_loss: 3934401.0000 - val_mean_absolute_error: 3934401.0000\n",
      "Epoch 49/250\n",
      "4342/4342 [==============================] - 6s 1ms/step - loss: 2812928.0000 - mean_absolute_error: 2812928.0000 - val_loss: 4059446.7500 - val_mean_absolute_error: 4059446.7500\n",
      "Epoch 50/250\n",
      "4342/4342 [==============================] - 6s 1ms/step - loss: 2740669.2500 - mean_absolute_error: 2740669.2500 - val_loss: 3675340.2500 - val_mean_absolute_error: 3675340.2500\n",
      "Epoch 51/250\n",
      "4342/4342 [==============================] - 7s 2ms/step - loss: 2736621.0000 - mean_absolute_error: 2736621.0000 - val_loss: 3954907.7500 - val_mean_absolute_error: 3954907.7500\n",
      "Epoch 52/250\n",
      "4342/4342 [==============================] - 7s 2ms/step - loss: 2743119.2500 - mean_absolute_error: 2743119.2500 - val_loss: 4149498.5000 - val_mean_absolute_error: 4149498.5000\n",
      "Epoch 53/250\n",
      "4342/4342 [==============================] - 7s 2ms/step - loss: 2708243.0000 - mean_absolute_error: 2708243.0000 - val_loss: 4473136.5000 - val_mean_absolute_error: 4473136.5000\n",
      "Epoch 54/250\n",
      "4342/4342 [==============================] - 7s 2ms/step - loss: 2668677.2500 - mean_absolute_error: 2668677.2500 - val_loss: 3593435.7500 - val_mean_absolute_error: 3593435.7500\n",
      "Epoch 55/250\n",
      "4342/4342 [==============================] - 7s 2ms/step - loss: 2627436.2500 - mean_absolute_error: 2627436.2500 - val_loss: 4367645.0000 - val_mean_absolute_error: 4367645.0000\n",
      "Epoch 56/250\n",
      "4342/4342 [==============================] - 7s 2ms/step - loss: 2658872.2500 - mean_absolute_error: 2658872.2500 - val_loss: 5287309.5000 - val_mean_absolute_error: 5287309.5000\n",
      "Epoch 57/250\n",
      "4342/4342 [==============================] - 7s 2ms/step - loss: 2641406.2500 - mean_absolute_error: 2641406.2500 - val_loss: 4265154.5000 - val_mean_absolute_error: 4265154.5000\n",
      "Epoch 58/250\n",
      "4342/4342 [==============================] - 7s 2ms/step - loss: 2631977.0000 - mean_absolute_error: 2631977.0000 - val_loss: 3781920.2500 - val_mean_absolute_error: 3781920.2500\n",
      "Epoch 59/250\n",
      "4342/4342 [==============================] - 7s 2ms/step - loss: 2613999.5000 - mean_absolute_error: 2613999.5000 - val_loss: 3611050.7500 - val_mean_absolute_error: 3611050.7500\n",
      "Epoch 60/250\n",
      "4342/4342 [==============================] - 7s 2ms/step - loss: 2581481.0000 - mean_absolute_error: 2581481.0000 - val_loss: 3675448.5000 - val_mean_absolute_error: 3675448.5000\n",
      "Epoch 61/250\n",
      "4342/4342 [==============================] - 7s 2ms/step - loss: 2544856.7500 - mean_absolute_error: 2544856.7500 - val_loss: 3768738.5000 - val_mean_absolute_error: 3768738.5000\n",
      "Epoch 62/250\n",
      "4342/4342 [==============================] - 7s 2ms/step - loss: 2516090.7500 - mean_absolute_error: 2516090.7500 - val_loss: 3467302.5000 - val_mean_absolute_error: 3467302.5000\n",
      "Epoch 63/250\n",
      "4342/4342 [==============================] - 7s 2ms/step - loss: 2510702.2500 - mean_absolute_error: 2510702.2500 - val_loss: 3887961.5000 - val_mean_absolute_error: 3887961.5000\n",
      "Epoch 64/250\n",
      "4342/4342 [==============================] - 7s 2ms/step - loss: 2480826.0000 - mean_absolute_error: 2480826.0000 - val_loss: 3419847.5000 - val_mean_absolute_error: 3419847.5000\n",
      "Epoch 65/250\n",
      "4342/4342 [==============================] - 7s 2ms/step - loss: 2493786.2500 - mean_absolute_error: 2493786.2500 - val_loss: 3689632.7500 - val_mean_absolute_error: 3689632.7500\n",
      "Epoch 66/250\n",
      "4342/4342 [==============================] - 7s 2ms/step - loss: 2485158.5000 - mean_absolute_error: 2485158.5000 - val_loss: 4063428.0000 - val_mean_absolute_error: 4063428.0000\n",
      "Epoch 67/250\n",
      "4342/4342 [==============================] - 9s 2ms/step - loss: 2466685.0000 - mean_absolute_error: 2466685.0000 - val_loss: 3634324.2500 - val_mean_absolute_error: 3634324.2500\n",
      "Epoch 68/250\n",
      "4342/4342 [==============================] - 8s 2ms/step - loss: 2438555.0000 - mean_absolute_error: 2438555.0000 - val_loss: 4007174.0000 - val_mean_absolute_error: 4007174.0000\n",
      "Epoch 69/250\n",
      "4342/4342 [==============================] - 8s 2ms/step - loss: 2408456.5000 - mean_absolute_error: 2408456.5000 - val_loss: 3949271.0000 - val_mean_absolute_error: 3949271.0000\n",
      "Epoch 70/250\n",
      "4342/4342 [==============================] - 8s 2ms/step - loss: 2380681.0000 - mean_absolute_error: 2380681.0000 - val_loss: 4161639.2500 - val_mean_absolute_error: 4161639.2500\n",
      "Epoch 71/250\n",
      "4342/4342 [==============================] - 8s 2ms/step - loss: 2420979.5000 - mean_absolute_error: 2420979.5000 - val_loss: 3470815.7500 - val_mean_absolute_error: 3470815.7500\n",
      "Epoch 72/250\n",
      "4342/4342 [==============================] - 9s 2ms/step - loss: 2380121.7500 - mean_absolute_error: 2380121.7500 - val_loss: 3593685.5000 - val_mean_absolute_error: 3593685.5000\n",
      "Epoch 73/250\n",
      "4342/4342 [==============================] - 8s 2ms/step - loss: 2383783.2500 - mean_absolute_error: 2383783.2500 - val_loss: 3430880.7500 - val_mean_absolute_error: 3430880.7500\n",
      "Epoch 74/250\n",
      "4342/4342 [==============================] - 9s 2ms/step - loss: 2357825.7500 - mean_absolute_error: 2357825.7500 - val_loss: 3560360.0000 - val_mean_absolute_error: 3560360.0000\n",
      "Epoch 75/250\n",
      "4342/4342 [==============================] - 9s 2ms/step - loss: 2329770.7500 - mean_absolute_error: 2329770.7500 - val_loss: 3754126.5000 - val_mean_absolute_error: 3754126.5000\n",
      "Epoch 76/250\n",
      "4342/4342 [==============================] - 7s 2ms/step - loss: 2327292.2500 - mean_absolute_error: 2327292.2500 - val_loss: 3693670.7500 - val_mean_absolute_error: 3693670.7500\n",
      "Epoch 77/250\n",
      "4342/4342 [==============================] - 6s 1ms/step - loss: 2308310.0000 - mean_absolute_error: 2308310.0000 - val_loss: 4041533.7500 - val_mean_absolute_error: 4041533.7500\n",
      "Epoch 78/250\n",
      "4342/4342 [==============================] - 6s 1ms/step - loss: 2342835.0000 - mean_absolute_error: 2342835.0000 - val_loss: 3259895.0000 - val_mean_absolute_error: 3259895.0000\n",
      "Epoch 79/250\n",
      "4342/4342 [==============================] - 6s 1ms/step - loss: 2330281.2500 - mean_absolute_error: 2330281.2500 - val_loss: 3613568.0000 - val_mean_absolute_error: 3613568.0000\n",
      "Epoch 80/250\n",
      "4342/4342 [==============================] - 8s 2ms/step - loss: 2307329.0000 - mean_absolute_error: 2307329.0000 - val_loss: 3422002.0000 - val_mean_absolute_error: 3422002.0000\n",
      "Epoch 81/250\n",
      "4342/4342 [==============================] - 9s 2ms/step - loss: 2281417.7500 - mean_absolute_error: 2281417.7500 - val_loss: 3690047.2500 - val_mean_absolute_error: 3690047.2500\n",
      "Epoch 82/250\n",
      "4342/4342 [==============================] - 7s 2ms/step - loss: 2298142.7500 - mean_absolute_error: 2298142.7500 - val_loss: 3567626.7500 - val_mean_absolute_error: 3567626.7500\n",
      "Epoch 83/250\n",
      "4342/4342 [==============================] - 7s 2ms/step - loss: 2227936.5000 - mean_absolute_error: 2227936.5000 - val_loss: 3827537.0000 - val_mean_absolute_error: 3827537.0000\n",
      "Epoch 84/250\n",
      "4342/4342 [==============================] - 9s 2ms/step - loss: 2265773.2500 - mean_absolute_error: 2265773.2500 - val_loss: 3144549.7500 - val_mean_absolute_error: 3144549.7500\n",
      "Epoch 85/250\n",
      "4342/4342 [==============================] - 8s 2ms/step - loss: 2210002.7500 - mean_absolute_error: 2210002.7500 - val_loss: 3486163.5000 - val_mean_absolute_error: 3486163.5000\n",
      "Epoch 86/250\n",
      "4342/4342 [==============================] - 7s 2ms/step - loss: 2202538.0000 - mean_absolute_error: 2202538.0000 - val_loss: 3645389.7500 - val_mean_absolute_error: 3645389.7500\n"
     ]
    },
    {
     "name": "stdout",
     "output_type": "stream",
     "text": [
      "Epoch 87/250\n",
      "4342/4342 [==============================] - 7s 2ms/step - loss: 2189191.0000 - mean_absolute_error: 2189191.0000 - val_loss: 3567263.2500 - val_mean_absolute_error: 3567263.2500\n",
      "Epoch 88/250\n",
      "4342/4342 [==============================] - 8s 2ms/step - loss: 2174453.7500 - mean_absolute_error: 2174453.7500 - val_loss: 3659566.7500 - val_mean_absolute_error: 3659566.7500\n",
      "Epoch 89/250\n",
      "4342/4342 [==============================] - 7s 2ms/step - loss: 2190816.0000 - mean_absolute_error: 2190816.0000 - val_loss: 3546163.7500 - val_mean_absolute_error: 3546163.7500s - loss: 21497\n",
      "Epoch 90/250\n",
      "4342/4342 [==============================] - 8s 2ms/step - loss: 2119397.2500 - mean_absolute_error: 2119397.2500 - val_loss: 4181949.0000 - val_mean_absolute_error: 4181949.0000\n",
      "Epoch 91/250\n",
      "4342/4342 [==============================] - 8s 2ms/step - loss: 2163837.0000 - mean_absolute_error: 2163837.0000 - val_loss: 3376685.0000 - val_mean_absolute_error: 3376685.0000\n",
      "Epoch 92/250\n",
      "4342/4342 [==============================] - 8s 2ms/step - loss: 2209237.5000 - mean_absolute_error: 2209237.5000 - val_loss: 3410428.0000 - val_mean_absolute_error: 3410428.0000\n",
      "Epoch 93/250\n",
      "4342/4342 [==============================] - 9s 2ms/step - loss: 2135054.2500 - mean_absolute_error: 2135054.2500 - val_loss: 3285015.2500 - val_mean_absolute_error: 3285015.2500\n",
      "Epoch 94/250\n",
      "4342/4342 [==============================] - 10s 2ms/step - loss: 2154366.2500 - mean_absolute_error: 2154366.2500 - val_loss: 3786985.7500 - val_mean_absolute_error: 3786985.7500\n",
      "Epoch 95/250\n",
      "4342/4342 [==============================] - 9s 2ms/step - loss: 2120387.7500 - mean_absolute_error: 2120387.7500 - val_loss: 3345451.2500 - val_mean_absolute_error: 3345451.2500\n",
      "Epoch 96/250\n",
      "4342/4342 [==============================] - 9s 2ms/step - loss: 2110192.0000 - mean_absolute_error: 2110192.0000 - val_loss: 3288871.5000 - val_mean_absolute_error: 3288871.5000\n",
      "Epoch 97/250\n",
      "4342/4342 [==============================] - 9s 2ms/step - loss: 2096591.8750 - mean_absolute_error: 2096591.8750 - val_loss: 3329281.5000 - val_mean_absolute_error: 3329281.5000\n",
      "Epoch 98/250\n",
      "4342/4342 [==============================] - 8s 2ms/step - loss: 2085877.8750 - mean_absolute_error: 2085877.8750 - val_loss: 3501770.0000 - val_mean_absolute_error: 3501770.0000\n",
      "Epoch 99/250\n",
      "4342/4342 [==============================] - 7s 2ms/step - loss: 2099363.5000 - mean_absolute_error: 2099363.5000 - val_loss: 3039997.7500 - val_mean_absolute_error: 3039997.7500\n",
      "Epoch 100/250\n",
      "4342/4342 [==============================] - 7s 2ms/step - loss: 2083676.3750 - mean_absolute_error: 2083676.3750 - val_loss: 3586669.0000 - val_mean_absolute_error: 3586669.0000\n",
      "Epoch 101/250\n",
      "4342/4342 [==============================] - 8s 2ms/step - loss: 2088045.0000 - mean_absolute_error: 2088045.0000 - val_loss: 3686894.5000 - val_mean_absolute_error: 3686894.5000\n",
      "Epoch 102/250\n",
      "4342/4342 [==============================] - 8s 2ms/step - loss: 2077018.5000 - mean_absolute_error: 2077018.5000 - val_loss: 3186077.7500 - val_mean_absolute_error: 3186077.7500\n",
      "Epoch 103/250\n",
      "4342/4342 [==============================] - 8s 2ms/step - loss: 2058057.2500 - mean_absolute_error: 2058057.2500 - val_loss: 3453372.0000 - val_mean_absolute_error: 3453372.0000\n",
      "Epoch 104/250\n",
      "4342/4342 [==============================] - 9s 2ms/step - loss: 2055520.1250 - mean_absolute_error: 2055520.1250 - val_loss: 3285072.5000 - val_mean_absolute_error: 3285072.5000\n",
      "Epoch 105/250\n",
      "4342/4342 [==============================] - 10s 2ms/step - loss: 2030925.2500 - mean_absolute_error: 2030925.2500 - val_loss: 3526207.0000 - val_mean_absolute_error: 3526207.0000\n",
      "Epoch 106/250\n",
      "4342/4342 [==============================] - 10s 2ms/step - loss: 2029006.0000 - mean_absolute_error: 2029006.0000 - val_loss: 3274979.0000 - val_mean_absolute_error: 3274979.0000\n",
      "Epoch 107/250\n",
      "4342/4342 [==============================] - 8s 2ms/step - loss: 1994892.3750 - mean_absolute_error: 1994892.3750 - val_loss: 3628799.2500 - val_mean_absolute_error: 3628799.2500\n",
      "Epoch 108/250\n",
      "4342/4342 [==============================] - 9s 2ms/step - loss: 2015349.5000 - mean_absolute_error: 2015349.5000 - val_loss: 3425997.2500 - val_mean_absolute_error: 3425997.2500\n",
      "Epoch 109/250\n",
      "4342/4342 [==============================] - 9s 2ms/step - loss: 1988194.1250 - mean_absolute_error: 1988194.1250 - val_loss: 3365971.5000 - val_mean_absolute_error: 3365971.5000\n",
      "Epoch 110/250\n",
      "4342/4342 [==============================] - 7s 2ms/step - loss: 1974394.3750 - mean_absolute_error: 1974394.3750 - val_loss: 3216278.0000 - val_mean_absolute_error: 3216278.0000\n",
      "Epoch 111/250\n",
      "4342/4342 [==============================] - 9s 2ms/step - loss: 1963677.7500 - mean_absolute_error: 1963677.7500 - val_loss: 3141566.2500 - val_mean_absolute_error: 3141566.2500\n",
      "Epoch 112/250\n",
      "4342/4342 [==============================] - 9s 2ms/step - loss: 1994730.7500 - mean_absolute_error: 1994730.7500 - val_loss: 3228781.7500 - val_mean_absolute_error: 3228781.7500\n",
      "Epoch 113/250\n",
      "4342/4342 [==============================] - 8s 2ms/step - loss: 1988376.8750 - mean_absolute_error: 1988376.8750 - val_loss: 3286326.7500 - val_mean_absolute_error: 3286326.7500\n",
      "Epoch 114/250\n",
      "4342/4342 [==============================] - 8s 2ms/step - loss: 1956581.8750 - mean_absolute_error: 1956581.8750 - val_loss: 3546918.5000 - val_mean_absolute_error: 3546918.5000\n",
      "Epoch 115/250\n",
      "4342/4342 [==============================] - 8s 2ms/step - loss: 1979340.8750 - mean_absolute_error: 1979340.8750 - val_loss: 3142441.7500 - val_mean_absolute_error: 3142441.7500\n",
      "Epoch 116/250\n",
      "4342/4342 [==============================] - 8s 2ms/step - loss: 1922893.6250 - mean_absolute_error: 1922893.6250 - val_loss: 3410196.5000 - val_mean_absolute_error: 3410196.5000\n",
      "Epoch 117/250\n",
      "4342/4342 [==============================] - 8s 2ms/step - loss: 1943065.3750 - mean_absolute_error: 1943065.3750 - val_loss: 3380202.0000 - val_mean_absolute_error: 3380202.0000\n",
      "Epoch 118/250\n",
      "4342/4342 [==============================] - 8s 2ms/step - loss: 1926460.8750 - mean_absolute_error: 1926460.8750 - val_loss: 2989269.0000 - val_mean_absolute_error: 2989269.0000\n",
      "Epoch 119/250\n",
      "4342/4342 [==============================] - 8s 2ms/step - loss: 1912656.3750 - mean_absolute_error: 1912656.3750 - val_loss: 3071278.0000 - val_mean_absolute_error: 3071278.0000\n",
      "Epoch 120/250\n",
      "4342/4342 [==============================] - 8s 2ms/step - loss: 1890257.1250 - mean_absolute_error: 1890257.1250 - val_loss: 3675008.0000 - val_mean_absolute_error: 3675008.0000\n",
      "Epoch 121/250\n",
      "4342/4342 [==============================] - 8s 2ms/step - loss: 1892509.0000 - mean_absolute_error: 1892509.0000 - val_loss: 3687807.2500 - val_mean_absolute_error: 3687807.2500\n",
      "Epoch 122/250\n",
      "4342/4342 [==============================] - 7s 2ms/step - loss: 1917926.8750 - mean_absolute_error: 1917926.8750 - val_loss: 3106980.2500 - val_mean_absolute_error: 3106980.2500\n",
      "Epoch 123/250\n",
      "4342/4342 [==============================] - 8s 2ms/step - loss: 1879729.6250 - mean_absolute_error: 1879729.6250 - val_loss: 3209626.0000 - val_mean_absolute_error: 3209626.0000\n",
      "Epoch 124/250\n",
      "4342/4342 [==============================] - 7s 2ms/step - loss: 1901526.6250 - mean_absolute_error: 1901526.6250 - val_loss: 3172116.5000 - val_mean_absolute_error: 3172116.5000\n",
      "Epoch 125/250\n",
      "4342/4342 [==============================] - 8s 2ms/step - loss: 1872192.2500 - mean_absolute_error: 1872192.2500 - val_loss: 3136547.0000 - val_mean_absolute_error: 3136547.0000\n",
      "Epoch 126/250\n",
      "4342/4342 [==============================] - 7s 2ms/step - loss: 1873288.7500 - mean_absolute_error: 1873288.7500 - val_loss: 3069803.5000 - val_mean_absolute_error: 3069803.5000\n",
      "Epoch 127/250\n",
      "4342/4342 [==============================] - 7s 2ms/step - loss: 1864082.0000 - mean_absolute_error: 1864082.0000 - val_loss: 3160139.5000 - val_mean_absolute_error: 3160139.5000\n",
      "Epoch 128/250\n",
      "4342/4342 [==============================] - 8s 2ms/step - loss: 1864594.7500 - mean_absolute_error: 1864594.7500 - val_loss: 3370139.0000 - val_mean_absolute_error: 3370139.0000\n",
      "Epoch 129/250\n",
      "4342/4342 [==============================] - 8s 2ms/step - loss: 1838894.6250 - mean_absolute_error: 1838894.6250 - val_loss: 3256373.5000 - val_mean_absolute_error: 3256373.5000\n",
      "Epoch 130/250\n",
      "4342/4342 [==============================] - 8s 2ms/step - loss: 1869423.0000 - mean_absolute_error: 1869423.0000 - val_loss: 3468989.0000 - val_mean_absolute_error: 3468989.0000\n",
      "Epoch 131/250\n",
      "4342/4342 [==============================] - 7s 2ms/step - loss: 1832963.3750 - mean_absolute_error: 1832963.3750 - val_loss: 3013462.7500 - val_mean_absolute_error: 3013462.7500\n",
      "Epoch 132/250\n",
      "4342/4342 [==============================] - 8s 2ms/step - loss: 1823937.2500 - mean_absolute_error: 1823937.2500 - val_loss: 3652759.0000 - val_mean_absolute_error: 3652759.0000\n",
      "Epoch 133/250\n",
      "4342/4342 [==============================] - 8s 2ms/step - loss: 1806731.8750 - mean_absolute_error: 1806731.8750 - val_loss: 3147403.7500 - val_mean_absolute_error: 3147403.7500\n",
      "Epoch 134/250\n",
      "4342/4342 [==============================] - 7s 2ms/step - loss: 1821406.8750 - mean_absolute_error: 1821406.8750 - val_loss: 3023622.5000 - val_mean_absolute_error: 3023622.5000\n",
      "Epoch 135/250\n",
      "4342/4342 [==============================] - 7s 2ms/step - loss: 1820756.7500 - mean_absolute_error: 1820756.7500 - val_loss: 3079018.7500 - val_mean_absolute_error: 3079018.7500\n",
      "Epoch 136/250\n",
      "4342/4342 [==============================] - 7s 2ms/step - loss: 1761865.8750 - mean_absolute_error: 1761865.8750 - val_loss: 3341643.7500 - val_mean_absolute_error: 3341643.7500\n",
      "Epoch 137/250\n",
      "4342/4342 [==============================] - 9s 2ms/step - loss: 1778936.6250 - mean_absolute_error: 1778936.6250 - val_loss: 3258123.7500 - val_mean_absolute_error: 3258123.7500\n",
      "Epoch 138/250\n",
      "4342/4342 [==============================] - 8s 2ms/step - loss: 1775344.6250 - mean_absolute_error: 1775344.6250 - val_loss: 2879644.2500 - val_mean_absolute_error: 2879644.2500\n",
      "Epoch 139/250\n",
      "4342/4342 [==============================] - 8s 2ms/step - loss: 1793596.5000 - mean_absolute_error: 1793596.5000 - val_loss: 2745744.0000 - val_mean_absolute_error: 2745744.0000\n",
      "Epoch 140/250\n",
      "4342/4342 [==============================] - 7s 2ms/step - loss: 1750902.3750 - mean_absolute_error: 1750902.3750 - val_loss: 3351265.0000 - val_mean_absolute_error: 3351265.0000\n",
      "Epoch 141/250\n",
      "4342/4342 [==============================] - 7s 2ms/step - loss: 1769514.2500 - mean_absolute_error: 1769514.2500 - val_loss: 3078132.7500 - val_mean_absolute_error: 3078132.7500\n",
      "Epoch 142/250\n",
      "4342/4342 [==============================] - 7s 2ms/step - loss: 1741435.1250 - mean_absolute_error: 1741435.1250 - val_loss: 3359378.2500 - val_mean_absolute_error: 3359378.2500\n",
      "Epoch 143/250\n",
      "4342/4342 [==============================] - 7s 2ms/step - loss: 1750494.3750 - mean_absolute_error: 1750494.3750 - val_loss: 3116417.7500 - val_mean_absolute_error: 3116417.7500\n",
      "Epoch 144/250\n",
      "4342/4342 [==============================] - 7s 2ms/step - loss: 1760792.3750 - mean_absolute_error: 1760792.3750 - val_loss: 2947815.2500 - val_mean_absolute_error: 2947815.2500\n",
      "Epoch 145/250\n",
      "4342/4342 [==============================] - 6s 1ms/step - loss: 1712955.0000 - mean_absolute_error: 1712955.0000 - val_loss: 3057372.5000 - val_mean_absolute_error: 3057372.5000\n",
      "Epoch 146/250\n",
      "4342/4342 [==============================] - 7s 2ms/step - loss: 1708654.0000 - mean_absolute_error: 1708654.0000 - val_loss: 2890638.2500 - val_mean_absolute_error: 2890638.2500\n",
      "Epoch 147/250\n",
      "4342/4342 [==============================] - 7s 2ms/step - loss: 1722266.5000 - mean_absolute_error: 1722266.5000 - val_loss: 2968790.2500 - val_mean_absolute_error: 2968790.2500\n",
      "Epoch 148/250\n",
      "4342/4342 [==============================] - 6s 1ms/step - loss: 1709844.7500 - mean_absolute_error: 1709844.7500 - val_loss: 2966855.5000 - val_mean_absolute_error: 2966855.5000\n",
      "Epoch 149/250\n",
      "4342/4342 [==============================] - 7s 2ms/step - loss: 1708701.5000 - mean_absolute_error: 1708701.5000 - val_loss: 2894659.7500 - val_mean_absolute_error: 2894659.7500\n",
      "Epoch 150/250\n",
      "4342/4342 [==============================] - 8s 2ms/step - loss: 1735434.3750 - mean_absolute_error: 1735434.3750 - val_loss: 3149284.0000 - val_mean_absolute_error: 3149284.0000\n",
      "Epoch 151/250\n",
      "4342/4342 [==============================] - 11s 3ms/step - loss: 1723909.6250 - mean_absolute_error: 1723909.6250 - val_loss: 2815578.2500 - val_mean_absolute_error: 2815578.2500\n",
      "Epoch 152/250\n",
      "4342/4342 [==============================] - 11s 3ms/step - loss: 1737325.3750 - mean_absolute_error: 1737325.3750 - val_loss: 3122306.5000 - val_mean_absolute_error: 3122306.5000\n",
      "Epoch 153/250\n",
      "4342/4342 [==============================] - 7s 2ms/step - loss: 1671140.0000 - mean_absolute_error: 1671140.0000 - val_loss: 3038893.0000 - val_mean_absolute_error: 3038893.0000\n",
      "Epoch 154/250\n",
      "4342/4342 [==============================] - 7s 2ms/step - loss: 1660444.3750 - mean_absolute_error: 1660444.3750 - val_loss: 3394255.0000 - val_mean_absolute_error: 3394255.0000\n",
      "Epoch 155/250\n",
      "4342/4342 [==============================] - 7s 2ms/step - loss: 1693665.3750 - mean_absolute_error: 1693665.3750 - val_loss: 2926923.7500 - val_mean_absolute_error: 2926923.7500\n",
      "Epoch 156/250\n",
      "4342/4342 [==============================] - 9s 2ms/step - loss: 1690068.6250 - mean_absolute_error: 1690068.6250 - val_loss: 2981023.2500 - val_mean_absolute_error: 2981023.2500\n",
      "Epoch 157/250\n",
      "4342/4342 [==============================] - 9s 2ms/step - loss: 1683136.0000 - mean_absolute_error: 1683136.0000 - val_loss: 3184304.5000 - val_mean_absolute_error: 3184304.5000\n",
      "Epoch 158/250\n",
      "4342/4342 [==============================] - 8s 2ms/step - loss: 1692006.3750 - mean_absolute_error: 1692006.3750 - val_loss: 2958264.2500 - val_mean_absolute_error: 2958264.2500\n",
      "Epoch 159/250\n",
      "4342/4342 [==============================] - 8s 2ms/step - loss: 1678359.8750 - mean_absolute_error: 1678359.8750 - val_loss: 2906106.2500 - val_mean_absolute_error: 2906106.2500\n"
     ]
    },
    {
     "data": {
      "text/plain": [
       "<tensorflow.python.keras.callbacks.History at 0x1df9a4ce940>"
      ]
     },
     "execution_count": 6,
     "metadata": {},
     "output_type": "execute_result"
    }
   ],
   "source": [
    "NN_model.fit(X_train, y_train, epochs=250, batch_size=1, validation_split = 0.02 , callbacks=callbacks_list )"
   ]
  },
  {
   "cell_type": "code",
   "execution_count": 7,
   "metadata": {},
   "outputs": [],
   "source": [
    "#Saving the model for Ensembling\n",
    "filename = 'model_F5T2.h5'\n",
    "NN_model.save(filename)"
   ]
  },
  {
   "cell_type": "code",
   "execution_count": 8,
   "metadata": {},
   "outputs": [],
   "source": [
    "def plotfig (ypred, yactual, strtitle, y_max):\n",
    "    plt.scatter(ypred, yactual.values.ravel())\n",
    "    plt.title(strtitle)\n",
    "    plt.plot([(0, 0), (y_max, y_max)], [(0, 0), (y_max, y_max)])\n",
    "    plt.xlim(0, y_max)\n",
    "    plt.ylim(0, y_max)\n",
    "    plt.xlabel('Predicted', fontsize=12)\n",
    "    plt.ylabel('Actual', fontsize=12)\n",
    "    plt.show()"
   ]
  },
  {
   "cell_type": "code",
   "execution_count": 9,
   "metadata": {},
   "outputs": [
    {
     "data": {
      "image/png": "[encoded data removed]",
      "text/plain": [
       "<Figure size 432x288 with 1 Axes>"
      ]
     },
     "metadata": {
      "needs_background": "light"
     },
     "output_type": "display_data"
    }
   ],
   "source": [
    "#Best fit line for Training data \n",
    "plotfig(NN_model.predict(X_train), y_train, 'Predicted vs. Actual responses for MLP', max(y_train) + 0.1*max(y_train))"
   ]
  },
  {
   "cell_type": "code",
   "execution_count": 10,
   "metadata": {},
   "outputs": [],
   "source": [
    "#Importing the test data  \n",
    "pickle_in = open(\"X_test_T2.pickle\",\"rb\")\n",
    "X_test = pickle.load(pickle_in)"
   ]
  },
  {
   "cell_type": "code",
   "execution_count": 11,
   "metadata": {},
   "outputs": [
    {
     "name": "stdout",
     "output_type": "stream",
     "text": [
      "[[11420089.]\n",
      " [38088932.]\n",
      " [23140762.]\n",
      " ...\n",
      " [27592338.]\n",
      " [42383480.]\n",
      " [18445656.]]\n"
     ]
    }
   ],
   "source": [
    "predictions = NN_model.predict(X_test)\n",
    "print(predictions)"
   ]
  },
  {
   "cell_type": "code",
   "execution_count": 12,
   "metadata": {},
   "outputs": [
    {
     "data": {
      "text/plain": [
       "(4520, 1)"
      ]
     },
     "execution_count": 12,
     "metadata": {},
     "output_type": "execute_result"
    }
   ],
   "source": [
    "predictions.shape"
   ]
  },
  {
   "cell_type": "code",
   "execution_count": 13,
   "metadata": {},
   "outputs": [],
   "source": [
    "testsub =  pd.read_csv('C:/Datasets/predict-volcanic-eruptions-ingv-oe/sample_submission.csv')"
   ]
  },
  {
   "cell_type": "code",
   "execution_count": 14,
   "metadata": {},
   "outputs": [],
   "source": [
    "#Creating Submission file to kaggle\n",
    "submission = pd.DataFrame()\n",
    "submission['segment_id'] = testsub['segment_id']\n",
    "submission['time_to_eruption'] = predictions\n",
    "submission.to_csv('submission_MLP_121320_F5T2.csv', header=True, index=False)"
   ]
  }
 ],
 "metadata": {
  "kernelspec": {
   "display_name": "Python 3",
   "language": "python",
   "name": "python3"
  },
  "language_info": {
   "codemirror_mode": {
    "name": "ipython",
    "version": 3
   },
   "file_extension": ".py",
   "mimetype": "text/x-python",
   "name": "python",
   "nbconvert_exporter": "python",
   "pygments_lexer": "ipython3",
   "version": "3.8.5"
  }
 },
 "nbformat": 4,
 "nbformat_minor": 4
}
