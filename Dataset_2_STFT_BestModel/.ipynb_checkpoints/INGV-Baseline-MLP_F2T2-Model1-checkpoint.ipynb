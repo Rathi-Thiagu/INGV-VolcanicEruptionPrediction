{
 "cells": [
  {
   "cell_type": "markdown",
   "metadata": {},
   "source": [
    "### MLP Model 1 (100-256-256-100-1) using STFT Dataset"
   ]
  },
  {
   "cell_type": "code",
   "execution_count": 1,
   "metadata": {},
   "outputs": [],
   "source": [
    "#Importing essential libraries\n",
    "from sklearn.datasets import fetch_openml\n",
    "\n",
    "import numpy as np\n",
    "import matplotlib.pyplot as plt\n",
    "%matplotlib inline\n",
    "import os \n",
    "import cv2\n",
    "import random \n",
    "import math\n",
    "import pandas as pd\n",
    "\n",
    "from datetime import datetime\n",
    "\n",
    "from sklearn import metrics\n",
    "from sklearn.metrics import accuracy_score \n",
    "from sklearn.metrics import classification_report\n",
    "from sklearn.metrics import confusion_matrix\n",
    "from tensorflow.keras.callbacks import ModelCheckpoint\n",
    "from tensorflow.keras.models import Sequential\n",
    "from tensorflow.keras.layers import Dense, Activation, Flatten\n",
    "\n",
    "from sklearn.preprocessing import StandardScaler\n",
    "from sklearn.model_selection import train_test_split\n",
    "from sklearn.model_selection import cross_val_score\n",
    "from sklearn.model_selection import cross_val_predict\n",
    "from sklearn.model_selection import GridSearchCV, RandomizedSearchCV\n",
    "from sklearn.model_selection import KFold\n",
    "from sklearn.model_selection import StratifiedKFold\n",
    "\n",
    "from tensorflow.keras.models import Sequential, model_from_json\n",
    "from tensorflow.keras import layers\n",
    "from tensorflow.keras.layers import Conv1D,Conv2D,MaxPooling1D,Flatten,Dense,Dropout,BatchNormalization, GRU, LSTM, RNN\n",
    "from tensorflow.keras import regularizers as reg\n",
    "\n",
    "import tensorflow as tf\n",
    "from tensorflow import keras\n",
    "import pickle"
   ]
  },
  {
   "cell_type": "code",
   "execution_count": 7,
   "metadata": {},
   "outputs": [],
   "source": [
    "# Importing the Training data from picke file \n",
    "pickle_in = open(\"X_train_T2.pickle\",\"rb\")\n",
    "X_train = pickle.load(pickle_in)\n",
    "\n",
    "pickle_in = open(\"y_train_T2.pickle\",\"rb\")\n",
    "y_train = pickle.load(pickle_in)"
   ]
  },
  {
   "cell_type": "code",
   "execution_count": 8,
   "metadata": {},
   "outputs": [
    {
     "name": "stdout",
     "output_type": "stream",
     "text": [
      "X_train : (4431, 100)\n",
      "y_train : (4431,)\n"
     ]
    }
   ],
   "source": [
    "print('X_train :', X_train.shape)\n",
    "print('y_train :', y_train.shape)"
   ]
  },
  {
   "cell_type": "code",
   "execution_count": 9,
   "metadata": {},
   "outputs": [],
   "source": [
    "X_train=X_train.replace([np.inf, -np.inf, np.nan], 0)"
   ]
  },
  {
   "cell_type": "code",
   "execution_count": 4,
   "metadata": {},
   "outputs": [],
   "source": [
    "#Data Normalization \n",
    "# from sklearn.preprocessing import MinMaxScaler\n",
    "# scaler = MinMaxScaler()\n",
    "# X_train=scaler.fit_transform(X_train)\n",
    "# X_test=scaler.transform(X_test)"
   ]
  },
  {
   "cell_type": "code",
   "execution_count": 10,
   "metadata": {},
   "outputs": [
    {
     "name": "stdout",
     "output_type": "stream",
     "text": [
      "Model: \"sequential_1\"\n",
      "_________________________________________________________________\n",
      "Layer (type)                 Output Shape              Param #   \n",
      "=================================================================\n",
      "dense_5 (Dense)              (None, 100)               10100     \n",
      "_________________________________________________________________\n",
      "dense_6 (Dense)              (None, 256)               25856     \n",
      "_________________________________________________________________\n",
      "dense_7 (Dense)              (None, 256)               65792     \n",
      "_________________________________________________________________\n",
      "dense_8 (Dense)              (None, 100)               25700     \n",
      "_________________________________________________________________\n",
      "dense_9 (Dense)              (None, 1)                 101       \n",
      "=================================================================\n",
      "Total params: 127,549\n",
      "Trainable params: 127,549\n",
      "Non-trainable params: 0\n",
      "_________________________________________________________________\n"
     ]
    }
   ],
   "source": [
    "from tensorflow.keras.optimizers import SGD\n",
    "from tensorflow.keras.callbacks import EarlyStopping\n",
    "from tensorflow.keras.regularizers import l2\n",
    "NN_model = Sequential()\n",
    "\n",
    "# The Input Layer :\n",
    "NN_model.add(Dense(100, kernel_regularizer=l2(0.01), bias_regularizer=l2(0.01),input_dim = X_train.shape[1], activation='relu'))\n",
    "\n",
    "# The Hidden Layers :\n",
    "#NN_model.add(Dense(2000,kernel_regularizer=l2(0.01), bias_regularizer=l2(0.01),activation='relu'))\n",
    "#NN_model.add(Dense(1010,kernel_regularizer=l2(0.01), bias_regularizer=l2(0.01),activation='relu'))\n",
    "#NN_model.add(Dropout(0.5))\n",
    "NN_model.add(Dense(256,kernel_regularizer=l2(0.01), bias_regularizer=l2(0.01),activation='relu'))\n",
    "NN_model.add(Dense(256,kernel_regularizer=l2(0.01), bias_regularizer=l2(0.01),activation='relu'))\n",
    "NN_model.add(Dense(100,kernel_regularizer=l2(0.01), bias_regularizer=l2(0.01),activation='relu'))\n",
    "#NN_model.add(Dropout(0.5))\n",
    "# The Output Layer :\n",
    "NN_model.add(Dense(1,kernel_regularizer=l2(0.01), bias_regularizer=l2(0.01),activation='linear'))\n",
    "\n",
    "# Compile the network :\n",
    "#sgd = SGD(learning_rate=0.001)\n",
    "opt = keras.optimizers.Adam(learning_rate=0.001)\n",
    "NN_model.compile(loss='mean_absolute_error', optimizer=opt, metrics=['mean_absolute_error'])\n",
    "NN_model.summary()\n",
    "early_stopping_monitor = EarlyStopping(patience=10)\n",
    "callbacks_list = [early_stopping_monitor]"
   ]
  },
  {
   "cell_type": "code",
   "execution_count": 11,
   "metadata": {},
   "outputs": [
    {
     "name": "stdout",
     "output_type": "stream",
     "text": [
      "Epoch 1/250\n",
      "4209/4209 [==============================] - 5s 1ms/step - loss: 11112598.0000 - mean_absolute_error: 11112591.0000 - val_loss: 8829989.0000 - val_mean_absolute_error: 8829976.0000\n",
      "Epoch 2/250\n",
      "4209/4209 [==============================] - 5s 1ms/step - loss: 8056738.5000 - mean_absolute_error: 8056721.5000 - val_loss: 7852249.0000 - val_mean_absolute_error: 7852227.5000\n",
      "Epoch 3/250\n",
      "4209/4209 [==============================] - 5s 1ms/step - loss: 7072783.0000 - mean_absolute_error: 7072762.5000 - val_loss: 8214115.5000 - val_mean_absolute_error: 8214088.0000\n",
      "Epoch 4/250\n",
      "4209/4209 [==============================] - 5s 1ms/step - loss: 6560636.5000 - mean_absolute_error: 6560612.0000 - val_loss: 6413601.0000 - val_mean_absolute_error: 6413574.5000\n",
      "Epoch 5/250\n",
      "4209/4209 [==============================] - 5s 1ms/step - loss: 6122660.5000 - mean_absolute_error: 6122626.5000 - val_loss: 5601245.5000 - val_mean_absolute_error: 5601217.0000\n",
      "Epoch 6/250\n",
      "4209/4209 [==============================] - 5s 1ms/step - loss: 5737363.5000 - mean_absolute_error: 5737333.5000 - val_loss: 6858266.0000 - val_mean_absolute_error: 6858230.0000\n",
      "Epoch 7/250\n",
      "4209/4209 [==============================] - 6s 1ms/step - loss: 5503695.5000 - mean_absolute_error: 5503664.5000 - val_loss: 5791793.5000 - val_mean_absolute_error: 5791754.5000\n",
      "Epoch 8/250\n",
      "4209/4209 [==============================] - 6s 1ms/step - loss: 5265110.5000 - mean_absolute_error: 5265067.0000 - val_loss: 6161272.0000 - val_mean_absolute_error: 6161233.5000\n",
      "Epoch 9/250\n",
      "4209/4209 [==============================] - 6s 1ms/step - loss: 5058610.5000 - mean_absolute_error: 5058566.0000 - val_loss: 5347685.0000 - val_mean_absolute_error: 5347640.0000\n",
      "Epoch 10/250\n",
      "4209/4209 [==============================] - 6s 2ms/step - loss: 4916526.0000 - mean_absolute_error: 4916478.0000 - val_loss: 5315978.5000 - val_mean_absolute_error: 5315929.5000\n",
      "Epoch 11/250\n",
      "4209/4209 [==============================] - 6s 1ms/step - loss: 4691424.5000 - mean_absolute_error: 4691378.0000 - val_loss: 5075389.0000 - val_mean_absolute_error: 5075338.5000\n",
      "Epoch 12/250\n",
      "4209/4209 [==============================] - 6s 1ms/step - loss: 4561140.5000 - mean_absolute_error: 4561091.5000 - val_loss: 5633130.5000 - val_mean_absolute_error: 5633080.5000\n",
      "Epoch 13/250\n",
      "4209/4209 [==============================] - 5s 1ms/step - loss: 4376832.5000 - mean_absolute_error: 4376772.0000 - val_loss: 5257393.5000 - val_mean_absolute_error: 5257337.5000\n",
      "Epoch 14/250\n",
      "4209/4209 [==============================] - 6s 1ms/step - loss: 4270303.5000 - mean_absolute_error: 4270251.0000 - val_loss: 4687435.0000 - val_mean_absolute_error: 4687378.5000\n",
      "Epoch 15/250\n",
      "4209/4209 [==============================] - 5s 1ms/step - loss: 4073467.5000 - mean_absolute_error: 4073406.2500 - val_loss: 4382196.0000 - val_mean_absolute_error: 4382138.5000\n",
      "Epoch 16/250\n",
      "4209/4209 [==============================] - 7s 2ms/step - loss: 4027276.0000 - mean_absolute_error: 4027217.0000 - val_loss: 4565507.5000 - val_mean_absolute_error: 4565445.0000\n",
      "Epoch 17/250\n",
      "4209/4209 [==============================] - 6s 1ms/step - loss: 3973317.5000 - mean_absolute_error: 3973254.7500 - val_loss: 4222346.0000 - val_mean_absolute_error: 4222280.5000\n",
      "Epoch 18/250\n",
      "4209/4209 [==============================] - 5s 1ms/step - loss: 3810866.5000 - mean_absolute_error: 3810807.5000 - val_loss: 4725706.5000 - val_mean_absolute_error: 4725640.5000\n",
      "Epoch 19/250\n",
      "4209/4209 [==============================] - 6s 1ms/step - loss: 3744298.7500 - mean_absolute_error: 3744227.7500 - val_loss: 4078226.5000 - val_mean_absolute_error: 4078157.7500\n",
      "Epoch 20/250\n",
      "4209/4209 [==============================] - 5s 1ms/step - loss: 3607347.0000 - mean_absolute_error: 3607273.5000 - val_loss: 3608675.7500 - val_mean_absolute_error: 3608604.5000\n",
      "Epoch 21/250\n",
      "4209/4209 [==============================] - 6s 1ms/step - loss: 3543322.2500 - mean_absolute_error: 3543253.0000 - val_loss: 3823636.7500 - val_mean_absolute_error: 3823562.7500\n",
      "Epoch 22/250\n",
      "4209/4209 [==============================] - 6s 2ms/step - loss: 3485645.7500 - mean_absolute_error: 3485578.0000 - val_loss: 4580280.5000 - val_mean_absolute_error: 4580206.5000\n",
      "Epoch 23/250\n",
      "4209/4209 [==============================] - 6s 1ms/step - loss: 3408676.5000 - mean_absolute_error: 3408599.2500 - val_loss: 3571324.0000 - val_mean_absolute_error: 3571244.5000\n",
      "Epoch 24/250\n",
      "4209/4209 [==============================] - 5s 1ms/step - loss: 3357866.5000 - mean_absolute_error: 3357786.2500 - val_loss: 3678371.2500 - val_mean_absolute_error: 3678291.5000\n",
      "Epoch 25/250\n",
      "4209/4209 [==============================] - 6s 1ms/step - loss: 3273396.7500 - mean_absolute_error: 3273310.7500 - val_loss: 4435223.0000 - val_mean_absolute_error: 4435139.5000\n",
      "Epoch 26/250\n",
      "4209/4209 [==============================] - 5s 1ms/step - loss: 3193286.5000 - mean_absolute_error: 3193204.2500 - val_loss: 4191648.7500 - val_mean_absolute_error: 4191564.5000\n",
      "Epoch 27/250\n",
      "4209/4209 [==============================] - 6s 1ms/step - loss: 3253537.2500 - mean_absolute_error: 3253444.0000 - val_loss: 3626514.2500 - val_mean_absolute_error: 3626424.7500\n",
      "Epoch 28/250\n",
      "4209/4209 [==============================] - 6s 1ms/step - loss: 3160036.5000 - mean_absolute_error: 3159946.7500 - val_loss: 4016325.0000 - val_mean_absolute_error: 4016233.7500\n",
      "Epoch 29/250\n",
      "4209/4209 [==============================] - 6s 1ms/step - loss: 3056199.7500 - mean_absolute_error: 3056108.0000 - val_loss: 3537536.2500 - val_mean_absolute_error: 3537445.7500\n",
      "Epoch 30/250\n",
      "4209/4209 [==============================] - 7s 2ms/step - loss: 3027566.7500 - mean_absolute_error: 3027469.7500 - val_loss: 3505889.2500 - val_mean_absolute_error: 3505795.2500\n",
      "Epoch 31/250\n",
      "4209/4209 [==============================] - 5s 1ms/step - loss: 3076582.0000 - mean_absolute_error: 3076480.5000 - val_loss: 3976426.7500 - val_mean_absolute_error: 3976329.0000\n",
      "Epoch 32/250\n",
      "4209/4209 [==============================] - 6s 1ms/step - loss: 3009027.0000 - mean_absolute_error: 3008929.7500 - val_loss: 3926487.7500 - val_mean_absolute_error: 3926387.0000\n",
      "Epoch 33/250\n",
      "4209/4209 [==============================] - 7s 2ms/step - loss: 2960689.0000 - mean_absolute_error: 2960583.2500 - val_loss: 3663237.2500 - val_mean_absolute_error: 3663135.7500\n",
      "Epoch 34/250\n",
      "4209/4209 [==============================] - 6s 1ms/step - loss: 2889499.5000 - mean_absolute_error: 2889397.2500 - val_loss: 3380533.5000 - val_mean_absolute_error: 3380429.2500\n",
      "Epoch 35/250\n",
      "4209/4209 [==============================] - 5s 1ms/step - loss: 2910099.2500 - mean_absolute_error: 2909994.5000 - val_loss: 3734505.5000 - val_mean_absolute_error: 3734399.2500\n",
      "Epoch 36/250\n",
      "4209/4209 [==============================] - 6s 1ms/step - loss: 2852274.7500 - mean_absolute_error: 2852163.2500 - val_loss: 3375584.2500 - val_mean_absolute_error: 3375473.2500\n",
      "Epoch 37/250\n",
      "4209/4209 [==============================] - 6s 2ms/step - loss: 2799083.7500 - mean_absolute_error: 2798974.0000 - val_loss: 3569406.2500 - val_mean_absolute_error: 3569297.0000\n",
      "Epoch 38/250\n",
      "4209/4209 [==============================] - 5s 1ms/step - loss: 2808311.7500 - mean_absolute_error: 2808196.5000 - val_loss: 3370653.0000 - val_mean_absolute_error: 3370539.7500\n",
      "Epoch 39/250\n",
      "4209/4209 [==============================] - 5s 1ms/step - loss: 2752187.2500 - mean_absolute_error: 2752074.5000 - val_loss: 3329032.7500 - val_mean_absolute_error: 3328916.5000\n",
      "Epoch 40/250\n",
      "4209/4209 [==============================] - 6s 1ms/step - loss: 2723420.2500 - mean_absolute_error: 2723303.2500 - val_loss: 3625378.0000 - val_mean_absolute_error: 3625260.5000\n",
      "Epoch 41/250\n",
      "4209/4209 [==============================] - 6s 1ms/step - loss: 2722770.5000 - mean_absolute_error: 2722656.7500 - val_loss: 3305123.2500 - val_mean_absolute_error: 3305006.2500\n",
      "Epoch 42/250\n",
      "4209/4209 [==============================] - 6s 1ms/step - loss: 2692619.7500 - mean_absolute_error: 2692503.0000 - val_loss: 3740311.0000 - val_mean_absolute_error: 3740188.5000\n",
      "Epoch 43/250\n",
      "4209/4209 [==============================] - 6s 1ms/step - loss: 2638221.2500 - mean_absolute_error: 2638098.7500 - val_loss: 3676078.7500 - val_mean_absolute_error: 3675956.2500\n"
     ]
    },
    {
     "name": "stdout",
     "output_type": "stream",
     "text": [
      "Epoch 44/250\n",
      "4209/4209 [==============================] - 5s 1ms/step - loss: 2631787.2500 - mean_absolute_error: 2631658.7500 - val_loss: 3194028.5000 - val_mean_absolute_error: 3193904.2500\n",
      "Epoch 45/250\n",
      "4209/4209 [==============================] - 6s 1ms/step - loss: 2616549.0000 - mean_absolute_error: 2616420.2500 - val_loss: 3367790.2500 - val_mean_absolute_error: 3367663.0000\n",
      "Epoch 46/250\n",
      "4209/4209 [==============================] - 6s 1ms/step - loss: 2609582.7500 - mean_absolute_error: 2609456.5000 - val_loss: 3134611.5000 - val_mean_absolute_error: 3134482.5000\n",
      "Epoch 47/250\n",
      "4209/4209 [==============================] - 6s 1ms/step - loss: 2585200.5000 - mean_absolute_error: 2585069.2500 - val_loss: 3604167.0000 - val_mean_absolute_error: 3604036.0000\n",
      "Epoch 48/250\n",
      "4209/4209 [==============================] - 6s 1ms/step - loss: 2553772.7500 - mean_absolute_error: 2553635.7500 - val_loss: 2952612.2500 - val_mean_absolute_error: 2952478.5000\n",
      "Epoch 49/250\n",
      "4209/4209 [==============================] - 6s 1ms/step - loss: 2524725.2500 - mean_absolute_error: 2524590.2500 - val_loss: 3238383.0000 - val_mean_absolute_error: 3238247.0000\n",
      "Epoch 50/250\n",
      "4209/4209 [==============================] - 5s 1ms/step - loss: 2491483.2500 - mean_absolute_error: 2491344.7500 - val_loss: 3203369.5000 - val_mean_absolute_error: 3203229.7500\n",
      "Epoch 51/250\n",
      "4209/4209 [==============================] - 6s 1ms/step - loss: 2512991.2500 - mean_absolute_error: 2512850.2500 - val_loss: 3391784.7500 - val_mean_absolute_error: 3391643.7500\n",
      "Epoch 52/250\n",
      "4209/4209 [==============================] - 5s 1ms/step - loss: 2479732.0000 - mean_absolute_error: 2479587.0000 - val_loss: 3211132.7500 - val_mean_absolute_error: 3210989.2500\n",
      "Epoch 53/250\n",
      "4209/4209 [==============================] - 6s 1ms/step - loss: 2424540.5000 - mean_absolute_error: 2424398.7500 - val_loss: 3198625.5000 - val_mean_absolute_error: 3198478.7500\n",
      "Epoch 54/250\n",
      "4209/4209 [==============================] - 5s 1ms/step - loss: 2426883.7500 - mean_absolute_error: 2426736.0000 - val_loss: 2982897.7500 - val_mean_absolute_error: 2982751.5000\n",
      "Epoch 55/250\n",
      "4209/4209 [==============================] - 5s 1ms/step - loss: 2435380.0000 - mean_absolute_error: 2435234.0000 - val_loss: 3774521.0000 - val_mean_absolute_error: 3774373.5000\n",
      "Epoch 56/250\n",
      "4209/4209 [==============================] - 5s 1ms/step - loss: 2393110.7500 - mean_absolute_error: 2392959.5000 - val_loss: 3232109.0000 - val_mean_absolute_error: 3231955.2500\n",
      "Epoch 57/250\n",
      "4209/4209 [==============================] - 5s 1ms/step - loss: 2358075.0000 - mean_absolute_error: 2357925.2500 - val_loss: 3115609.7500 - val_mean_absolute_error: 3115455.7500\n",
      "Epoch 58/250\n",
      "4209/4209 [==============================] - 5s 1ms/step - loss: 2348614.2500 - mean_absolute_error: 2348462.5000 - val_loss: 2871538.7500 - val_mean_absolute_error: 2871381.0000\n",
      "Epoch 59/250\n",
      "4209/4209 [==============================] - 5s 1ms/step - loss: 2285173.5000 - mean_absolute_error: 2285017.0000 - val_loss: 2941359.5000 - val_mean_absolute_error: 2941200.7500\n",
      "Epoch 60/250\n",
      "4209/4209 [==============================] - 5s 1ms/step - loss: 2306476.5000 - mean_absolute_error: 2306319.2500 - val_loss: 3019803.7500 - val_mean_absolute_error: 3019642.7500\n",
      "Epoch 61/250\n",
      "4209/4209 [==============================] - 5s 1ms/step - loss: 2284442.7500 - mean_absolute_error: 2284275.7500 - val_loss: 3212268.7500 - val_mean_absolute_error: 3212106.5000\n",
      "Epoch 62/250\n",
      "4209/4209 [==============================] - 6s 1ms/step - loss: 2314893.5000 - mean_absolute_error: 2314726.7500 - val_loss: 3271234.0000 - val_mean_absolute_error: 3271071.2500\n",
      "Epoch 63/250\n",
      "4209/4209 [==============================] - 6s 1ms/step - loss: 2244752.0000 - mean_absolute_error: 2244590.7500 - val_loss: 3447820.5000 - val_mean_absolute_error: 3447655.0000\n",
      "Epoch 64/250\n",
      "4209/4209 [==============================] - 5s 1ms/step - loss: 2265107.7500 - mean_absolute_error: 2264937.0000 - val_loss: 3463695.2500 - val_mean_absolute_error: 3463524.0000\n",
      "Epoch 65/250\n",
      "4209/4209 [==============================] - 5s 1ms/step - loss: 2219224.2500 - mean_absolute_error: 2219053.7500 - val_loss: 3248077.2500 - val_mean_absolute_error: 3247907.7500\n",
      "Epoch 66/250\n",
      "4209/4209 [==============================] - 5s 1ms/step - loss: 2253734.0000 - mean_absolute_error: 2253564.2500 - val_loss: 2908565.0000 - val_mean_absolute_error: 2908391.0000\n",
      "Epoch 67/250\n",
      "4209/4209 [==============================] - 5s 1ms/step - loss: 2175896.5000 - mean_absolute_error: 2175724.5000 - val_loss: 2847173.5000 - val_mean_absolute_error: 2846998.2500\n",
      "Epoch 68/250\n",
      "4209/4209 [==============================] - 6s 1ms/step - loss: 2199791.2500 - mean_absolute_error: 2199611.7500 - val_loss: 2825503.2500 - val_mean_absolute_error: 2825325.7500\n",
      "Epoch 69/250\n",
      "4209/4209 [==============================] - 6s 1ms/step - loss: 2172271.0000 - mean_absolute_error: 2172094.5000 - val_loss: 2690767.0000 - val_mean_absolute_error: 2690585.7500\n",
      "Epoch 70/250\n",
      "4209/4209 [==============================] - 6s 1ms/step - loss: 2168831.7500 - mean_absolute_error: 2168646.0000 - val_loss: 2888247.2500 - val_mean_absolute_error: 2888065.2500\n",
      "Epoch 71/250\n",
      "4209/4209 [==============================] - 6s 1ms/step - loss: 2152293.2500 - mean_absolute_error: 2152111.5000 - val_loss: 2883640.5000 - val_mean_absolute_error: 2883456.2500\n",
      "Epoch 72/250\n",
      "4209/4209 [==============================] - 5s 1ms/step - loss: 2085814.7500 - mean_absolute_error: 2085631.3750 - val_loss: 3111238.2500 - val_mean_absolute_error: 3111051.5000\n",
      "Epoch 73/250\n",
      "4209/4209 [==============================] - 5s 1ms/step - loss: 2116478.5000 - mean_absolute_error: 2116289.7500 - val_loss: 3179439.7500 - val_mean_absolute_error: 3179250.5000\n",
      "Epoch 74/250\n",
      "4209/4209 [==============================] - 5s 1ms/step - loss: 2112828.5000 - mean_absolute_error: 2112635.7500 - val_loss: 2805283.5000 - val_mean_absolute_error: 2805093.2500\n",
      "Epoch 75/250\n",
      "4209/4209 [==============================] - 5s 1ms/step - loss: 2072197.2500 - mean_absolute_error: 2072006.2500 - val_loss: 2869402.0000 - val_mean_absolute_error: 2869208.0000\n",
      "Epoch 76/250\n",
      "4209/4209 [==============================] - 6s 1ms/step - loss: 2000513.6250 - mean_absolute_error: 2000318.5000 - val_loss: 3118731.0000 - val_mean_absolute_error: 3118536.2500\n",
      "Epoch 77/250\n",
      "4209/4209 [==============================] - 6s 1ms/step - loss: 2082082.2500 - mean_absolute_error: 2081886.8750 - val_loss: 3065276.5000 - val_mean_absolute_error: 3065076.5000\n",
      "Epoch 78/250\n",
      "4209/4209 [==============================] - 6s 1ms/step - loss: 2078845.5000 - mean_absolute_error: 2078646.7500 - val_loss: 2979759.5000 - val_mean_absolute_error: 2979559.7500\n",
      "Epoch 79/250\n",
      "4209/4209 [==============================] - 6s 1ms/step - loss: 2069182.1250 - mean_absolute_error: 2068982.6250 - val_loss: 2670388.7500 - val_mean_absolute_error: 2670186.5000\n",
      "Epoch 80/250\n",
      "4209/4209 [==============================] - 5s 1ms/step - loss: 2055610.5000 - mean_absolute_error: 2055407.6250 - val_loss: 2868517.5000 - val_mean_absolute_error: 2868312.2500\n",
      "Epoch 81/250\n",
      "4209/4209 [==============================] - 6s 1ms/step - loss: 2013137.1250 - mean_absolute_error: 2012932.8750 - val_loss: 2613946.2500 - val_mean_absolute_error: 2613738.7500\n",
      "Epoch 82/250\n",
      "4209/4209 [==============================] - 5s 1ms/step - loss: 1999312.5000 - mean_absolute_error: 1999103.1250 - val_loss: 3071095.0000 - val_mean_absolute_error: 3070887.2500\n",
      "Epoch 83/250\n",
      "4209/4209 [==============================] - 6s 1ms/step - loss: 2018208.1250 - mean_absolute_error: 2017994.8750 - val_loss: 2668412.2500 - val_mean_absolute_error: 2668200.2500\n",
      "Epoch 84/250\n",
      "4209/4209 [==============================] - 6s 1ms/step - loss: 1978951.7500 - mean_absolute_error: 1978738.6250 - val_loss: 2814685.7500 - val_mean_absolute_error: 2814471.5000\n",
      "Epoch 85/250\n",
      "4209/4209 [==============================] - 6s 1ms/step - loss: 2006365.0000 - mean_absolute_error: 2006153.1250 - val_loss: 2703787.7500 - val_mean_absolute_error: 2703572.2500\n",
      "Epoch 86/250\n",
      "4209/4209 [==============================] - 5s 1ms/step - loss: 1946185.1250 - mean_absolute_error: 1945969.2500 - val_loss: 2495330.2500 - val_mean_absolute_error: 2495114.5000\n"
     ]
    },
    {
     "name": "stdout",
     "output_type": "stream",
     "text": [
      "Epoch 87/250\n",
      "4209/4209 [==============================] - 6s 1ms/step - loss: 1961932.7500 - mean_absolute_error: 1961713.5000 - val_loss: 2820173.7500 - val_mean_absolute_error: 2819953.7500\n",
      "Epoch 88/250\n",
      "4209/4209 [==============================] - 6s 1ms/step - loss: 1952251.1250 - mean_absolute_error: 1952030.1250 - val_loss: 2772266.5000 - val_mean_absolute_error: 2772045.2500\n",
      "Epoch 89/250\n",
      "4209/4209 [==============================] - 5s 1ms/step - loss: 1928409.1250 - mean_absolute_error: 1928191.7500 - val_loss: 2608184.0000 - val_mean_absolute_error: 2607960.2500\n",
      "Epoch 90/250\n",
      "4209/4209 [==============================] - 6s 1ms/step - loss: 1928296.5000 - mean_absolute_error: 1928069.1250 - val_loss: 2718155.2500 - val_mean_absolute_error: 2717928.2500\n",
      "Epoch 91/250\n",
      "4209/4209 [==============================] - 6s 2ms/step - loss: 1893526.1250 - mean_absolute_error: 1893296.5000 - val_loss: 2707421.7500 - val_mean_absolute_error: 2707193.0000\n",
      "Epoch 92/250\n",
      "4209/4209 [==============================] - 5s 1ms/step - loss: 1879878.3750 - mean_absolute_error: 1879648.1250 - val_loss: 2738557.5000 - val_mean_absolute_error: 2738325.5000\n",
      "Epoch 93/250\n",
      "4209/4209 [==============================] - 5s 1ms/step - loss: 1921759.7500 - mean_absolute_error: 1921529.5000 - val_loss: 2844267.7500 - val_mean_absolute_error: 2844033.7500\n",
      "Epoch 94/250\n",
      "4209/4209 [==============================] - 5s 1ms/step - loss: 1892641.0000 - mean_absolute_error: 1892405.8750 - val_loss: 2637596.2500 - val_mean_absolute_error: 2637361.7500\n",
      "Epoch 95/250\n",
      "4209/4209 [==============================] - 6s 1ms/step - loss: 1864578.8750 - mean_absolute_error: 1864343.6250 - val_loss: 2792215.7500 - val_mean_absolute_error: 2791977.2500\n",
      "Epoch 96/250\n",
      "4209/4209 [==============================] - 6s 1ms/step - loss: 1860619.6250 - mean_absolute_error: 1860381.7500 - val_loss: 2701935.2500 - val_mean_absolute_error: 2701694.5000\n"
     ]
    },
    {
     "data": {
      "text/plain": [
       "<tensorflow.python.keras.callbacks.History at 0x25995d26cd0>"
      ]
     },
     "execution_count": 11,
     "metadata": {},
     "output_type": "execute_result"
    }
   ],
   "source": [
    "#Model Fit \n",
    "NN_model.fit(X_train, y_train, epochs=250, batch_size=1, validation_split = 0.05 , callbacks=callbacks_list )"
   ]
  },
  {
   "cell_type": "code",
   "execution_count": 26,
   "metadata": {},
   "outputs": [],
   "source": [
    "#Saving the model for Ensembling\n",
    "filename = 'model_F2T2.h5'\n",
    "NN_model.save(filename)"
   ]
  },
  {
   "cell_type": "code",
   "execution_count": 12,
   "metadata": {},
   "outputs": [],
   "source": [
    "def plotfig (ypred, yactual, strtitle, y_max):\n",
    "    plt.scatter(ypred, yactual.values.ravel())\n",
    "    plt.title(strtitle)\n",
    "    plt.plot([(0, 0), (y_max, y_max)], [(0, 0), (y_max, y_max)])\n",
    "    plt.xlim(0, y_max)\n",
    "    plt.ylim(0, y_max)\n",
    "    plt.xlabel('Predicted', fontsize=12)\n",
    "    plt.ylabel('Actual', fontsize=12)\n",
    "    plt.show()"
   ]
  },
  {
   "cell_type": "code",
   "execution_count": 13,
   "metadata": {},
   "outputs": [
    {
     "data": {
      "image/png": "[encoded data removed]",
      "text/plain": [
       "<Figure size 432x288 with 1 Axes>"
      ]
     },
     "metadata": {
      "needs_background": "light"
     },
     "output_type": "display_data"
    }
   ],
   "source": [
    "#Best fit line for Training data \n",
    "plotfig(NN_model.predict(X_train), y_train, 'Predicted vs. Actual responses for MLP', max(y_train) + 0.1*max(y_train))"
   ]
  },
  {
   "cell_type": "code",
   "execution_count": 14,
   "metadata": {},
   "outputs": [],
   "source": [
    "#Importing the test data \n",
    "pickle_in = open(\"X_test_T2.pickle\",\"rb\")\n",
    "X_test = pickle.load(pickle_in)"
   ]
  },
  {
   "cell_type": "code",
   "execution_count": 15,
   "metadata": {},
   "outputs": [
    {
     "name": "stdout",
     "output_type": "stream",
     "text": [
      "[[20248008.]\n",
      " [38431216.]\n",
      " [21283110.]\n",
      " ...\n",
      " [16766103.]\n",
      " [33594492.]\n",
      " [31018890.]]\n"
     ]
    }
   ],
   "source": [
    "predictions = NN_model.predict(X_test)\n",
    "print(predictions)"
   ]
  },
  {
   "cell_type": "code",
   "execution_count": 25,
   "metadata": {},
   "outputs": [
    {
     "data": {
      "text/plain": [
       "(4520, 1)"
      ]
     },
     "execution_count": 25,
     "metadata": {},
     "output_type": "execute_result"
    }
   ],
   "source": [
    "predictions.shape"
   ]
  },
  {
   "cell_type": "code",
   "execution_count": 27,
   "metadata": {},
   "outputs": [],
   "source": [
    "testsub =  pd.read_csv('C:/Datasets/predict-volcanic-eruptions-ingv-oe/sample_submission.csv')"
   ]
  },
  {
   "cell_type": "code",
   "execution_count": 24,
   "metadata": {},
   "outputs": [],
   "source": [
    "#Creating Submission file to kaggle \n",
    "submission = pd.DataFrame()\n",
    "submission['segment_id'] = testsub['segment_id']\n",
    "submission['time_to_eruption'] = predictions\n",
    "submission.to_csv('submission_MLP_121320_Best.csv', header=True, index=False)"
   ]
  }
 ],
 "metadata": {
  "kernelspec": {
   "display_name": "Python 3",
   "language": "python",
   "name": "python3"
  },
  "language_info": {
   "codemirror_mode": {
    "name": "ipython",
    "version": 3
   },
   "file_extension": ".py",
   "mimetype": "text/x-python",
   "name": "python",
   "nbconvert_exporter": "python",
   "pygments_lexer": "ipython3",
   "version": "3.8.5"
  }
 },
 "nbformat": 4,
 "nbformat_minor": 4
}
