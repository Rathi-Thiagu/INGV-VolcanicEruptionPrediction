{
 "cells": [
  {
   "cell_type": "markdown",
   "metadata": {},
   "source": [
    "### MLP Model 6 (400-256-100-1) using STFT Dataset"
   ]
  },
  {
   "cell_type": "code",
   "execution_count": 1,
   "metadata": {},
   "outputs": [],
   "source": [
    "#Importing essential libraries\n",
    "from sklearn.datasets import fetch_openml\n",
    "\n",
    "import numpy as np\n",
    "import matplotlib.pyplot as plt\n",
    "%matplotlib inline\n",
    "import os \n",
    "import cv2\n",
    "import random \n",
    "import math\n",
    "import pandas as pd\n",
    "\n",
    "from datetime import datetime\n",
    "\n",
    "from sklearn import metrics\n",
    "from sklearn.metrics import accuracy_score \n",
    "from sklearn.metrics import classification_report\n",
    "from sklearn.metrics import confusion_matrix\n",
    "from tensorflow.keras.callbacks import ModelCheckpoint\n",
    "from tensorflow.keras.models import Sequential\n",
    "from tensorflow.keras.layers import Dense, Activation, Flatten\n",
    "\n",
    "from sklearn.preprocessing import StandardScaler\n",
    "from sklearn.model_selection import train_test_split\n",
    "from sklearn.model_selection import cross_val_score\n",
    "from sklearn.model_selection import cross_val_predict\n",
    "from sklearn.model_selection import GridSearchCV, RandomizedSearchCV\n",
    "from sklearn.model_selection import KFold\n",
    "from sklearn.model_selection import StratifiedKFold\n",
    "\n",
    "from tensorflow.keras.models import Sequential, model_from_json\n",
    "from tensorflow.keras import layers\n",
    "from tensorflow.keras.layers import Conv1D,Conv2D,MaxPooling1D,Flatten,Dense,Dropout,BatchNormalization, GRU, LSTM, RNN\n",
    "from tensorflow.keras import regularizers as reg\n",
    "\n",
    "import tensorflow as tf\n",
    "from tensorflow import keras\n",
    "import pickle"
   ]
  },
  {
   "cell_type": "code",
   "execution_count": 2,
   "metadata": {},
   "outputs": [],
   "source": [
    "# Importing the Training data from pickle file \n",
    "pickle_in = open(\"X_train_T2.pickle\",\"rb\")\n",
    "X_train = pickle.load(pickle_in)\n",
    "\n",
    "pickle_in = open(\"y_train_T2.pickle\",\"rb\")\n",
    "y_train = pickle.load(pickle_in)\n"
   ]
  },
  {
   "cell_type": "code",
   "execution_count": 3,
   "metadata": {},
   "outputs": [
    {
     "name": "stdout",
     "output_type": "stream",
     "text": [
      "X_train : (4431, 100)\n",
      "y_train : (4431,)\n"
     ]
    }
   ],
   "source": [
    "print('X_train :', X_train.shape)\n",
    "print('y_train :', y_train.shape)"
   ]
  },
  {
   "cell_type": "code",
   "execution_count": 4,
   "metadata": {},
   "outputs": [],
   "source": [
    "X_train=X_train.replace([np.inf, -np.inf, np.nan], 0)"
   ]
  },
  {
   "cell_type": "code",
   "execution_count": null,
   "metadata": {},
   "outputs": [],
   "source": [
    "# from sklearn.preprocessing import MinMaxScaler\n",
    "# scaler = MinMaxScaler()\n",
    "# X_train=scaler.fit_transform(X_train)\n",
    "# X_test=scaler.transform(X_test)"
   ]
  },
  {
   "cell_type": "code",
   "execution_count": 5,
   "metadata": {},
   "outputs": [
    {
     "name": "stdout",
     "output_type": "stream",
     "text": [
      "Model: \"sequential\"\n",
      "_________________________________________________________________\n",
      "Layer (type)                 Output Shape              Param #   \n",
      "=================================================================\n",
      "dense (Dense)                (None, 400)               40400     \n",
      "_________________________________________________________________\n",
      "dense_1 (Dense)              (None, 256)               102656    \n",
      "_________________________________________________________________\n",
      "dense_2 (Dense)              (None, 100)               25700     \n",
      "_________________________________________________________________\n",
      "dense_3 (Dense)              (None, 1)                 101       \n",
      "=================================================================\n",
      "Total params: 168,857\n",
      "Trainable params: 168,857\n",
      "Non-trainable params: 0\n",
      "_________________________________________________________________\n"
     ]
    }
   ],
   "source": [
    "#In Model 6 we increased the no of neurons in the first hidden layer \n",
    "from tensorflow.keras.optimizers import SGD\n",
    "from tensorflow.keras.callbacks import EarlyStopping\n",
    "from tensorflow.keras import regularizers\n",
    "NN_model = Sequential()\n",
    "#kernel_regularizer = regularizers.l1_l2(l1=0.0001 , l2=0.0001)\n",
    "#bias_regularizer=regularizers.l2(0.001)\n",
    "\n",
    "# The Input Layer :\n",
    "NN_model.add(Dense(400,input_dim = X_train.shape[1], activation='relu'))\n",
    "\n",
    "# The Hidden Layers :\n",
    "NN_model.add(Dense(256,activation='relu'))\n",
    "NN_model.add(Dense(100,activation='relu'))\n",
    "\n",
    "# The Output Layer :\n",
    "NN_model.add(Dense(1,activation='linear'))\n",
    "\n",
    "# Compile the network :\n",
    "#sgd = SGD(learning_rate=0.001)\n",
    "opt = keras.optimizers.Adam(learning_rate=0.001)\n",
    "NN_model.compile(loss='mean_absolute_error', optimizer=opt, metrics=['mean_absolute_error'])\n",
    "NN_model.summary()\n",
    "early_stopping_monitor = EarlyStopping(patience=20)\n",
    "callbacks_list = [early_stopping_monitor]"
   ]
  },
  {
   "cell_type": "code",
   "execution_count": 6,
   "metadata": {},
   "outputs": [
    {
     "name": "stdout",
     "output_type": "stream",
     "text": [
      "Epoch 1/250\n",
      "4342/4342 [==============================] - 5s 1ms/step - loss: 10518043.0000 - mean_absolute_error: 10518043.0000 - val_loss: 8455052.0000 - val_mean_absolute_error: 8455052.0000\n",
      "Epoch 2/250\n",
      "4342/4342 [==============================] - 5s 1ms/step - loss: 7796185.0000 - mean_absolute_error: 7796185.0000 - val_loss: 8059234.5000 - val_mean_absolute_error: 8059234.5000\n",
      "Epoch 3/250\n",
      "4342/4342 [==============================] - 5s 1ms/step - loss: 6930670.0000 - mean_absolute_error: 6930670.0000 - val_loss: 8138911.0000 - val_mean_absolute_error: 8138911.0000\n",
      "Epoch 4/250\n",
      "4342/4342 [==============================] - 5s 1ms/step - loss: 6354525.0000 - mean_absolute_error: 6354525.0000 - val_loss: 6927048.0000 - val_mean_absolute_error: 6927048.0000\n",
      "Epoch 5/250\n",
      "4342/4342 [==============================] - 5s 1ms/step - loss: 5927845.5000 - mean_absolute_error: 5927845.5000 - val_loss: 7654207.5000 - val_mean_absolute_error: 7654207.5000\n",
      "Epoch 6/250\n",
      "4342/4342 [==============================] - 5s 1ms/step - loss: 5608905.5000 - mean_absolute_error: 5608905.5000 - val_loss: 6367212.0000 - val_mean_absolute_error: 6367212.0000\n",
      "Epoch 7/250\n",
      "4342/4342 [==============================] - 5s 1ms/step - loss: 5332987.0000 - mean_absolute_error: 5332987.0000 - val_loss: 6595451.5000 - val_mean_absolute_error: 6595451.5000\n",
      "Epoch 8/250\n",
      "4342/4342 [==============================] - 5s 1ms/step - loss: 5168912.5000 - mean_absolute_error: 5168912.5000 - val_loss: 6642253.5000 - val_mean_absolute_error: 6642253.5000\n",
      "Epoch 9/250\n",
      "4342/4342 [==============================] - 5s 1ms/step - loss: 4960397.5000 - mean_absolute_error: 4960397.5000 - val_loss: 6788862.0000 - val_mean_absolute_error: 6788862.0000\n",
      "Epoch 10/250\n",
      "4342/4342 [==============================] - 5s 1ms/step - loss: 4715868.5000 - mean_absolute_error: 4715868.5000 - val_loss: 5574878.0000 - val_mean_absolute_error: 5574878.0000\n",
      "Epoch 11/250\n",
      "4342/4342 [==============================] - 5s 1ms/step - loss: 4567183.0000 - mean_absolute_error: 4567183.0000 - val_loss: 5398139.5000 - val_mean_absolute_error: 5398139.5000\n",
      "Epoch 12/250\n",
      "4342/4342 [==============================] - 5s 1ms/step - loss: 4404342.5000 - mean_absolute_error: 4404342.5000 - val_loss: 6133771.5000 - val_mean_absolute_error: 6133771.5000\n",
      "Epoch 13/250\n",
      "4342/4342 [==============================] - 5s 1ms/step - loss: 4361781.5000 - mean_absolute_error: 4361781.5000 - val_loss: 5702470.5000 - val_mean_absolute_error: 5702470.5000\n",
      "Epoch 14/250\n",
      "4342/4342 [==============================] - 5s 1ms/step - loss: 4182469.7500 - mean_absolute_error: 4182469.7500 - val_loss: 5659694.5000 - val_mean_absolute_error: 5659694.5000\n",
      "Epoch 15/250\n",
      "4342/4342 [==============================] - 5s 1ms/step - loss: 4019567.5000 - mean_absolute_error: 4019567.5000 - val_loss: 5015306.5000 - val_mean_absolute_error: 5015306.5000\n",
      "Epoch 16/250\n",
      "4342/4342 [==============================] - 5s 1ms/step - loss: 4021791.7500 - mean_absolute_error: 4021791.7500 - val_loss: 5147035.0000 - val_mean_absolute_error: 5147035.0000\n",
      "Epoch 17/250\n",
      "4342/4342 [==============================] - 5s 1ms/step - loss: 3835173.0000 - mean_absolute_error: 3835173.0000 - val_loss: 5583912.5000 - val_mean_absolute_error: 5583912.5000\n",
      "Epoch 18/250\n",
      "4342/4342 [==============================] - 5s 1ms/step - loss: 3812123.0000 - mean_absolute_error: 3812123.0000 - val_loss: 4993888.5000 - val_mean_absolute_error: 4993888.5000\n",
      "Epoch 19/250\n",
      "4342/4342 [==============================] - 5s 1ms/step - loss: 3667799.5000 - mean_absolute_error: 3667799.5000 - val_loss: 4921945.0000 - val_mean_absolute_error: 4921945.0000\n",
      "Epoch 20/250\n",
      "4342/4342 [==============================] - 5s 1ms/step - loss: 3655426.0000 - mean_absolute_error: 3655426.0000 - val_loss: 4706658.0000 - val_mean_absolute_error: 4706658.0000\n",
      "Epoch 21/250\n",
      "4342/4342 [==============================] - 5s 1ms/step - loss: 3495132.2500 - mean_absolute_error: 3495132.2500 - val_loss: 5153464.0000 - val_mean_absolute_error: 5153464.0000\n",
      "Epoch 22/250\n",
      "4342/4342 [==============================] - 5s 1ms/step - loss: 3482932.7500 - mean_absolute_error: 3482932.7500 - val_loss: 4375564.0000 - val_mean_absolute_error: 4375564.0000\n",
      "Epoch 23/250\n",
      "4342/4342 [==============================] - 5s 1ms/step - loss: 3379841.0000 - mean_absolute_error: 3379841.0000 - val_loss: 4767563.0000 - val_mean_absolute_error: 4767563.0000\n",
      "Epoch 24/250\n",
      "4342/4342 [==============================] - 5s 1ms/step - loss: 3318563.0000 - mean_absolute_error: 3318563.0000 - val_loss: 4877742.0000 - val_mean_absolute_error: 4877742.0000\n",
      "Epoch 25/250\n",
      "4342/4342 [==============================] - 5s 1ms/step - loss: 3293225.2500 - mean_absolute_error: 3293225.2500 - val_loss: 4456584.5000 - val_mean_absolute_error: 4456584.5000\n",
      "Epoch 26/250\n",
      "4342/4342 [==============================] - 5s 1ms/step - loss: 3218041.0000 - mean_absolute_error: 3218041.0000 - val_loss: 5249474.0000 - val_mean_absolute_error: 5249474.0000\n",
      "Epoch 27/250\n",
      "4342/4342 [==============================] - 5s 1ms/step - loss: 3181112.5000 - mean_absolute_error: 3181112.5000 - val_loss: 4051958.2500 - val_mean_absolute_error: 4051958.2500\n",
      "Epoch 28/250\n",
      "4342/4342 [==============================] - 5s 1ms/step - loss: 3134905.7500 - mean_absolute_error: 3134905.7500 - val_loss: 4894905.0000 - val_mean_absolute_error: 4894905.0000\n",
      "Epoch 29/250\n",
      "4342/4342 [==============================] - 5s 1ms/step - loss: 3070997.2500 - mean_absolute_error: 3070997.2500 - val_loss: 4259629.5000 - val_mean_absolute_error: 4259629.5000\n",
      "Epoch 30/250\n",
      "4342/4342 [==============================] - 5s 1ms/step - loss: 3043378.0000 - mean_absolute_error: 3043378.0000 - val_loss: 4725292.0000 - val_mean_absolute_error: 4725292.0000\n",
      "Epoch 31/250\n",
      "4342/4342 [==============================] - 5s 1ms/step - loss: 3004290.7500 - mean_absolute_error: 3004290.7500 - val_loss: 4478371.0000 - val_mean_absolute_error: 4478371.0000\n",
      "Epoch 32/250\n",
      "4342/4342 [==============================] - 5s 1ms/step - loss: 2942717.0000 - mean_absolute_error: 2942717.0000 - val_loss: 4669942.5000 - val_mean_absolute_error: 4669942.5000\n",
      "Epoch 33/250\n",
      "4342/4342 [==============================] - 5s 1ms/step - loss: 2903964.7500 - mean_absolute_error: 2903964.7500 - val_loss: 5254894.0000 - val_mean_absolute_error: 5254894.0000\n",
      "Epoch 34/250\n",
      "4342/4342 [==============================] - 5s 1ms/step - loss: 2889501.5000 - mean_absolute_error: 2889501.5000 - val_loss: 4001485.2500 - val_mean_absolute_error: 4001485.2500\n",
      "Epoch 35/250\n",
      "4342/4342 [==============================] - 5s 1ms/step - loss: 2845957.5000 - mean_absolute_error: 2845957.5000 - val_loss: 4168360.7500 - val_mean_absolute_error: 4168360.7500\n",
      "Epoch 36/250\n",
      "4342/4342 [==============================] - 5s 1ms/step - loss: 2829252.0000 - mean_absolute_error: 2829252.0000 - val_loss: 4534220.0000 - val_mean_absolute_error: 4534220.0000\n",
      "Epoch 37/250\n",
      "4342/4342 [==============================] - 5s 1ms/step - loss: 2744573.7500 - mean_absolute_error: 2744573.7500 - val_loss: 4261721.5000 - val_mean_absolute_error: 4261721.5000\n",
      "Epoch 38/250\n",
      "4342/4342 [==============================] - 5s 1ms/step - loss: 2737316.5000 - mean_absolute_error: 2737316.5000 - val_loss: 4125454.5000 - val_mean_absolute_error: 4125454.5000\n",
      "Epoch 39/250\n",
      "4342/4342 [==============================] - 5s 1ms/step - loss: 2746216.0000 - mean_absolute_error: 2746216.0000 - val_loss: 4128614.0000 - val_mean_absolute_error: 4128614.0000\n",
      "Epoch 40/250\n",
      "4342/4342 [==============================] - 5s 1ms/step - loss: 2701635.7500 - mean_absolute_error: 2701635.7500 - val_loss: 3865679.5000 - val_mean_absolute_error: 3865679.5000\n",
      "Epoch 41/250\n",
      "4342/4342 [==============================] - 5s 1ms/step - loss: 2648005.5000 - mean_absolute_error: 2648005.5000 - val_loss: 3500872.2500 - val_mean_absolute_error: 3500872.2500\n",
      "Epoch 42/250\n",
      "4342/4342 [==============================] - 5s 1ms/step - loss: 2586834.2500 - mean_absolute_error: 2586834.2500 - val_loss: 3950714.0000 - val_mean_absolute_error: 3950714.0000\n",
      "Epoch 43/250\n",
      "4342/4342 [==============================] - 5s 1ms/step - loss: 2597440.2500 - mean_absolute_error: 2597440.2500 - val_loss: 4022605.7500 - val_mean_absolute_error: 4022605.7500\n"
     ]
    },
    {
     "name": "stdout",
     "output_type": "stream",
     "text": [
      "Epoch 44/250\n",
      "4342/4342 [==============================] - 5s 1ms/step - loss: 2564678.5000 - mean_absolute_error: 2564678.5000 - val_loss: 3742927.5000 - val_mean_absolute_error: 3742927.5000\n",
      "Epoch 45/250\n",
      "4342/4342 [==============================] - 5s 1ms/step - loss: 2566706.5000 - mean_absolute_error: 2566706.5000 - val_loss: 3963119.7500 - val_mean_absolute_error: 3963119.7500\n",
      "Epoch 46/250\n",
      "4342/4342 [==============================] - 5s 1ms/step - loss: 2532037.7500 - mean_absolute_error: 2532037.7500 - val_loss: 3928298.7500 - val_mean_absolute_error: 3928298.7500\n",
      "Epoch 47/250\n",
      "4342/4342 [==============================] - 5s 1ms/step - loss: 2488792.2500 - mean_absolute_error: 2488792.2500 - val_loss: 3783030.2500 - val_mean_absolute_error: 3783030.2500\n",
      "Epoch 48/250\n",
      "4342/4342 [==============================] - 5s 1ms/step - loss: 2481530.5000 - mean_absolute_error: 2481530.5000 - val_loss: 4977747.0000 - val_mean_absolute_error: 4977747.0000\n",
      "Epoch 49/250\n",
      "4342/4342 [==============================] - 5s 1ms/step - loss: 2443390.5000 - mean_absolute_error: 2443390.5000 - val_loss: 3624907.5000 - val_mean_absolute_error: 3624907.5000\n",
      "Epoch 50/250\n",
      "4342/4342 [==============================] - 5s 1ms/step - loss: 2449487.2500 - mean_absolute_error: 2449487.2500 - val_loss: 4245215.0000 - val_mean_absolute_error: 4245215.0000\n",
      "Epoch 51/250\n",
      "4342/4342 [==============================] - 5s 1ms/step - loss: 2385855.5000 - mean_absolute_error: 2385855.5000 - val_loss: 3613907.0000 - val_mean_absolute_error: 3613907.0000\n",
      "Epoch 52/250\n",
      "4342/4342 [==============================] - 5s 1ms/step - loss: 2372681.0000 - mean_absolute_error: 2372681.0000 - val_loss: 4400237.5000 - val_mean_absolute_error: 4400237.5000\n",
      "Epoch 53/250\n",
      "4342/4342 [==============================] - 5s 1ms/step - loss: 2354566.0000 - mean_absolute_error: 2354566.0000 - val_loss: 3814123.5000 - val_mean_absolute_error: 3814123.5000\n",
      "Epoch 54/250\n",
      "4342/4342 [==============================] - 5s 1ms/step - loss: 2306131.2500 - mean_absolute_error: 2306131.2500 - val_loss: 3873110.7500 - val_mean_absolute_error: 3873110.7500\n",
      "Epoch 55/250\n",
      "4342/4342 [==============================] - 5s 1ms/step - loss: 2294940.2500 - mean_absolute_error: 2294940.2500 - val_loss: 4219481.0000 - val_mean_absolute_error: 4219481.0000\n",
      "Epoch 56/250\n",
      "4342/4342 [==============================] - 5s 1ms/step - loss: 2339034.5000 - mean_absolute_error: 2339034.5000 - val_loss: 4023826.7500 - val_mean_absolute_error: 4023826.7500\n",
      "Epoch 57/250\n",
      "4342/4342 [==============================] - 5s 1ms/step - loss: 2293953.5000 - mean_absolute_error: 2293953.5000 - val_loss: 3424391.5000 - val_mean_absolute_error: 3424391.5000\n",
      "Epoch 58/250\n",
      "4342/4342 [==============================] - 5s 1ms/step - loss: 2268403.2500 - mean_absolute_error: 2268403.2500 - val_loss: 3629334.7500 - val_mean_absolute_error: 3629334.7500\n",
      "Epoch 59/250\n",
      "4342/4342 [==============================] - 5s 1ms/step - loss: 2254502.0000 - mean_absolute_error: 2254502.0000 - val_loss: 3555253.5000 - val_mean_absolute_error: 3555253.5000\n",
      "Epoch 60/250\n",
      "4342/4342 [==============================] - 5s 1ms/step - loss: 2209607.7500 - mean_absolute_error: 2209607.7500 - val_loss: 3639234.2500 - val_mean_absolute_error: 3639234.2500\n",
      "Epoch 61/250\n",
      "4342/4342 [==============================] - 5s 1ms/step - loss: 2204736.2500 - mean_absolute_error: 2204736.2500 - val_loss: 3600771.5000 - val_mean_absolute_error: 3600771.5000\n",
      "Epoch 62/250\n",
      "4342/4342 [==============================] - 5s 1ms/step - loss: 2145364.0000 - mean_absolute_error: 2145364.0000 - val_loss: 3610428.0000 - val_mean_absolute_error: 3610428.0000\n",
      "Epoch 63/250\n",
      "4342/4342 [==============================] - 5s 1ms/step - loss: 2166364.7500 - mean_absolute_error: 2166364.7500 - val_loss: 3698116.7500 - val_mean_absolute_error: 3698116.7500\n",
      "Epoch 64/250\n",
      "4342/4342 [==============================] - 5s 1ms/step - loss: 2191792.0000 - mean_absolute_error: 2191792.0000 - val_loss: 4267551.5000 - val_mean_absolute_error: 4267551.5000\n",
      "Epoch 65/250\n",
      "4342/4342 [==============================] - 5s 1ms/step - loss: 2179783.5000 - mean_absolute_error: 2179783.5000 - val_loss: 3315536.2500 - val_mean_absolute_error: 3315536.2500\n",
      "Epoch 66/250\n",
      "4342/4342 [==============================] - 5s 1ms/step - loss: 2127783.2500 - mean_absolute_error: 2127783.2500 - val_loss: 3236881.5000 - val_mean_absolute_error: 3236881.5000\n",
      "Epoch 67/250\n",
      "4342/4342 [==============================] - 5s 1ms/step - loss: 2101239.2500 - mean_absolute_error: 2101239.2500 - val_loss: 4065905.0000 - val_mean_absolute_error: 4065905.0000\n",
      "Epoch 68/250\n",
      "4342/4342 [==============================] - 5s 1ms/step - loss: 2067174.3750 - mean_absolute_error: 2067174.3750 - val_loss: 3460445.0000 - val_mean_absolute_error: 3460445.0000\n",
      "Epoch 69/250\n",
      "4342/4342 [==============================] - 5s 1ms/step - loss: 2085304.7500 - mean_absolute_error: 2085304.7500 - val_loss: 3356483.5000 - val_mean_absolute_error: 3356483.5000\n",
      "Epoch 70/250\n",
      "4342/4342 [==============================] - 5s 1ms/step - loss: 2051031.8750 - mean_absolute_error: 2051031.8750 - val_loss: 3762511.7500 - val_mean_absolute_error: 3762511.7500\n",
      "Epoch 71/250\n",
      "4342/4342 [==============================] - 5s 1ms/step - loss: 2084557.0000 - mean_absolute_error: 2084557.0000 - val_loss: 3632613.0000 - val_mean_absolute_error: 3632613.0000\n",
      "Epoch 72/250\n",
      "4342/4342 [==============================] - 5s 1ms/step - loss: 2048118.3750 - mean_absolute_error: 2048118.3750 - val_loss: 3626704.2500 - val_mean_absolute_error: 3626704.2500\n",
      "Epoch 73/250\n",
      "4342/4342 [==============================] - 5s 1ms/step - loss: 2058498.5000 - mean_absolute_error: 2058498.5000 - val_loss: 3451145.0000 - val_mean_absolute_error: 3451145.0000\n",
      "Epoch 74/250\n",
      "4342/4342 [==============================] - 5s 1ms/step - loss: 2013358.7500 - mean_absolute_error: 2013358.7500 - val_loss: 3173523.5000 - val_mean_absolute_error: 3173523.5000\n",
      "Epoch 75/250\n",
      "4342/4342 [==============================] - 5s 1ms/step - loss: 2004751.6250 - mean_absolute_error: 2004751.6250 - val_loss: 3741592.7500 - val_mean_absolute_error: 3741592.7500\n",
      "Epoch 76/250\n",
      "4342/4342 [==============================] - 5s 1ms/step - loss: 1986195.6250 - mean_absolute_error: 1986195.6250 - val_loss: 3341222.0000 - val_mean_absolute_error: 3341222.0000\n",
      "Epoch 77/250\n",
      "4342/4342 [==============================] - 5s 1ms/step - loss: 1986146.3750 - mean_absolute_error: 1986146.3750 - val_loss: 3685074.0000 - val_mean_absolute_error: 3685074.0000\n",
      "Epoch 78/250\n",
      "4342/4342 [==============================] - 5s 1ms/step - loss: 1941974.3750 - mean_absolute_error: 1941974.3750 - val_loss: 3606083.5000 - val_mean_absolute_error: 3606083.5000\n",
      "Epoch 79/250\n",
      "4342/4342 [==============================] - 5s 1ms/step - loss: 1923295.3750 - mean_absolute_error: 1923295.3750 - val_loss: 3493475.0000 - val_mean_absolute_error: 3493475.0000\n",
      "Epoch 80/250\n",
      "4342/4342 [==============================] - 5s 1ms/step - loss: 1966570.3750 - mean_absolute_error: 1966570.3750 - val_loss: 3425330.0000 - val_mean_absolute_error: 3425330.0000\n",
      "Epoch 81/250\n",
      "4342/4342 [==============================] - 4s 1ms/step - loss: 1905852.6250 - mean_absolute_error: 1905852.6250 - val_loss: 3168269.7500 - val_mean_absolute_error: 3168269.7500\n",
      "Epoch 82/250\n",
      "4342/4342 [==============================] - 5s 1ms/step - loss: 1953617.3750 - mean_absolute_error: 1953617.3750 - val_loss: 3606305.0000 - val_mean_absolute_error: 3606305.0000\n",
      "Epoch 83/250\n",
      "4342/4342 [==============================] - 5s 1ms/step - loss: 1899527.3750 - mean_absolute_error: 1899527.3750 - val_loss: 3347784.0000 - val_mean_absolute_error: 3347784.0000\n",
      "Epoch 84/250\n",
      "4342/4342 [==============================] - 5s 1ms/step - loss: 1917330.5000 - mean_absolute_error: 1917330.5000 - val_loss: 3551565.0000 - val_mean_absolute_error: 3551565.0000\n",
      "Epoch 85/250\n",
      "4342/4342 [==============================] - 5s 1ms/step - loss: 1898194.6250 - mean_absolute_error: 1898194.6250 - val_loss: 3800260.7500 - val_mean_absolute_error: 3800260.7500\n",
      "Epoch 86/250\n",
      "4342/4342 [==============================] - 5s 1ms/step - loss: 1874452.7500 - mean_absolute_error: 1874452.7500 - val_loss: 3326361.2500 - val_mean_absolute_error: 3326361.2500\n"
     ]
    },
    {
     "name": "stdout",
     "output_type": "stream",
     "text": [
      "Epoch 87/250\n",
      "4342/4342 [==============================] - 5s 1ms/step - loss: 1905715.3750 - mean_absolute_error: 1905715.3750 - val_loss: 3493672.0000 - val_mean_absolute_error: 3493672.0000\n",
      "Epoch 88/250\n",
      "4342/4342 [==============================] - 5s 1ms/step - loss: 1866300.7500 - mean_absolute_error: 1866300.7500 - val_loss: 3851218.0000 - val_mean_absolute_error: 3851218.0000\n",
      "Epoch 89/250\n",
      "4342/4342 [==============================] - 5s 1ms/step - loss: 1801010.3750 - mean_absolute_error: 1801010.3750 - val_loss: 3258476.2500 - val_mean_absolute_error: 3258476.2500\n",
      "Epoch 90/250\n",
      "4342/4342 [==============================] - 5s 1ms/step - loss: 1881981.5000 - mean_absolute_error: 1881981.5000 - val_loss: 3224924.7500 - val_mean_absolute_error: 3224924.7500\n",
      "Epoch 91/250\n",
      "4342/4342 [==============================] - 5s 1ms/step - loss: 1826134.1250 - mean_absolute_error: 1826134.1250 - val_loss: 3266074.0000 - val_mean_absolute_error: 3266074.0000\n",
      "Epoch 92/250\n",
      "4342/4342 [==============================] - 5s 1ms/step - loss: 1832646.8750 - mean_absolute_error: 1832646.8750 - val_loss: 3346551.2500 - val_mean_absolute_error: 3346551.2500\n",
      "Epoch 93/250\n",
      "4342/4342 [==============================] - 5s 1ms/step - loss: 1811526.8750 - mean_absolute_error: 1811526.8750 - val_loss: 3514789.7500 - val_mean_absolute_error: 3514789.7500\n",
      "Epoch 94/250\n",
      "4342/4342 [==============================] - 5s 1ms/step - loss: 1789749.3750 - mean_absolute_error: 1789749.3750 - val_loss: 3355863.2500 - val_mean_absolute_error: 3355863.2500\n",
      "Epoch 95/250\n",
      "4342/4342 [==============================] - 5s 1ms/step - loss: 1802518.7500 - mean_absolute_error: 1802518.7500 - val_loss: 3662657.7500 - val_mean_absolute_error: 3662657.7500\n",
      "Epoch 96/250\n",
      "4342/4342 [==============================] - 5s 1ms/step - loss: 1780547.1250 - mean_absolute_error: 1780547.1250 - val_loss: 3212217.2500 - val_mean_absolute_error: 3212217.2500\n",
      "Epoch 97/250\n",
      "4342/4342 [==============================] - 5s 1ms/step - loss: 1792364.7500 - mean_absolute_error: 1792364.7500 - val_loss: 3301313.7500 - val_mean_absolute_error: 3301313.7500\n",
      "Epoch 98/250\n",
      "4342/4342 [==============================] - 5s 1ms/step - loss: 1778494.6250 - mean_absolute_error: 1778494.6250 - val_loss: 3918812.0000 - val_mean_absolute_error: 3918812.0000\n",
      "Epoch 99/250\n",
      "4342/4342 [==============================] - 5s 1ms/step - loss: 1748251.7500 - mean_absolute_error: 1748251.7500 - val_loss: 3361191.2500 - val_mean_absolute_error: 3361191.2500\n",
      "Epoch 100/250\n",
      "4342/4342 [==============================] - 5s 1ms/step - loss: 1721478.0000 - mean_absolute_error: 1721478.0000 - val_loss: 3299460.0000 - val_mean_absolute_error: 3299460.0000\n",
      "Epoch 101/250\n",
      "4342/4342 [==============================] - 5s 1ms/step - loss: 1731122.8750 - mean_absolute_error: 1731122.8750 - val_loss: 3277207.7500 - val_mean_absolute_error: 3277207.7500\n"
     ]
    },
    {
     "data": {
      "text/plain": [
       "<tensorflow.python.keras.callbacks.History at 0x249466776d0>"
      ]
     },
     "execution_count": 6,
     "metadata": {},
     "output_type": "execute_result"
    }
   ],
   "source": [
    "#Model fit\n",
    "NN_model.fit(X_train, y_train, epochs=250, batch_size=1, validation_split = 0.02 , callbacks=callbacks_list )"
   ]
  },
  {
   "cell_type": "code",
   "execution_count": 7,
   "metadata": {},
   "outputs": [],
   "source": [
    "#Saving the model for Ensembling\n",
    "filename = 'model_F7T2.h5'\n",
    "NN_model.save(filename)"
   ]
  },
  {
   "cell_type": "code",
   "execution_count": 8,
   "metadata": {},
   "outputs": [],
   "source": [
    "def plotfig (ypred, yactual, strtitle, y_max):\n",
    "    plt.scatter(ypred, yactual.values.ravel())\n",
    "    plt.title(strtitle)\n",
    "    plt.plot([(0, 0), (y_max, y_max)], [(0, 0), (y_max, y_max)])\n",
    "    plt.xlim(0, y_max)\n",
    "    plt.ylim(0, y_max)\n",
    "    plt.xlabel('Predicted', fontsize=12)\n",
    "    plt.ylabel('Actual', fontsize=12)\n",
    "    plt.show()"
   ]
  },
  {
   "cell_type": "code",
   "execution_count": 9,
   "metadata": {},
   "outputs": [
    {
     "data": {
      "image/png": "[encoded data removed]",
      "text/plain": [
       "<Figure size 432x288 with 1 Axes>"
      ]
     },
     "metadata": {
      "needs_background": "light"
     },
     "output_type": "display_data"
    }
   ],
   "source": [
    "##Best fit line for Training data \n",
    "plotfig(NN_model.predict(X_train), y_train, 'Predicted vs. Actual responses for MLP', max(y_train) + 0.1*max(y_train))"
   ]
  },
  {
   "cell_type": "code",
   "execution_count": 10,
   "metadata": {},
   "outputs": [],
   "source": [
    "#Importing the test data\n",
    "pickle_in = open(\"X_test_T2.pickle\",\"rb\")\n",
    "X_test = pickle.load(pickle_in)"
   ]
  },
  {
   "cell_type": "code",
   "execution_count": 11,
   "metadata": {},
   "outputs": [
    {
     "name": "stdout",
     "output_type": "stream",
     "text": [
      "[[14225621.]\n",
      " [42368864.]\n",
      " [24152962.]\n",
      " ...\n",
      " [18578660.]\n",
      " [37888024.]\n",
      " [26914348.]]\n"
     ]
    }
   ],
   "source": [
    "predictions = NN_model.predict(X_test)\n",
    "print(predictions)"
   ]
  },
  {
   "cell_type": "code",
   "execution_count": 12,
   "metadata": {},
   "outputs": [
    {
     "data": {
      "text/plain": [
       "(4520, 1)"
      ]
     },
     "execution_count": 12,
     "metadata": {},
     "output_type": "execute_result"
    }
   ],
   "source": [
    "predictions.shape"
   ]
  },
  {
   "cell_type": "code",
   "execution_count": 13,
   "metadata": {},
   "outputs": [],
   "source": [
    "testsub =  pd.read_csv('C:/Datasets/predict-volcanic-eruptions-ingv-oe/sample_submission.csv')"
   ]
  },
  {
   "cell_type": "code",
   "execution_count": 14,
   "metadata": {},
   "outputs": [],
   "source": [
    "#Creating Submission file to kaggle\n",
    "submission = pd.DataFrame()\n",
    "submission['segment_id'] = testsub['segment_id']\n",
    "submission['time_to_eruption'] = predictions\n",
    "submission.to_csv('submission_MLP_121320_F7T2.csv', header=True, index=False)"
   ]
  }
 ],
 "metadata": {
  "kernelspec": {
   "display_name": "Python 3",
   "language": "python",
   "name": "python3"
  },
  "language_info": {
   "codemirror_mode": {
    "name": "ipython",
    "version": 3
   },
   "file_extension": ".py",
   "mimetype": "text/x-python",
   "name": "python",
   "nbconvert_exporter": "python",
   "pygments_lexer": "ipython3",
   "version": "3.8.5"
  }
 },
 "nbformat": 4,
 "nbformat_minor": 4
}
