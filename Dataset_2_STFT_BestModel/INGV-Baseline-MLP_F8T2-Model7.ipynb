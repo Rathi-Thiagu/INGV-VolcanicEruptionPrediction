{
 "cells": [
  {
   "cell_type": "markdown",
   "metadata": {},
   "source": [
    "### MLP Model 7(400-256-100-1) using STFT Dataset"
   ]
  },
  {
   "cell_type": "code",
   "execution_count": 1,
   "metadata": {},
   "outputs": [],
   "source": [
    "#Importing essential libraries\n",
    "from sklearn.datasets import fetch_openml\n",
    "\n",
    "import numpy as np\n",
    "import matplotlib.pyplot as plt\n",
    "%matplotlib inline\n",
    "import os \n",
    "import cv2\n",
    "import random \n",
    "import math\n",
    "import pandas as pd\n",
    "\n",
    "from datetime import datetime\n",
    "\n",
    "from sklearn import metrics\n",
    "from sklearn.metrics import accuracy_score \n",
    "from sklearn.metrics import classification_report\n",
    "from sklearn.metrics import confusion_matrix\n",
    "from tensorflow.keras.callbacks import ModelCheckpoint\n",
    "from tensorflow.keras.models import Sequential\n",
    "from tensorflow.keras.layers import Dense, Activation, Flatten\n",
    "\n",
    "from sklearn.preprocessing import StandardScaler\n",
    "from sklearn.model_selection import train_test_split\n",
    "from sklearn.model_selection import cross_val_score\n",
    "from sklearn.model_selection import cross_val_predict\n",
    "from sklearn.model_selection import GridSearchCV, RandomizedSearchCV\n",
    "from sklearn.model_selection import KFold\n",
    "from sklearn.model_selection import StratifiedKFold\n",
    "\n",
    "from tensorflow.keras.models import Sequential, model_from_json\n",
    "from tensorflow.keras import layers\n",
    "from tensorflow.keras.layers import Conv1D,Conv2D,MaxPooling1D,Flatten,Dense,Dropout,BatchNormalization, GRU, LSTM, RNN\n",
    "from tensorflow.keras import regularizers as reg\n",
    "\n",
    "import tensorflow as tf\n",
    "from tensorflow import keras\n",
    "import pickle"
   ]
  },
  {
   "cell_type": "code",
   "execution_count": 3,
   "metadata": {},
   "outputs": [],
   "source": [
    "# Importing the Training data from pickle file \n",
    "pickle_in = open(\"C:/Users/Rathi/ml/EE258_Proj-II/X_train_T2.pickle\",\"rb\")\n",
    "X_train = pickle.load(pickle_in)\n",
    "\n",
    "pickle_in = open(\"C:/Users/Rathi/ml/EE258_Proj-II/y_train_T2.pickle\",\"rb\")\n",
    "y_train = pickle.load(pickle_in)\n"
   ]
  },
  {
   "cell_type": "code",
   "execution_count": 4,
   "metadata": {},
   "outputs": [
    {
     "name": "stdout",
     "output_type": "stream",
     "text": [
      "X_train : (4431, 100)\n",
      "y_train : (4431,)\n"
     ]
    }
   ],
   "source": [
    "print('X_train :', X_train.shape)\n",
    "print('y_train :', y_train.shape)"
   ]
  },
  {
   "cell_type": "code",
   "execution_count": 5,
   "metadata": {},
   "outputs": [],
   "source": [
    "X_train=X_train.replace([np.inf, -np.inf, np.nan], 0)"
   ]
  },
  {
   "cell_type": "code",
   "execution_count": null,
   "metadata": {},
   "outputs": [],
   "source": [
    "# from sklearn.preprocessing import MinMaxScaler\n",
    "# scaler = MinMaxScaler()\n",
    "# X_train=scaler.fit_transform(X_train)\n",
    "# X_test=scaler.transform(X_test)"
   ]
  },
  {
   "cell_type": "code",
   "execution_count": 6,
   "metadata": {},
   "outputs": [
    {
     "name": "stdout",
     "output_type": "stream",
     "text": [
      "Model: \"sequential\"\n",
      "_________________________________________________________________\n",
      "Layer (type)                 Output Shape              Param #   \n",
      "=================================================================\n",
      "dense (Dense)                (None, 400)               40400     \n",
      "_________________________________________________________________\n",
      "dense_1 (Dense)              (None, 256)               102656    \n",
      "_________________________________________________________________\n",
      "dense_2 (Dense)              (None, 100)               25700     \n",
      "_________________________________________________________________\n",
      "dense_3 (Dense)              (None, 1)                 101       \n",
      "=================================================================\n",
      "Total params: 168,857\n",
      "Trainable params: 168,857\n",
      "Non-trainable params: 0\n",
      "_________________________________________________________________\n"
     ]
    }
   ],
   "source": [
    "#In Model 6 we increased the no of neurons in the first hidden layer \n",
    "from tensorflow.keras.optimizers import SGD\n",
    "from tensorflow.keras.callbacks import EarlyStopping\n",
    "from tensorflow.keras import regularizers\n",
    "NN_model = Sequential()\n",
    "#kernel_regularizer = regularizers.l1_l2(l1=0.0001 , l2=0.0001)\n",
    "#bias_regularizer=regularizers.l2(0.001)\n",
    "\n",
    "# The Input Layer :\n",
    "NN_model.add(Dense(400,input_dim = X_train.shape[1], activation='relu'))\n",
    "\n",
    "# The Hidden Layers :\n",
    "NN_model.add(Dense(256,activation='relu'))\n",
    "NN_model.add(Dense(100,activation='relu'))\n",
    "\n",
    "# The Output Layer :\n",
    "NN_model.add(Dense(1,activation='linear'))\n",
    "\n",
    "# Compile the network :\n",
    "#sgd = SGD(learning_rate=0.001)\n",
    "opt = keras.optimizers.Adam(learning_rate=0.001)\n",
    "NN_model.compile(loss='mean_absolute_error', optimizer=opt, metrics=['mean_absolute_error'])\n",
    "NN_model.summary()\n",
    "early_stopping_monitor = EarlyStopping(patience=20)\n",
    "callbacks_list = [early_stopping_monitor]"
   ]
  },
  {
   "cell_type": "code",
   "execution_count": 7,
   "metadata": {},
   "outputs": [
    {
     "name": "stdout",
     "output_type": "stream",
     "text": [
      "Epoch 1/100\n",
      "4431/4431 [==============================] - 5s 1ms/step - loss: 10426110.0000 - mean_absolute_error: 10426110.0000\n",
      "Epoch 2/100\n",
      "4431/4431 [==============================] - 5s 1ms/step - loss: 7687050.0000 - mean_absolute_error: 7687050.0000\n",
      "Epoch 3/100\n",
      "4431/4431 [==============================] - 5s 1ms/step - loss: 6895045.5000 - mean_absolute_error: 6895045.5000\n",
      "Epoch 4/100\n",
      "4431/4431 [==============================] - 6s 1ms/step - loss: 6349273.0000 - mean_absolute_error: 6349273.0000\n",
      "Epoch 5/100\n",
      "4431/4431 [==============================] - 5s 1ms/step - loss: 5826159.0000 - mean_absolute_error: 5826159.0000\n",
      "Epoch 6/100\n",
      "4431/4431 [==============================] - 5s 1ms/step - loss: 5600163.0000 - mean_absolute_error: 5600163.0000\n",
      "Epoch 7/100\n",
      "4431/4431 [==============================] - 5s 1ms/step - loss: 5283145.5000 - mean_absolute_error: 5283145.5000\n",
      "Epoch 8/100\n",
      "4431/4431 [==============================] - 5s 1ms/step - loss: 5134981.0000 - mean_absolute_error: 5134981.0000\n",
      "Epoch 9/100\n",
      "4431/4431 [==============================] - 5s 1ms/step - loss: 4918352.5000 - mean_absolute_error: 4918352.5000\n",
      "Epoch 10/100\n",
      "4431/4431 [==============================] - 5s 1ms/step - loss: 4804178.0000 - mean_absolute_error: 4804178.0000\n",
      "Epoch 11/100\n",
      "4431/4431 [==============================] - 5s 1ms/step - loss: 4566496.5000 - mean_absolute_error: 4566496.5000\n",
      "Epoch 12/100\n",
      "4431/4431 [==============================] - 5s 1ms/step - loss: 4496530.5000 - mean_absolute_error: 4496530.5000\n",
      "Epoch 13/100\n",
      "4431/4431 [==============================] - 5s 1ms/step - loss: 4241794.5000 - mean_absolute_error: 4241794.5000\n",
      "Epoch 14/100\n",
      "4431/4431 [==============================] - 5s 1ms/step - loss: 4226648.5000 - mean_absolute_error: 4226648.5000\n",
      "Epoch 15/100\n",
      "4431/4431 [==============================] - 5s 1ms/step - loss: 4131940.0000 - mean_absolute_error: 4131940.0000\n",
      "Epoch 16/100\n",
      "4431/4431 [==============================] - 5s 1ms/step - loss: 4004575.7500 - mean_absolute_error: 4004575.7500\n",
      "Epoch 17/100\n",
      "4431/4431 [==============================] - 5s 1ms/step - loss: 3896600.7500 - mean_absolute_error: 3896600.7500\n",
      "Epoch 18/100\n",
      "4431/4431 [==============================] - 5s 1ms/step - loss: 3786025.5000 - mean_absolute_error: 3786025.5000\n",
      "Epoch 19/100\n",
      "4431/4431 [==============================] - 5s 1ms/step - loss: 3733638.2500 - mean_absolute_error: 3733638.2500\n",
      "Epoch 20/100\n",
      "4431/4431 [==============================] - 4s 1ms/step - loss: 3563504.7500 - mean_absolute_error: 3563504.7500\n",
      "Epoch 21/100\n",
      "4431/4431 [==============================] - 5s 1ms/step - loss: 3540708.5000 - mean_absolute_error: 3540708.5000\n",
      "Epoch 22/100\n",
      "4431/4431 [==============================] - 5s 1ms/step - loss: 3506404.0000 - mean_absolute_error: 3506404.0000\n",
      "Epoch 23/100\n",
      "4431/4431 [==============================] - 5s 1ms/step - loss: 3359151.5000 - mean_absolute_error: 3359151.5000\n",
      "Epoch 24/100\n",
      "4431/4431 [==============================] - 5s 1ms/step - loss: 3291260.2500 - mean_absolute_error: 3291260.2500\n",
      "Epoch 25/100\n",
      "4431/4431 [==============================] - 5s 1ms/step - loss: 3311396.7500 - mean_absolute_error: 3311396.7500\n",
      "Epoch 26/100\n",
      "4431/4431 [==============================] - 5s 1ms/step - loss: 3233200.2500 - mean_absolute_error: 3233200.2500\n",
      "Epoch 27/100\n",
      "4431/4431 [==============================] - 5s 1ms/step - loss: 3200831.5000 - mean_absolute_error: 3200831.5000\n",
      "Epoch 28/100\n",
      "4431/4431 [==============================] - 5s 1ms/step - loss: 3125519.7500 - mean_absolute_error: 3125519.7500\n",
      "Epoch 29/100\n",
      "4431/4431 [==============================] - 7s 2ms/step - loss: 3087437.5000 - mean_absolute_error: 3087437.5000\n",
      "Epoch 30/100\n",
      "4431/4431 [==============================] - 6s 1ms/step - loss: 3034906.0000 - mean_absolute_error: 3034906.0000\n",
      "Epoch 31/100\n",
      "4431/4431 [==============================] - 6s 1ms/step - loss: 2995876.2500 - mean_absolute_error: 2995876.2500\n",
      "Epoch 32/100\n",
      "4431/4431 [==============================] - 5s 1ms/step - loss: 2917625.2500 - mean_absolute_error: 2917625.2500\n",
      "Epoch 33/100\n",
      "4431/4431 [==============================] - 5s 1ms/step - loss: 2932464.2500 - mean_absolute_error: 2932464.2500\n",
      "Epoch 34/100\n",
      "4431/4431 [==============================] - 5s 1ms/step - loss: 2908587.7500 - mean_absolute_error: 2908587.7500\n",
      "Epoch 35/100\n",
      "4431/4431 [==============================] - 5s 1ms/step - loss: 2886092.0000 - mean_absolute_error: 2886092.0000\n",
      "Epoch 36/100\n",
      "4431/4431 [==============================] - 5s 1ms/step - loss: 2809386.2500 - mean_absolute_error: 2809386.2500\n",
      "Epoch 37/100\n",
      "4431/4431 [==============================] - 5s 1ms/step - loss: 2881373.2500 - mean_absolute_error: 2881373.2500\n",
      "Epoch 38/100\n",
      "4431/4431 [==============================] - 5s 1ms/step - loss: 2786515.0000 - mean_absolute_error: 2786515.0000\n",
      "Epoch 39/100\n",
      "4431/4431 [==============================] - 5s 1ms/step - loss: 2745362.2500 - mean_absolute_error: 2745362.2500\n",
      "Epoch 40/100\n",
      "4431/4431 [==============================] - 5s 1ms/step - loss: 2676091.5000 - mean_absolute_error: 2676091.5000\n",
      "Epoch 41/100\n",
      "4431/4431 [==============================] - 5s 1ms/step - loss: 2634275.2500 - mean_absolute_error: 2634275.2500\n",
      "Epoch 42/100\n",
      "4431/4431 [==============================] - 5s 1ms/step - loss: 2635666.5000 - mean_absolute_error: 2635666.5000\n",
      "Epoch 43/100\n",
      "4431/4431 [==============================] - 5s 1ms/step - loss: 2650632.2500 - mean_absolute_error: 2650632.2500\n",
      "Epoch 44/100\n",
      "4431/4431 [==============================] - 5s 1ms/step - loss: 2599562.7500 - mean_absolute_error: 2599562.7500\n",
      "Epoch 45/100\n",
      "4431/4431 [==============================] - 5s 1ms/step - loss: 2598252.2500 - mean_absolute_error: 2598252.2500\n",
      "Epoch 46/100\n",
      "4431/4431 [==============================] - 5s 1ms/step - loss: 2528329.0000 - mean_absolute_error: 2528329.0000\n",
      "Epoch 47/100\n",
      "4431/4431 [==============================] - 5s 1ms/step - loss: 2512069.5000 - mean_absolute_error: 2512069.5000\n",
      "Epoch 48/100\n",
      "4431/4431 [==============================] - 5s 1ms/step - loss: 2485658.2500 - mean_absolute_error: 2485658.2500\n",
      "Epoch 49/100\n",
      "4431/4431 [==============================] - 5s 1ms/step - loss: 2464285.0000 - mean_absolute_error: 2464285.0000\n",
      "Epoch 50/100\n",
      "4431/4431 [==============================] - 5s 1ms/step - loss: 2474769.0000 - mean_absolute_error: 2474769.0000\n",
      "Epoch 51/100\n",
      "4431/4431 [==============================] - 5s 1ms/step - loss: 2412046.0000 - mean_absolute_error: 2412046.0000\n",
      "Epoch 52/100\n",
      "4431/4431 [==============================] - 5s 1ms/step - loss: 2401131.7500 - mean_absolute_error: 2401131.7500\n",
      "Epoch 53/100\n",
      "4431/4431 [==============================] - 5s 1ms/step - loss: 2386972.7500 - mean_absolute_error: 2386972.7500\n",
      "Epoch 54/100\n",
      "4431/4431 [==============================] - 5s 1ms/step - loss: 2372662.0000 - mean_absolute_error: 2372662.0000\n",
      "Epoch 55/100\n",
      "4431/4431 [==============================] - 5s 1ms/step - loss: 2358537.5000 - mean_absolute_error: 2358537.5000\n",
      "Epoch 56/100\n",
      "4431/4431 [==============================] - 5s 1ms/step - loss: 2341363.2500 - mean_absolute_error: 2341363.2500\n",
      "Epoch 57/100\n",
      "4431/4431 [==============================] - 5s 1ms/step - loss: 2311834.2500 - mean_absolute_error: 2311834.2500\n",
      "Epoch 58/100\n",
      "4431/4431 [==============================] - 5s 1ms/step - loss: 2286082.5000 - mean_absolute_error: 2286082.5000\n",
      "Epoch 59/100\n",
      "4431/4431 [==============================] - 5s 1ms/step - loss: 2248575.2500 - mean_absolute_error: 2248575.2500\n",
      "Epoch 60/100\n",
      "4431/4431 [==============================] - 5s 1ms/step - loss: 2273216.7500 - mean_absolute_error: 2273216.7500\n",
      "Epoch 61/100\n",
      "4431/4431 [==============================] - 5s 1ms/step - loss: 2241418.2500 - mean_absolute_error: 2241418.2500\n",
      "Epoch 62/100\n",
      "4431/4431 [==============================] - 5s 1ms/step - loss: 2225338.5000 - mean_absolute_error: 2225338.5000\n",
      "Epoch 63/100\n",
      "4431/4431 [==============================] - 5s 1ms/step - loss: 2197059.2500 - mean_absolute_error: 2197059.2500\n",
      "Epoch 64/100\n",
      "4431/4431 [==============================] - 5s 1ms/step - loss: 2205292.7500 - mean_absolute_error: 2205292.7500\n",
      "Epoch 65/100\n"
     ]
    },
    {
     "name": "stdout",
     "output_type": "stream",
     "text": [
      "4431/4431 [==============================] - 5s 1ms/step - loss: 2176148.7500 - mean_absolute_error: 2176148.7500\n",
      "Epoch 66/100\n",
      "4431/4431 [==============================] - 5s 1ms/step - loss: 2178058.7500 - mean_absolute_error: 2178058.7500\n",
      "Epoch 67/100\n",
      "4431/4431 [==============================] - ETA: 0s - loss: 2152416.2500 - mean_absolute_error: 2152416.250 - 5s 1ms/step - loss: 2151355.7500 - mean_absolute_error: 2151355.7500\n",
      "Epoch 68/100\n",
      "4431/4431 [==============================] - 5s 1ms/step - loss: 2104122.7500 - mean_absolute_error: 2104122.7500\n",
      "Epoch 69/100\n",
      "4431/4431 [==============================] - 5s 1ms/step - loss: 2131356.2500 - mean_absolute_error: 2131356.2500\n",
      "Epoch 70/100\n",
      "4431/4431 [==============================] - 5s 1ms/step - loss: 2142219.7500 - mean_absolute_error: 2142219.7500\n",
      "Epoch 71/100\n",
      "4431/4431 [==============================] - 5s 1ms/step - loss: 2091367.1250 - mean_absolute_error: 2091367.1250\n",
      "Epoch 72/100\n",
      "4431/4431 [==============================] - 5s 1ms/step - loss: 2081819.2500 - mean_absolute_error: 2081819.2500\n",
      "Epoch 73/100\n",
      "4431/4431 [==============================] - 5s 1ms/step - loss: 2063793.1250 - mean_absolute_error: 2063793.1250\n",
      "Epoch 74/100\n",
      "4431/4431 [==============================] - 5s 1ms/step - loss: 2085440.3750 - mean_absolute_error: 2085440.3750\n",
      "Epoch 75/100\n",
      "4431/4431 [==============================] - 5s 1ms/step - loss: 2055661.6250 - mean_absolute_error: 2055661.6250\n",
      "Epoch 76/100\n",
      "4431/4431 [==============================] - 5s 1ms/step - loss: 2022031.3750 - mean_absolute_error: 2022031.3750\n",
      "Epoch 77/100\n",
      "4431/4431 [==============================] - 5s 1ms/step - loss: 2041383.6250 - mean_absolute_error: 2041383.6250\n",
      "Epoch 78/100\n",
      "4431/4431 [==============================] - 5s 1ms/step - loss: 2046220.1250 - mean_absolute_error: 2046220.1250\n",
      "Epoch 79/100\n",
      "4431/4431 [==============================] - 5s 1ms/step - loss: 2021685.6250 - mean_absolute_error: 2021685.6250\n",
      "Epoch 80/100\n",
      "4431/4431 [==============================] - 5s 1ms/step - loss: 1978173.3750 - mean_absolute_error: 1978173.3750\n",
      "Epoch 81/100\n",
      "4431/4431 [==============================] - 5s 1ms/step - loss: 1980947.5000 - mean_absolute_error: 1980947.5000\n",
      "Epoch 82/100\n",
      "4431/4431 [==============================] - 5s 1ms/step - loss: 1989876.2500 - mean_absolute_error: 1989876.2500\n",
      "Epoch 83/100\n",
      "4431/4431 [==============================] - 5s 1ms/step - loss: 1969926.6250 - mean_absolute_error: 1969926.6250\n",
      "Epoch 84/100\n",
      "4431/4431 [==============================] - 5s 1ms/step - loss: 1934194.3750 - mean_absolute_error: 1934194.3750\n",
      "Epoch 85/100\n",
      "4431/4431 [==============================] - 5s 1ms/step - loss: 1950376.3750 - mean_absolute_error: 1950376.3750\n",
      "Epoch 86/100\n",
      "4431/4431 [==============================] - 5s 1ms/step - loss: 1911607.8750 - mean_absolute_error: 1911607.8750\n",
      "Epoch 87/100\n",
      "4431/4431 [==============================] - 5s 1ms/step - loss: 1932388.5000 - mean_absolute_error: 1932388.5000\n",
      "Epoch 88/100\n",
      "4431/4431 [==============================] - 5s 1ms/step - loss: 1921738.6250 - mean_absolute_error: 1921738.6250\n",
      "Epoch 89/100\n",
      "4431/4431 [==============================] - 5s 1ms/step - loss: 1889551.1250 - mean_absolute_error: 1889551.1250\n",
      "Epoch 90/100\n",
      "4431/4431 [==============================] - 5s 1ms/step - loss: 1894579.5000 - mean_absolute_error: 1894579.5000\n",
      "Epoch 91/100\n",
      "4431/4431 [==============================] - 5s 1ms/step - loss: 1918036.1250 - mean_absolute_error: 1918036.1250\n",
      "Epoch 92/100\n",
      "4431/4431 [==============================] - 5s 1ms/step - loss: 1887022.2500 - mean_absolute_error: 1887022.2500\n",
      "Epoch 93/100\n",
      "4431/4431 [==============================] - 5s 1ms/step - loss: 1871153.7500 - mean_absolute_error: 1871153.7500\n",
      "Epoch 94/100\n",
      "4431/4431 [==============================] - 5s 1ms/step - loss: 1824414.1250 - mean_absolute_error: 1824414.1250\n",
      "Epoch 95/100\n",
      "4431/4431 [==============================] - 5s 1ms/step - loss: 1849987.0000 - mean_absolute_error: 1849987.0000\n",
      "Epoch 96/100\n",
      "4431/4431 [==============================] - 5s 1ms/step - loss: 1847505.0000 - mean_absolute_error: 1847505.0000\n",
      "Epoch 97/100\n",
      "4431/4431 [==============================] - 5s 1ms/step - loss: 1820567.1250 - mean_absolute_error: 1820567.1250\n",
      "Epoch 98/100\n",
      "4431/4431 [==============================] - 5s 1ms/step - loss: 1836617.5000 - mean_absolute_error: 1836617.5000\n",
      "Epoch 99/100\n",
      "4431/4431 [==============================] - 5s 1ms/step - loss: 1791467.8750 - mean_absolute_error: 1791467.8750\n",
      "Epoch 100/100\n",
      "4431/4431 [==============================] - 5s 1ms/step - loss: 1755935.3750 - mean_absolute_error: 1755935.3750\n"
     ]
    },
    {
     "data": {
      "text/plain": [
       "<tensorflow.python.keras.callbacks.History at 0x1b4fb0d5490>"
      ]
     },
     "execution_count": 7,
     "metadata": {},
     "output_type": "execute_result"
    }
   ],
   "source": [
    "#Model fit\n",
    "#NN_model.fit(X_train, y_train, epochs=250, batch_size=1, validation_split = 0.02 , callbacks=callbacks_list )\n",
    "NN_model.fit(X_train, y_train, epochs=100, batch_size=1)"
   ]
  },
  {
   "cell_type": "code",
   "execution_count": 8,
   "metadata": {},
   "outputs": [],
   "source": [
    "#Saving the model for Ensembling\n",
    "filename = 'model_F8T2.h5'\n",
    "NN_model.save(filename)"
   ]
  },
  {
   "cell_type": "code",
   "execution_count": 9,
   "metadata": {},
   "outputs": [],
   "source": [
    "def plotfig (ypred, yactual, strtitle, y_max):\n",
    "    plt.scatter(ypred, yactual.values.ravel())\n",
    "    plt.title(strtitle)\n",
    "    plt.plot([(0, 0), (y_max, y_max)], [(0, 0), (y_max, y_max)])\n",
    "    plt.xlim(0, y_max)\n",
    "    plt.ylim(0, y_max)\n",
    "    plt.xlabel('Predicted', fontsize=12)\n",
    "    plt.ylabel('Actual', fontsize=12)\n",
    "    plt.show()"
   ]
  },
  {
   "cell_type": "code",
   "execution_count": 10,
   "metadata": {},
   "outputs": [
    {
     "data": {
      "image/png": "[encoded data removed]",
      "text/plain": [
       "<Figure size 432x288 with 1 Axes>"
      ]
     },
     "metadata": {
      "needs_background": "light"
     },
     "output_type": "display_data"
    }
   ],
   "source": [
    "##Best fit line for Training data \n",
    "plotfig(NN_model.predict(X_train), y_train, 'Predicted vs. Actual responses for MLP', max(y_train) + 0.1*max(y_train))"
   ]
  },
  {
   "cell_type": "code",
   "execution_count": 11,
   "metadata": {},
   "outputs": [],
   "source": [
    "#Importing the test data\n",
    "pickle_in = open(\"C:/Users/Rathi/ml/EE258_Proj-II/X_test_T2.pickle\",\"rb\")\n",
    "X_test = pickle.load(pickle_in)"
   ]
  },
  {
   "cell_type": "code",
   "execution_count": 12,
   "metadata": {},
   "outputs": [
    {
     "name": "stdout",
     "output_type": "stream",
     "text": [
      "[[13317388.]\n",
      " [42105110.]\n",
      " [27502922.]\n",
      " ...\n",
      " [19397004.]\n",
      " [41100908.]\n",
      " [29934242.]]\n"
     ]
    }
   ],
   "source": [
    "predictions = NN_model.predict(X_test)\n",
    "print(predictions)"
   ]
  },
  {
   "cell_type": "code",
   "execution_count": 12,
   "metadata": {},
   "outputs": [
    {
     "data": {
      "text/plain": [
       "(4520, 1)"
      ]
     },
     "execution_count": 12,
     "metadata": {},
     "output_type": "execute_result"
    }
   ],
   "source": [
    "predictions.shape"
   ]
  },
  {
   "cell_type": "code",
   "execution_count": 13,
   "metadata": {},
   "outputs": [],
   "source": [
    "testsub =  pd.read_csv('C:/Datasets/predict-volcanic-eruptions-ingv-oe/sample_submission.csv')"
   ]
  },
  {
   "cell_type": "code",
   "execution_count": 14,
   "metadata": {},
   "outputs": [],
   "source": [
    "#Creating Submission file to kaggle\n",
    "submission = pd.DataFrame()\n",
    "submission['segment_id'] = testsub['segment_id']\n",
    "submission['time_to_eruption'] = predictions\n",
    "submission.to_csv('submission_MLP_121320_F7T2.csv', header=True, index=False)"
   ]
  }
 ],
 "metadata": {
  "kernelspec": {
   "display_name": "Python 3",
   "language": "python",
   "name": "python3"
  },
  "language_info": {
   "codemirror_mode": {
    "name": "ipython",
    "version": 3
   },
   "file_extension": ".py",
   "mimetype": "text/x-python",
   "name": "python",
   "nbconvert_exporter": "python",
   "pygments_lexer": "ipython3",
   "version": "3.8.5"
  }
 },
 "nbformat": 4,
 "nbformat_minor": 4
}
