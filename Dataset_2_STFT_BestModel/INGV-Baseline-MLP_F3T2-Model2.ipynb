{
 "cells": [
  {
   "cell_type": "markdown",
   "metadata": {},
   "source": [
    "### MLP Model 2 (100-256-256-100-1) using STFT Dataset 2"
   ]
  },
  {
   "cell_type": "code",
   "execution_count": 1,
   "metadata": {},
   "outputs": [],
   "source": [
    "#Importing essential libraries\n",
    "from sklearn.datasets import fetch_openml\n",
    "\n",
    "import numpy as np\n",
    "import matplotlib.pyplot as plt\n",
    "%matplotlib inline\n",
    "import os \n",
    "import cv2\n",
    "import random \n",
    "import math\n",
    "import pandas as pd\n",
    "\n",
    "from datetime import datetime\n",
    "\n",
    "from sklearn import metrics\n",
    "from sklearn.metrics import accuracy_score \n",
    "from sklearn.metrics import classification_report\n",
    "from sklearn.metrics import confusion_matrix\n",
    "from tensorflow.keras.callbacks import ModelCheckpoint\n",
    "from tensorflow.keras.models import Sequential\n",
    "from tensorflow.keras.layers import Dense, Activation, Flatten\n",
    "\n",
    "from sklearn.preprocessing import StandardScaler\n",
    "from sklearn.model_selection import train_test_split\n",
    "from sklearn.model_selection import cross_val_score\n",
    "from sklearn.model_selection import cross_val_predict\n",
    "from sklearn.model_selection import GridSearchCV, RandomizedSearchCV\n",
    "from sklearn.model_selection import KFold\n",
    "from sklearn.model_selection import StratifiedKFold\n",
    "\n",
    "from tensorflow.keras.models import Sequential, model_from_json\n",
    "from tensorflow.keras import layers\n",
    "from tensorflow.keras.layers import Conv1D,Conv2D,MaxPooling1D,Flatten,Dense,Dropout,BatchNormalization, GRU, LSTM, RNN\n",
    "from tensorflow.keras import regularizers as reg\n",
    "\n",
    "import tensorflow as tf\n",
    "from tensorflow import keras\n",
    "import pickle"
   ]
  },
  {
   "cell_type": "code",
   "execution_count": 2,
   "metadata": {},
   "outputs": [],
   "source": [
    "# Importing the Training data from pickle file \n",
    "pickle_in = open(\"X_train_T2.pickle\",\"rb\")\n",
    "X_train = pickle.load(pickle_in)\n",
    "\n",
    "pickle_in = open(\"y_train_T2.pickle\",\"rb\")\n",
    "y_train = pickle.load(pickle_in)"
   ]
  },
  {
   "cell_type": "code",
   "execution_count": 3,
   "metadata": {},
   "outputs": [
    {
     "name": "stdout",
     "output_type": "stream",
     "text": [
      "X_train : (4431, 100)\n",
      "y_train : (4431,)\n"
     ]
    }
   ],
   "source": [
    "print('X_train :', X_train.shape)\n",
    "print('y_train :', y_train.shape)"
   ]
  },
  {
   "cell_type": "code",
   "execution_count": 4,
   "metadata": {},
   "outputs": [],
   "source": [
    "X_train=X_train.replace([np.inf, -np.inf, np.nan], 0)"
   ]
  },
  {
   "cell_type": "code",
   "execution_count": null,
   "metadata": {},
   "outputs": [],
   "source": [
    "# from sklearn.preprocessing import MinMaxScaler\n",
    "# scaler = MinMaxScaler()\n",
    "# X_train=scaler.fit_transform(X_train)\n",
    "# X_test=scaler.transform(X_test)"
   ]
  },
  {
   "cell_type": "code",
   "execution_count": 5,
   "metadata": {},
   "outputs": [
    {
     "name": "stdout",
     "output_type": "stream",
     "text": [
      "Model: \"sequential\"\n",
      "_________________________________________________________________\n",
      "Layer (type)                 Output Shape              Param #   \n",
      "=================================================================\n",
      "dense (Dense)                (None, 100)               10100     \n",
      "_________________________________________________________________\n",
      "dense_1 (Dense)              (None, 256)               25856     \n",
      "_________________________________________________________________\n",
      "dense_2 (Dense)              (None, 256)               65792     \n",
      "_________________________________________________________________\n",
      "dense_3 (Dense)              (None, 100)               25700     \n",
      "_________________________________________________________________\n",
      "dense_4 (Dense)              (None, 1)                 101       \n",
      "=================================================================\n",
      "Total params: 127,549\n",
      "Trainable params: 127,549\n",
      "Non-trainable params: 0\n",
      "_________________________________________________________________\n"
     ]
    }
   ],
   "source": [
    "# Model 2 has the same architecture as Model 1 but without the l1 and l2 bias and kernel regularizer\n",
    "from tensorflow.keras.optimizers import SGD\n",
    "from tensorflow.keras.callbacks import EarlyStopping\n",
    "from tensorflow.keras import regularizers\n",
    "NN_model = Sequential()\n",
    "\n",
    "# The Input Layer :\n",
    "NN_model.add(Dense(100,input_dim = X_train.shape[1], activation='relu'))\n",
    "\n",
    "# The Hidden Layers :\n",
    "NN_model.add(Dense(256,activation='relu'))\n",
    "NN_model.add(Dense(256,activation='relu'))\n",
    "NN_model.add(Dense(100,activation='relu'))\n",
    "\n",
    "# The Output Layer :\n",
    "NN_model.add(Dense(1,activation='linear'))\n",
    "\n",
    "# Compile the network :\n",
    "opt = keras.optimizers.Adam(learning_rate=0.001)\n",
    "NN_model.compile(loss='mean_absolute_error', optimizer=opt, metrics=['mean_absolute_error'])\n",
    "NN_model.summary()\n",
    "early_stopping_monitor = EarlyStopping(patience=20)\n",
    "callbacks_list = [early_stopping_monitor]"
   ]
  },
  {
   "cell_type": "code",
   "execution_count": 6,
   "metadata": {},
   "outputs": [
    {
     "name": "stdout",
     "output_type": "stream",
     "text": [
      "Epoch 1/250\n",
      "4206/4209 [============================>.] - ETA: 0s - loss: 10654973.0000 - mean_absolute_error: 10654973.0000WARNING:tensorflow:Callbacks method `on_test_batch_end` is slow compared to the batch time (batch time: 0.0000s vs `on_test_batch_end` time: 0.0010s). Check your callbacks.\n",
      "4209/4209 [==============================] - 8s 2ms/step - loss: 10650508.0000 - mean_absolute_error: 10650508.0000 - val_loss: 8482197.0000 - val_mean_absolute_error: 8482197.0000\n",
      "Epoch 2/250\n",
      "4209/4209 [==============================] - 5s 1ms/step - loss: 7974358.0000 - mean_absolute_error: 7974358.0000 - val_loss: 7355438.0000 - val_mean_absolute_error: 7355438.0000\n",
      "Epoch 3/250\n",
      "4209/4209 [==============================] - 7s 2ms/step - loss: 6887223.5000 - mean_absolute_error: 6887223.5000 - val_loss: 6654319.5000 - val_mean_absolute_error: 6654319.5000\n",
      "Epoch 4/250\n",
      "4209/4209 [==============================] - 7s 2ms/step - loss: 6263733.0000 - mean_absolute_error: 6263733.0000 - val_loss: 7184172.5000 - val_mean_absolute_error: 7184172.5000\n",
      "Epoch 5/250\n",
      "4209/4209 [==============================] - 9s 2ms/step - loss: 5885453.0000 - mean_absolute_error: 5885453.0000 - val_loss: 5756285.5000 - val_mean_absolute_error: 5756285.5000\n",
      "Epoch 6/250\n",
      "4209/4209 [==============================] - 12s 3ms/step - loss: 5510903.5000 - mean_absolute_error: 5510903.5000 - val_loss: 6468315.0000 - val_mean_absolute_error: 6468315.0000\n",
      "Epoch 7/250\n",
      "4209/4209 [==============================] - 13s 3ms/step - loss: 5311402.5000 - mean_absolute_error: 5311402.5000 - val_loss: 5798789.0000 - val_mean_absolute_error: 5798789.0000\n",
      "Epoch 8/250\n",
      "4209/4209 [==============================] - 9s 2ms/step - loss: 5114136.0000 - mean_absolute_error: 5114136.0000 - val_loss: 5262492.5000 - val_mean_absolute_error: 5262492.5000\n",
      "Epoch 9/250\n",
      "4209/4209 [==============================] - 11s 3ms/step - loss: 4865417.5000 - mean_absolute_error: 4865417.5000 - val_loss: 5142351.5000 - val_mean_absolute_error: 5142351.5000\n",
      "Epoch 10/250\n",
      "4209/4209 [==============================] - 10s 2ms/step - loss: 4702718.0000 - mean_absolute_error: 4702718.0000 - val_loss: 5352061.5000 - val_mean_absolute_error: 5352061.5000\n",
      "Epoch 11/250\n",
      "4209/4209 [==============================] - 10s 2ms/step - loss: 4528953.5000 - mean_absolute_error: 4528953.5000 - val_loss: 4825638.0000 - val_mean_absolute_error: 4825638.0000\n",
      "Epoch 12/250\n",
      "4209/4209 [==============================] - 9s 2ms/step - loss: 4351006.0000 - mean_absolute_error: 4351006.0000 - val_loss: 4347253.5000 - val_mean_absolute_error: 4347253.5000\n",
      "Epoch 13/250\n",
      "4209/4209 [==============================] - 8s 2ms/step - loss: 4308983.0000 - mean_absolute_error: 4308983.0000 - val_loss: 5040173.5000 - val_mean_absolute_error: 5040173.5000\n",
      "Epoch 14/250\n",
      "4209/4209 [==============================] - 8s 2ms/step - loss: 4094940.2500 - mean_absolute_error: 4094940.2500 - val_loss: 5831750.0000 - val_mean_absolute_error: 5831750.0000\n",
      "Epoch 15/250\n",
      "4209/4209 [==============================] - 9s 2ms/step - loss: 3976396.7500 - mean_absolute_error: 3976396.7500 - val_loss: 4189819.0000 - val_mean_absolute_error: 4189819.0000\n",
      "Epoch 16/250\n",
      "4209/4209 [==============================] - 8s 2ms/step - loss: 3856210.5000 - mean_absolute_error: 3856210.5000 - val_loss: 4553222.5000 - val_mean_absolute_error: 4553222.5000\n",
      "Epoch 17/250\n",
      "4209/4209 [==============================] - 8s 2ms/step - loss: 3807264.2500 - mean_absolute_error: 3807264.2500 - val_loss: 4131572.7500 - val_mean_absolute_error: 4131572.7500\n",
      "Epoch 18/250\n",
      "4209/4209 [==============================] - 8s 2ms/step - loss: 3678316.5000 - mean_absolute_error: 3678316.5000 - val_loss: 3953646.7500 - val_mean_absolute_error: 3953646.7500\n",
      "Epoch 19/250\n",
      "4209/4209 [==============================] - 7s 2ms/step - loss: 3607630.2500 - mean_absolute_error: 3607630.2500 - val_loss: 3869276.5000 - val_mean_absolute_error: 3869276.5000\n",
      "Epoch 20/250\n",
      "4209/4209 [==============================] - 7s 2ms/step - loss: 3597107.0000 - mean_absolute_error: 3597107.0000 - val_loss: 4600374.0000 - val_mean_absolute_error: 4600374.0000\n",
      "Epoch 21/250\n",
      "4209/4209 [==============================] - 7s 2ms/step - loss: 3473234.5000 - mean_absolute_error: 3473234.5000 - val_loss: 3759471.2500 - val_mean_absolute_error: 3759471.2500\n",
      "Epoch 22/250\n",
      "4209/4209 [==============================] - 7s 2ms/step - loss: 3474429.2500 - mean_absolute_error: 3474429.2500 - val_loss: 5324264.0000 - val_mean_absolute_error: 5324264.0000\n",
      "Epoch 23/250\n",
      "4209/4209 [==============================] - 7s 2ms/step - loss: 3355481.7500 - mean_absolute_error: 3355481.7500 - val_loss: 4075229.0000 - val_mean_absolute_error: 4075229.0000\n",
      "Epoch 24/250\n",
      "4209/4209 [==============================] - 7s 2ms/step - loss: 3294141.7500 - mean_absolute_error: 3294141.7500 - val_loss: 3884121.7500 - val_mean_absolute_error: 3884121.7500\n",
      "Epoch 25/250\n",
      "4209/4209 [==============================] - 6s 2ms/step - loss: 3243427.2500 - mean_absolute_error: 3243427.2500 - val_loss: 3894148.2500 - val_mean_absolute_error: 3894148.2500\n",
      "Epoch 26/250\n",
      "4209/4209 [==============================] - 6s 2ms/step - loss: 3202268.2500 - mean_absolute_error: 3202268.2500 - val_loss: 3960383.2500 - val_mean_absolute_error: 3960383.2500\n",
      "Epoch 27/250\n",
      "4209/4209 [==============================] - 7s 2ms/step - loss: 3153680.5000 - mean_absolute_error: 3153680.5000 - val_loss: 3473731.7500 - val_mean_absolute_error: 3473731.7500\n",
      "Epoch 28/250\n",
      "4209/4209 [==============================] - 7s 2ms/step - loss: 3106669.2500 - mean_absolute_error: 3106669.2500 - val_loss: 4242772.0000 - val_mean_absolute_error: 4242772.0000\n",
      "Epoch 29/250\n",
      "4209/4209 [==============================] - 6s 2ms/step - loss: 2997773.5000 - mean_absolute_error: 2997773.5000 - val_loss: 3896747.2500 - val_mean_absolute_error: 3896747.2500\n",
      "Epoch 30/250\n",
      "4209/4209 [==============================] - 6s 2ms/step - loss: 2989709.7500 - mean_absolute_error: 2989709.7500 - val_loss: 3569050.7500 - val_mean_absolute_error: 3569050.7500\n",
      "Epoch 31/250\n",
      "4209/4209 [==============================] - 7s 2ms/step - loss: 3009084.5000 - mean_absolute_error: 3009084.5000 - val_loss: 3686687.5000 - val_mean_absolute_error: 3686687.5000\n",
      "Epoch 32/250\n",
      "4209/4209 [==============================] - 7s 2ms/step - loss: 2917600.0000 - mean_absolute_error: 2917600.0000 - val_loss: 4377169.5000 - val_mean_absolute_error: 4377169.5000\n",
      "Epoch 33/250\n",
      "4209/4209 [==============================] - 7s 2ms/step - loss: 2872260.7500 - mean_absolute_error: 2872260.7500 - val_loss: 3544334.7500 - val_mean_absolute_error: 3544334.7500\n",
      "Epoch 34/250\n",
      "4209/4209 [==============================] - 7s 2ms/step - loss: 2817971.2500 - mean_absolute_error: 2817971.2500 - val_loss: 3764906.5000 - val_mean_absolute_error: 3764906.5000\n",
      "Epoch 35/250\n",
      "4209/4209 [==============================] - 9s 2ms/step - loss: 2830089.2500 - mean_absolute_error: 2830089.2500 - val_loss: 3514183.5000 - val_mean_absolute_error: 3514183.5000\n",
      "Epoch 36/250\n",
      "4209/4209 [==============================] - 7s 2ms/step - loss: 2768372.0000 - mean_absolute_error: 2768372.0000 - val_loss: 3371090.5000 - val_mean_absolute_error: 3371090.5000\n",
      "Epoch 37/250\n",
      "4209/4209 [==============================] - 7s 2ms/step - loss: 2748764.2500 - mean_absolute_error: 2748764.2500 - val_loss: 3914928.7500 - val_mean_absolute_error: 3914928.7500\n",
      "Epoch 38/250\n",
      "4209/4209 [==============================] - 7s 2ms/step - loss: 2676800.5000 - mean_absolute_error: 2676800.5000 - val_loss: 3290107.0000 - val_mean_absolute_error: 3290107.0000\n",
      "Epoch 39/250\n",
      "4209/4209 [==============================] - 7s 2ms/step - loss: 2658547.0000 - mean_absolute_error: 2658547.0000 - val_loss: 4193485.7500 - val_mean_absolute_error: 4193485.7500\n",
      "Epoch 40/250\n",
      "4209/4209 [==============================] - 7s 2ms/step - loss: 2631688.0000 - mean_absolute_error: 2631688.0000 - val_loss: 4021815.0000 - val_mean_absolute_error: 4021815.0000\n",
      "Epoch 41/250\n",
      "4209/4209 [==============================] - 7s 2ms/step - loss: 2633063.2500 - mean_absolute_error: 2633063.2500 - val_loss: 3504569.0000 - val_mean_absolute_error: 3504569.0000\n",
      "Epoch 42/250\n",
      "4209/4209 [==============================] - 7s 2ms/step - loss: 2559537.0000 - mean_absolute_error: 2559537.0000 - val_loss: 3328637.7500 - val_mean_absolute_error: 3328637.7500\n",
      "Epoch 43/250\n",
      "4209/4209 [==============================] - 7s 2ms/step - loss: 2532650.7500 - mean_absolute_error: 2532650.7500 - val_loss: 3335450.5000 - val_mean_absolute_error: 3335450.5000\n",
      "Epoch 44/250\n",
      "4209/4209 [==============================] - 7s 2ms/step - loss: 2537651.5000 - mean_absolute_error: 2537651.5000 - val_loss: 3270446.7500 - val_mean_absolute_error: 3270446.7500\n",
      "Epoch 45/250\n",
      "4209/4209 [==============================] - 7s 2ms/step - loss: 2520259.7500 - mean_absolute_error: 2520259.7500 - val_loss: 3211458.0000 - val_mean_absolute_error: 3211458.0000\n",
      "Epoch 46/250\n",
      "4209/4209 [==============================] - 9s 2ms/step - loss: 2480446.0000 - mean_absolute_error: 2480446.0000 - val_loss: 3198630.7500 - val_mean_absolute_error: 3198630.7500\n",
      "Epoch 47/250\n",
      "4209/4209 [==============================] - 9s 2ms/step - loss: 2483192.5000 - mean_absolute_error: 2483192.5000 - val_loss: 3583827.5000 - val_mean_absolute_error: 3583827.5000\n",
      "Epoch 48/250\n",
      "4209/4209 [==============================] - 6s 2ms/step - loss: 2451626.0000 - mean_absolute_error: 2451626.0000 - val_loss: 3355781.5000 - val_mean_absolute_error: 3355781.5000\n",
      "Epoch 49/250\n",
      "4209/4209 [==============================] - 7s 2ms/step - loss: 2389200.7500 - mean_absolute_error: 2389200.7500 - val_loss: 3262333.5000 - val_mean_absolute_error: 3262333.5000\n",
      "Epoch 50/250\n",
      "4209/4209 [==============================] - 7s 2ms/step - loss: 2381737.0000 - mean_absolute_error: 2381737.0000 - val_loss: 3420839.0000 - val_mean_absolute_error: 3420839.0000\n",
      "Epoch 51/250\n",
      "4209/4209 [==============================] - 6s 2ms/step - loss: 2390606.5000 - mean_absolute_error: 2390606.5000 - val_loss: 3221142.5000 - val_mean_absolute_error: 3221142.5000\n",
      "Epoch 52/250\n",
      "4209/4209 [==============================] - 6s 2ms/step - loss: 2325281.2500 - mean_absolute_error: 2325281.2500 - val_loss: 2783124.2500 - val_mean_absolute_error: 2783124.2500\n",
      "Epoch 53/250\n",
      "4209/4209 [==============================] - 7s 2ms/step - loss: 2299486.0000 - mean_absolute_error: 2299486.0000 - val_loss: 3331728.2500 - val_mean_absolute_error: 3331728.2500\n",
      "Epoch 54/250\n",
      "4209/4209 [==============================] - 8s 2ms/step - loss: 2317203.2500 - mean_absolute_error: 2317203.2500 - val_loss: 2987486.2500 - val_mean_absolute_error: 2987486.2500\n",
      "Epoch 55/250\n",
      "4209/4209 [==============================] - 6s 2ms/step - loss: 2281685.0000 - mean_absolute_error: 2281685.0000 - val_loss: 3049286.7500 - val_mean_absolute_error: 3049286.7500\n",
      "Epoch 56/250\n",
      "4209/4209 [==============================] - 6s 2ms/step - loss: 2311039.0000 - mean_absolute_error: 2311039.0000 - val_loss: 3119297.5000 - val_mean_absolute_error: 3119297.5000\n",
      "Epoch 57/250\n",
      "4209/4209 [==============================] - 7s 2ms/step - loss: 2288079.0000 - mean_absolute_error: 2288079.0000 - val_loss: 3100402.7500 - val_mean_absolute_error: 3100402.7500\n",
      "Epoch 58/250\n",
      "4209/4209 [==============================] - 7s 2ms/step - loss: 2253905.7500 - mean_absolute_error: 2253905.7500 - val_loss: 3045801.0000 - val_mean_absolute_error: 3045801.0000\n",
      "Epoch 59/250\n",
      "4209/4209 [==============================] - 6s 2ms/step - loss: 2254263.7500 - mean_absolute_error: 2254263.7500 - val_loss: 3394337.2500 - val_mean_absolute_error: 3394337.2500\n",
      "Epoch 60/250\n",
      "4209/4209 [==============================] - 6s 2ms/step - loss: 2224331.5000 - mean_absolute_error: 2224331.5000 - val_loss: 2995100.0000 - val_mean_absolute_error: 2995100.0000\n",
      "Epoch 61/250\n",
      "4209/4209 [==============================] - 6s 2ms/step - loss: 2194130.0000 - mean_absolute_error: 2194130.0000 - val_loss: 2846543.7500 - val_mean_absolute_error: 2846543.7500\n",
      "Epoch 62/250\n",
      "4209/4209 [==============================] - 6s 2ms/step - loss: 2198775.7500 - mean_absolute_error: 2198775.7500 - val_loss: 2828796.0000 - val_mean_absolute_error: 2828796.0000\n",
      "Epoch 63/250\n",
      "4209/4209 [==============================] - 8s 2ms/step - loss: 2153807.7500 - mean_absolute_error: 2153807.7500 - val_loss: 2932905.2500 - val_mean_absolute_error: 2932905.2500\n",
      "Epoch 64/250\n",
      "4209/4209 [==============================] - 6s 2ms/step - loss: 2154439.7500 - mean_absolute_error: 2154439.7500 - val_loss: 2955763.5000 - val_mean_absolute_error: 2955763.5000\n",
      "Epoch 65/250\n",
      "4209/4209 [==============================] - 6s 2ms/step - loss: 2128497.2500 - mean_absolute_error: 2128497.2500 - val_loss: 2803005.7500 - val_mean_absolute_error: 2803005.7500\n",
      "Epoch 66/250\n",
      "4209/4209 [==============================] - 6s 2ms/step - loss: 2133891.0000 - mean_absolute_error: 2133891.0000 - val_loss: 2657948.0000 - val_mean_absolute_error: 2657948.0000\n",
      "Epoch 67/250\n",
      "4209/4209 [==============================] - 7s 2ms/step - loss: 2128674.0000 - mean_absolute_error: 2128674.0000 - val_loss: 2716990.0000 - val_mean_absolute_error: 2716990.0000\n",
      "Epoch 68/250\n",
      "4209/4209 [==============================] - 6s 2ms/step - loss: 2090148.7500 - mean_absolute_error: 2090148.7500 - val_loss: 2812051.0000 - val_mean_absolute_error: 2812051.0000\n",
      "Epoch 69/250\n",
      "4209/4209 [==============================] - 7s 2ms/step - loss: 2077103.3750 - mean_absolute_error: 2077103.3750 - val_loss: 2964655.5000 - val_mean_absolute_error: 2964655.5000\n",
      "Epoch 70/250\n",
      "4209/4209 [==============================] - 8s 2ms/step - loss: 2011367.2500 - mean_absolute_error: 2011367.2500 - val_loss: 3360023.0000 - val_mean_absolute_error: 3360023.0000\n",
      "Epoch 71/250\n",
      "4209/4209 [==============================] - 7s 2ms/step - loss: 2045982.3750 - mean_absolute_error: 2045982.3750 - val_loss: 2811585.2500 - val_mean_absolute_error: 2811585.2500\n",
      "Epoch 72/250\n",
      "4209/4209 [==============================] - 7s 2ms/step - loss: 2036135.6250 - mean_absolute_error: 2036135.6250 - val_loss: 2849580.5000 - val_mean_absolute_error: 2849580.5000\n",
      "Epoch 73/250\n",
      "4209/4209 [==============================] - 6s 2ms/step - loss: 1973808.1250 - mean_absolute_error: 1973808.1250 - val_loss: 2604337.0000 - val_mean_absolute_error: 2604337.0000\n",
      "Epoch 74/250\n",
      "4209/4209 [==============================] - 7s 2ms/step - loss: 1966441.1250 - mean_absolute_error: 1966441.1250 - val_loss: 2686790.7500 - val_mean_absolute_error: 2686790.7500\n",
      "Epoch 75/250\n",
      "4209/4209 [==============================] - 8s 2ms/step - loss: 1977018.3750 - mean_absolute_error: 1977018.3750 - val_loss: 2818736.7500 - val_mean_absolute_error: 2818736.7500\n",
      "Epoch 76/250\n",
      "4209/4209 [==============================] - 7s 2ms/step - loss: 1971432.5000 - mean_absolute_error: 1971432.5000 - val_loss: 3035418.2500 - val_mean_absolute_error: 3035418.2500\n",
      "Epoch 77/250\n",
      "4209/4209 [==============================] - 8s 2ms/step - loss: 1989462.2500 - mean_absolute_error: 1989462.2500 - val_loss: 2942582.5000 - val_mean_absolute_error: 2942582.5000\n",
      "Epoch 78/250\n",
      "4209/4209 [==============================] - 7s 2ms/step - loss: 1944293.3750 - mean_absolute_error: 1944293.3750 - val_loss: 2738262.0000 - val_mean_absolute_error: 2738262.0000\n",
      "Epoch 79/250\n",
      "4209/4209 [==============================] - 7s 2ms/step - loss: 1964712.7500 - mean_absolute_error: 1964712.7500 - val_loss: 2739776.0000 - val_mean_absolute_error: 2739776.0000\n",
      "Epoch 80/250\n",
      "4209/4209 [==============================] - 7s 2ms/step - loss: 1933121.5000 - mean_absolute_error: 1933121.5000 - val_loss: 2803820.5000 - val_mean_absolute_error: 2803820.5000\n",
      "Epoch 81/250\n",
      "4209/4209 [==============================] - 7s 2ms/step - loss: 1888331.5000 - mean_absolute_error: 1888331.5000 - val_loss: 2543107.7500 - val_mean_absolute_error: 2543107.7500\n",
      "Epoch 82/250\n",
      "4209/4209 [==============================] - 7s 2ms/step - loss: 1901656.6250 - mean_absolute_error: 1901656.6250 - val_loss: 2972907.7500 - val_mean_absolute_error: 2972907.7500\n",
      "Epoch 83/250\n",
      "4209/4209 [==============================] - 8s 2ms/step - loss: 1889023.5000 - mean_absolute_error: 1889023.5000 - val_loss: 3261182.5000 - val_mean_absolute_error: 3261182.5000\n",
      "Epoch 84/250\n",
      "4209/4209 [==============================] - 7s 2ms/step - loss: 1895150.8750 - mean_absolute_error: 1895150.8750 - val_loss: 2405047.2500 - val_mean_absolute_error: 2405047.2500\n"
     ]
    },
    {
     "name": "stdout",
     "output_type": "stream",
     "text": [
      "Epoch 85/250\n",
      "4209/4209 [==============================] - 7s 2ms/step - loss: 1875998.6250 - mean_absolute_error: 1875998.6250 - val_loss: 3007396.2500 - val_mean_absolute_error: 3007396.2500\n",
      "Epoch 86/250\n",
      "4209/4209 [==============================] - 7s 2ms/step - loss: 1867288.8750 - mean_absolute_error: 1867288.8750 - val_loss: 2818150.7500 - val_mean_absolute_error: 2818150.7500\n",
      "Epoch 87/250\n",
      "4209/4209 [==============================] - 8s 2ms/step - loss: 1829150.7500 - mean_absolute_error: 1829150.7500 - val_loss: 2760385.5000 - val_mean_absolute_error: 2760385.5000\n",
      "Epoch 88/250\n",
      "4209/4209 [==============================] - 9s 2ms/step - loss: 1828676.5000 - mean_absolute_error: 1828676.5000 - val_loss: 2509370.7500 - val_mean_absolute_error: 2509370.7500\n",
      "Epoch 89/250\n",
      "4209/4209 [==============================] - 8s 2ms/step - loss: 1809047.8750 - mean_absolute_error: 1809047.8750 - val_loss: 2688299.7500 - val_mean_absolute_error: 2688299.7500\n",
      "Epoch 90/250\n",
      "4209/4209 [==============================] - 6s 2ms/step - loss: 1818007.6250 - mean_absolute_error: 1818007.6250 - val_loss: 2529235.5000 - val_mean_absolute_error: 2529235.5000\n",
      "Epoch 91/250\n",
      "4209/4209 [==============================] - 6s 2ms/step - loss: 1820648.5000 - mean_absolute_error: 1820648.5000 - val_loss: 2793398.2500 - val_mean_absolute_error: 2793398.2500\n",
      "Epoch 92/250\n",
      "4209/4209 [==============================] - 6s 2ms/step - loss: 1803680.2500 - mean_absolute_error: 1803680.2500 - val_loss: 2463226.2500 - val_mean_absolute_error: 2463226.2500\n",
      "Epoch 93/250\n",
      "4209/4209 [==============================] - 7s 2ms/step - loss: 1784047.2500 - mean_absolute_error: 1784047.2500 - val_loss: 2514999.2500 - val_mean_absolute_error: 2514999.2500\n",
      "Epoch 94/250\n",
      "4209/4209 [==============================] - 6s 2ms/step - loss: 1780647.2500 - mean_absolute_error: 1780647.2500 - val_loss: 3123272.7500 - val_mean_absolute_error: 3123272.7500\n",
      "Epoch 95/250\n",
      "4209/4209 [==============================] - 6s 2ms/step - loss: 1751583.5000 - mean_absolute_error: 1751583.5000 - val_loss: 2429079.7500 - val_mean_absolute_error: 2429079.7500\n",
      "Epoch 96/250\n",
      "4209/4209 [==============================] - 6s 2ms/step - loss: 1753984.2500 - mean_absolute_error: 1753984.2500 - val_loss: 2312234.7500 - val_mean_absolute_error: 2312234.7500\n",
      "Epoch 97/250\n",
      "4209/4209 [==============================] - 8s 2ms/step - loss: 1739537.6250 - mean_absolute_error: 1739537.6250 - val_loss: 2420106.5000 - val_mean_absolute_error: 2420106.5000\n",
      "Epoch 98/250\n",
      "4209/4209 [==============================] - 8s 2ms/step - loss: 1743789.6250 - mean_absolute_error: 1743789.6250 - val_loss: 2484583.7500 - val_mean_absolute_error: 2484583.7500\n",
      "Epoch 99/250\n",
      "4209/4209 [==============================] - 7s 2ms/step - loss: 1725416.3750 - mean_absolute_error: 1725416.3750 - val_loss: 2918161.7500 - val_mean_absolute_error: 2918161.7500\n",
      "Epoch 100/250\n",
      "4209/4209 [==============================] - 8s 2ms/step - loss: 1730809.2500 - mean_absolute_error: 1730809.2500 - val_loss: 2772469.0000 - val_mean_absolute_error: 2772469.0000\n",
      "Epoch 101/250\n",
      "4209/4209 [==============================] - 7s 2ms/step - loss: 1697689.6250 - mean_absolute_error: 1697689.6250 - val_loss: 2745547.5000 - val_mean_absolute_error: 2745547.5000\n",
      "Epoch 102/250\n",
      "4209/4209 [==============================] - 8s 2ms/step - loss: 1667657.7500 - mean_absolute_error: 1667657.7500 - val_loss: 2760375.2500 - val_mean_absolute_error: 2760375.2500\n",
      "Epoch 103/250\n",
      "4209/4209 [==============================] - 6s 2ms/step - loss: 1742449.1250 - mean_absolute_error: 1742449.1250 - val_loss: 2492703.5000 - val_mean_absolute_error: 2492703.5000\n",
      "Epoch 104/250\n",
      "4209/4209 [==============================] - 7s 2ms/step - loss: 1701703.0000 - mean_absolute_error: 1701703.0000 - val_loss: 2571949.2500 - val_mean_absolute_error: 2571949.2500\n",
      "Epoch 105/250\n",
      "4209/4209 [==============================] - 6s 2ms/step - loss: 1702037.0000 - mean_absolute_error: 1702037.0000 - val_loss: 2912854.0000 - val_mean_absolute_error: 2912854.0000\n",
      "Epoch 106/250\n",
      "4209/4209 [==============================] - 6s 2ms/step - loss: 1665181.6250 - mean_absolute_error: 1665181.6250 - val_loss: 2812233.7500 - val_mean_absolute_error: 2812233.7500\n",
      "Epoch 107/250\n",
      "4209/4209 [==============================] - 6s 2ms/step - loss: 1685130.2500 - mean_absolute_error: 1685130.2500 - val_loss: 2935614.2500 - val_mean_absolute_error: 2935614.2500\n",
      "Epoch 108/250\n",
      "4209/4209 [==============================] - 6s 2ms/step - loss: 1667350.1250 - mean_absolute_error: 1667350.1250 - val_loss: 2508339.0000 - val_mean_absolute_error: 2508339.0000\n",
      "Epoch 109/250\n",
      "4209/4209 [==============================] - 7s 2ms/step - loss: 1629004.0000 - mean_absolute_error: 1629004.0000 - val_loss: 2508285.7500 - val_mean_absolute_error: 2508285.7500\n",
      "Epoch 110/250\n",
      "4209/4209 [==============================] - 7s 2ms/step - loss: 1628028.6250 - mean_absolute_error: 1628028.6250 - val_loss: 2873997.5000 - val_mean_absolute_error: 2873997.5000\n",
      "Epoch 111/250\n",
      "4209/4209 [==============================] - 6s 2ms/step - loss: 1652040.6250 - mean_absolute_error: 1652040.6250 - val_loss: 2454486.7500 - val_mean_absolute_error: 2454486.7500\n",
      "Epoch 112/250\n",
      "4209/4209 [==============================] - 7s 2ms/step - loss: 1621190.8750 - mean_absolute_error: 1621190.8750 - val_loss: 2710292.7500 - val_mean_absolute_error: 2710292.7500\n",
      "Epoch 113/250\n",
      "4209/4209 [==============================] - 7s 2ms/step - loss: 1596008.8750 - mean_absolute_error: 1596008.8750 - val_loss: 2689114.2500 - val_mean_absolute_error: 2689114.2500\n",
      "Epoch 114/250\n",
      "4209/4209 [==============================] - 8s 2ms/step - loss: 1621980.1250 - mean_absolute_error: 1621980.1250 - val_loss: 2372022.2500 - val_mean_absolute_error: 2372022.2500\n",
      "Epoch 115/250\n",
      "4209/4209 [==============================] - 8s 2ms/step - loss: 1582971.3750 - mean_absolute_error: 1582971.3750 - val_loss: 2572028.0000 - val_mean_absolute_error: 2572028.0000\n",
      "Epoch 116/250\n",
      "4209/4209 [==============================] - 7s 2ms/step - loss: 1614293.8750 - mean_absolute_error: 1614293.8750 - val_loss: 2547394.2500 - val_mean_absolute_error: 2547394.2500\n"
     ]
    },
    {
     "data": {
      "text/plain": [
       "<tensorflow.python.keras.callbacks.History at 0x1b54ba11d30>"
      ]
     },
     "execution_count": 6,
     "metadata": {},
     "output_type": "execute_result"
    }
   ],
   "source": [
    "#Model fit\n",
    "NN_model.fit(X_train, y_train, epochs=250, batch_size=1, validation_split = 0.05 , callbacks=callbacks_list )"
   ]
  },
  {
   "cell_type": "code",
   "execution_count": 15,
   "metadata": {},
   "outputs": [],
   "source": [
    "#Saving the model for Ensembling\n",
    "filename = 'model_F3T2.h5'\n",
    "NN_model.save(filename)"
   ]
  },
  {
   "cell_type": "code",
   "execution_count": 7,
   "metadata": {},
   "outputs": [],
   "source": [
    "def plotfig (ypred, yactual, strtitle, y_max):\n",
    "    plt.scatter(ypred, yactual.values.ravel())\n",
    "    plt.title(strtitle)\n",
    "    plt.plot([(0, 0), (y_max, y_max)], [(0, 0), (y_max, y_max)])\n",
    "    plt.xlim(0, y_max)\n",
    "    plt.ylim(0, y_max)\n",
    "    plt.xlabel('Predicted', fontsize=12)\n",
    "    plt.ylabel('Actual', fontsize=12)\n",
    "    plt.show()"
   ]
  },
  {
   "cell_type": "code",
   "execution_count": 8,
   "metadata": {},
   "outputs": [
    {
     "data": {
      "image/png": "[encoded data removed]",
      "text/plain": [
       "<Figure size 432x288 with 1 Axes>"
      ]
     },
     "metadata": {
      "needs_background": "light"
     },
     "output_type": "display_data"
    }
   ],
   "source": [
    "#Best fit line for Training data \n",
    "plotfig(NN_model.predict(X_train), y_train, 'Predicted vs. Actual responses for MLP', max(y_train) + 0.1*max(y_train))"
   ]
  },
  {
   "cell_type": "code",
   "execution_count": 9,
   "metadata": {},
   "outputs": [],
   "source": [
    "#Importing the test data \n",
    "pickle_in = open(\"X_test_T2.pickle\",\"rb\")\n",
    "X_test = pickle.load(pickle_in)"
   ]
  },
  {
   "cell_type": "code",
   "execution_count": 10,
   "metadata": {},
   "outputs": [
    {
     "name": "stdout",
     "output_type": "stream",
     "text": [
      "[[24373718. ]\n",
      " [42172910. ]\n",
      " [27205882. ]\n",
      " ...\n",
      " [ 6622201.5]\n",
      " [42345344. ]\n",
      " [47683984. ]]\n"
     ]
    }
   ],
   "source": [
    "predictions = NN_model.predict(X_test)\n",
    "print(predictions)"
   ]
  },
  {
   "cell_type": "code",
   "execution_count": 11,
   "metadata": {},
   "outputs": [
    {
     "data": {
      "text/plain": [
       "(4520, 1)"
      ]
     },
     "execution_count": 11,
     "metadata": {},
     "output_type": "execute_result"
    }
   ],
   "source": [
    "predictions.shape"
   ]
  },
  {
   "cell_type": "code",
   "execution_count": 12,
   "metadata": {},
   "outputs": [],
   "source": [
    "testsub =  pd.read_csv('C:/Datasets/predict-volcanic-eruptions-ingv-oe/sample_submission.csv')"
   ]
  },
  {
   "cell_type": "code",
   "execution_count": 13,
   "metadata": {},
   "outputs": [],
   "source": [
    "#Creating Submission file to kaggle \n",
    "submission = pd.DataFrame()\n",
    "submission['segment_id'] = testsub['segment_id']\n",
    "submission['time_to_eruption'] = predictions\n",
    "submission.to_csv('submission_MLP_121320_Best1.csv', header=True, index=False)"
   ]
  }
 ],
 "metadata": {
  "kernelspec": {
   "display_name": "Python 3",
   "language": "python",
   "name": "python3"
  },
  "language_info": {
   "codemirror_mode": {
    "name": "ipython",
    "version": 3
   },
   "file_extension": ".py",
   "mimetype": "text/x-python",
   "name": "python",
   "nbconvert_exporter": "python",
   "pygments_lexer": "ipython3",
   "version": "3.8.5"
  }
 },
 "nbformat": 4,
 "nbformat_minor": 4
}
